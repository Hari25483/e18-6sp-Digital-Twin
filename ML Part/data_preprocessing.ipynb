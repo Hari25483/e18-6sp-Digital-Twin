{
 "cells": [
  {
   "cell_type": "code",
   "execution_count": 1,
   "metadata": {},
   "outputs": [],
   "source": [
    "import requests\n",
    "import pandas as pd\n",
    "from concurrent.futures import ThreadPoolExecutor\n",
    "from tqdm import tqdm\n",
    "import time\n",
    "import matplotlib.pyplot as plt\n",
    "import seaborn as sns\n",
    "\n"
   ]
  },
  {
   "cell_type": "code",
   "execution_count": 2,
   "metadata": {},
   "outputs": [
    {
     "name": "stderr",
     "output_type": "stream",
     "text": [
      "Progress:   0%|          | 0/107 [00:00<?, ?day/s]"
     ]
    },
    {
     "name": "stdout",
     "output_type": "stream",
     "text": [
      "Error: Could not retrieve data for date 2020-10-31\n"
     ]
    },
    {
     "name": "stderr",
     "output_type": "stream",
     "text": [
      "Progress: 100%|██████████| 107/107 [00:20<00:00,  5.10day/s]\n"
     ]
    },
    {
     "name": "stdout",
     "output_type": "stream",
     "text": [
      "Execution Time: 20.98292088508606 seconds\n"
     ]
    }
   ],
   "source": [
    "base_url = \"http://agbc-fe.pdn.ac.lk/api/v1/data/?sensor=10008&date=\"\n",
    "\n",
    "start_date = pd.to_datetime(\"2020-10-22\")\n",
    "end_date = pd.to_datetime(\"2021-02-05\")\n",
    "\n",
    "date_range = pd.date_range(start=start_date, end=end_date, freq=\"D\")\n",
    "\n",
    "all_data = []\n",
    "\n",
    "def fetch_data(date):\n",
    "    date_str = date.strftime(\"%Y-%m-%d\")\n",
    "    url = base_url + date_str\n",
    "\n",
    "    try:\n",
    "        response = requests.get(url)\n",
    "        data = response.json()\n",
    "        return data['data']\n",
    "    except:\n",
    "        print(f\"Error: Could not retrieve data for date {date_str}\")\n",
    "        return []\n",
    "\n",
    "start_time = time.time()  # Get the current time before starting the execution\n",
    "\n",
    "\n",
    "# Create a ThreadPoolExecutor with the maximum number of workers\n",
    "executor = ThreadPoolExecutor(max_workers=None)\n",
    "\n",
    "# Use tqdm to track the progress\n",
    "with tqdm(total=len(date_range), desc=\"Progress\", unit=\"day\") as pbar:\n",
    "    # Submit the fetch_data task to the executor for each date in parallel\n",
    "    futures = [executor.submit(fetch_data, date) for date in date_range]\n",
    "    \n",
    "    # Retrieve the results from the completed futures\n",
    "    for future in futures:\n",
    "        all_data.extend(future.result())\n",
    "        pbar.update(1)\n",
    "    \n",
    "\n",
    "end_time = time.time()  # Get the current time after finishing the execution\n",
    "execution_time = end_time - start_time\n",
    "\n",
    "print(\"Execution Time:\", execution_time, \"seconds\")\n",
    "\n",
    "# Create the DataFrame from the collected data\n",
    "df = pd.DataFrame(all_data, dtype=str)\n",
    "df.to_csv('dataws.csv', index=False)\n"
   ]
  },
  {
   "cell_type": "code",
   "execution_count": 3,
   "metadata": {
    "colab": {
     "base_uri": "https://localhost:8080/"
    },
    "id": "CXMbj9kvrn1H",
    "outputId": "56c43792-dfe6-4cc4-9654-1b01d336140f"
   },
   "outputs": [
    {
     "name": "stdout",
     "output_type": "stream",
     "text": [
      "siteId       0\n",
      "seqNo        0\n",
      "date         0\n",
      "time         0\n",
      "temp1        0\n",
      "temp2        0\n",
      "temp3        0\n",
      "humidity1    0\n",
      "humidity2    0\n",
      "humidity3    0\n",
      "light        0\n",
      "dtype: int64\n"
     ]
    }
   ],
   "source": [
    "# check for missing values\n",
    "print(df.isnull().sum())"
   ]
  },
  {
   "cell_type": "code",
   "execution_count": 4,
   "metadata": {
    "id": "zBhqM74Brs51"
   },
   "outputs": [],
   "source": [
    "# drop rows with missing values\n",
    "df.dropna(inplace=True)"
   ]
  },
  {
   "cell_type": "code",
   "execution_count": 5,
   "metadata": {
    "id": "joYskXyPrzA8"
   },
   "outputs": [],
   "source": [
    "# Drop duplicate rows\n",
    "df=df.drop_duplicates(keep='first')"
   ]
  },
  {
   "cell_type": "code",
   "execution_count": 6,
   "metadata": {
    "colab": {
     "base_uri": "https://localhost:8080/",
     "height": 206
    },
    "id": "gEd3DbvksApo",
    "outputId": "a1a4440a-e2ab-4d00-9060-73107b549e57"
   },
   "outputs": [
    {
     "name": "stdout",
     "output_type": "stream",
     "text": [
      "       siteId  seqNo         date       time  temp1  temp2  temp3 humidity1   \n",
      "257613      0   2869   2021-02-05   23:55:03    NaN   23.3     22       NaN  \\\n",
      "257614      0   2870   2021-02-05   23:55:31   22.2   23.3   22.1      99.9   \n",
      "257615      0   2871   2021-02-05   23:56:03    NaN   23.3   22.2       NaN   \n",
      "257616      0   2872   2021-02-05   23:56:31   22.2   23.3   22.1      99.9   \n",
      "257617      0   2873   2021-02-05   23:57:05    NaN   23.3   22.1       NaN   \n",
      "257618      0   2874   2021-02-05   23:57:31   22.2   23.3   22.1      99.9   \n",
      "257619      0   2875   2021-02-05   23:58:01   22.2   23.3   22.1      99.9   \n",
      "257620      0   2876   2021-02-05   23:58:33    NaN   23.3   22.2       NaN   \n",
      "257621      0   2877   2021-02-05   23:59:01   22.3   23.3   22.2      99.9   \n",
      "257622      0   2878   2021-02-05   23:59:31   22.3   23.3   22.2      99.9   \n",
      "\n",
      "       humidity2 humidity3   light  \n",
      "257613        95        95   1.042  \n",
      "257614        95        95   1.042  \n",
      "257615        95        95   1.042  \n",
      "257616        95        95   1.042  \n",
      "257617        95        95   0.833  \n",
      "257618        95        95   1.042  \n",
      "257619        95        95   1.042  \n",
      "257620        95        95   1.042  \n",
      "257621        95        95   1.042  \n",
      "257622        95        95   1.042  \n"
     ]
    }
   ],
   "source": [
    "import numpy as np\n",
    "# Replace '?' with NaN\n",
    "\n",
    "df.replace(' ?', np.nan, inplace=True)\n",
    "\n",
    "\n",
    "\n",
    "print(df.tail(10))\n"
   ]
  },
  {
   "attachments": {},
   "cell_type": "markdown",
   "metadata": {},
   "source": [
    "<h2>Create a new DataFrame with Average Temperature and Average Humidity Values </h2>"
   ]
  },
  {
   "cell_type": "code",
   "execution_count": 7,
   "metadata": {
    "colab": {
     "base_uri": "https://localhost:8080/"
    },
    "id": "y3DnDwFzcrdM",
    "outputId": "93ea969a-939d-4c10-b47b-35828d743a44"
   },
   "outputs": [
    {
     "name": "stdout",
     "output_type": "stream",
     "text": [
      "   seqNo         date       time  average_internal_temp   \n",
      "0      1   2020-10-22   00:00:01              23.433333  \\\n",
      "1      2   2020-10-22   00:00:18              23.550000   \n",
      "2      3   2020-10-22   00:00:31              23.433333   \n",
      "3      4   2020-10-22   00:00:46              23.466667   \n",
      "4      5   2020-10-22   00:01:01              23.400000   \n",
      "\n",
      "   average_internal_humidity   light  \n",
      "0                  96.300000   1.042  \n",
      "1                  95.000000   1.042  \n",
      "2                  96.266667   1.042  \n",
      "3                  96.200000   1.042  \n",
      "4                  96.166667   1.042  \n"
     ]
    }
   ],
   "source": [
    "# Convert temperature columns to numeric\n",
    "df['temp1'] = pd.to_numeric(df['temp1'], errors='coerce')\n",
    "df['temp2'] = pd.to_numeric(df['temp2'], errors='coerce')\n",
    "df['temp3'] = pd.to_numeric(df['temp3'], errors='coerce')\n",
    "\n",
    "# Convert temperature columns to numeric\n",
    "df['humidity1'] = pd.to_numeric(df['humidity1'], errors='coerce')\n",
    "df['humidity2'] = pd.to_numeric(df['humidity2'], errors='coerce')\n",
    "df['humidity3'] = pd.to_numeric(df['humidity3'], errors='coerce')\n",
    "\n",
    "df['seqNo'] = pd.to_numeric(df['seqNo'], errors='coerce')\n",
    "\n",
    "# Calculate the average temperature\n",
    "df['average_internal_temp'] = df[['temp1', 'temp2', 'temp3']].mean(axis=1,skipna=True)\n",
    "\n",
    "# Calculate the average humidity\n",
    "df['average_internal_humidity'] = df[['humidity1', 'humidity2', 'humidity3']].mean(axis=1,skipna=True)\n",
    "\n",
    "# Create a new DataFrame with only the desired columns\n",
    "new_df = df[['seqNo','date','time','average_internal_temp', 'average_internal_humidity', 'light']]\n",
    "\n",
    "\n",
    "print(new_df.head())\n",
    "\n"
   ]
  },
  {
   "attachments": {},
   "cell_type": "markdown",
   "metadata": {},
   "source": [
    "<h2> Create a Data frame for Internal Sensor 10008 data </h2>"
   ]
  },
  {
   "cell_type": "code",
   "execution_count": 8,
   "metadata": {},
   "outputs": [
    {
     "name": "stderr",
     "output_type": "stream",
     "text": [
      "/var/folders/jc/5dgg62dn62g30jn00c_29n180000gn/T/ipykernel_74120/77695520.py:2: SettingWithCopyWarning: \n",
      "A value is trying to be set on a copy of a slice from a DataFrame.\n",
      "Try using .loc[row_indexer,col_indexer] = value instead\n",
      "\n",
      "See the caveats in the documentation: https://pandas.pydata.org/pandas-docs/stable/user_guide/indexing.html#returning-a-view-versus-a-copy\n",
      "  new_df['datetime'] = pd.to_datetime(new_df['date'] + ' ' + new_df['time'])\n",
      "/var/folders/jc/5dgg62dn62g30jn00c_29n180000gn/T/ipykernel_74120/77695520.py:5: SettingWithCopyWarning: \n",
      "A value is trying to be set on a copy of a slice from a DataFrame\n",
      "\n",
      "See the caveats in the documentation: https://pandas.pydata.org/pandas-docs/stable/user_guide/indexing.html#returning-a-view-versus-a-copy\n",
      "  new_df.drop(['date', 'time','seqNo'], axis=1, inplace=True)\n"
     ]
    }
   ],
   "source": [
    "# Combine the 'date' and 'time' columns into a single datetime column\n",
    "new_df['datetime'] = pd.to_datetime(new_df['date'] + ' ' + new_df['time'])\n",
    "# Set the 'time' column as the DataFrame index\n",
    "new_df.set_index('datetime', inplace=True)\n",
    "new_df.drop(['date', 'time','seqNo'], axis=1, inplace=True)\n",
    "# Resample the DataFrame using 'H' offset alias and select the first entry from each hour\n",
    "new_df_hourly = new_df.resample('H').first()\n",
    "\n",
    "# new_df_hourly.reset_index(inplace=True)\n",
    "# Print the resulting DataFrame\n",
    "\n",
    "new_df_hourly.to_csv('sensor10008.csv', index=False)"
   ]
  },
  {
   "attachments": {},
   "cell_type": "markdown",
   "metadata": {},
   "source": [
    "<h2> Create a Data frame for External Environmental data </h2>"
   ]
  },
  {
   "cell_type": "code",
   "execution_count": 9,
   "metadata": {},
   "outputs": [],
   "source": [
    "# Load the CSV file into a DataFrame\n",
    "external_weather = pd.read_csv('weather_data.csv')\n",
    "\n",
    "# Combine the 'Date' and 'Time' columns into a single datetime column\n",
    "external_weather['datetime'] = pd.to_datetime(external_weather['Date'] + ' ' + external_weather['Time'])\n",
    "\n",
    "external_weather.drop([\"Time\",\"Date\"],axis=1,inplace=True)\n",
    "\n",
    "external_weather.set_index('datetime', inplace=True)\n",
    "\n",
    "merged_df = pd.merge(external_weather, new_df_hourly, on='datetime')\n",
    "\n",
    "# Drop rows with any null values\n",
    "merged_df.dropna(inplace=True)\n",
    "\n",
    "merged_df.to_csv('data_set.csv')\n",
    "\n",
    "\n",
    "\n",
    "\n"
   ]
  },
  {
   "cell_type": "code",
   "execution_count": 10,
   "metadata": {},
   "outputs": [],
   "source": [
    "# from pandas_profiling import ProfileReport\n",
    "\n",
    "# # Create a profile report for your DataFrame\n",
    "# profile = ProfileReport(merged_df)\n",
    "\n",
    "# # Generate the report and save it as an HTML file\n",
    "# profile.to_file('profile_report.html')"
   ]
  },
  {
   "cell_type": "code",
   "execution_count": 11,
   "metadata": {},
   "outputs": [
    {
     "data": {
      "image/png": "[encoded data removed]",
      "text/plain": [
       "<Figure size 640x480 with 1 Axes>"
      ]
     },
     "metadata": {},
     "output_type": "display_data"
    }
   ],
   "source": [
    "# Specify the columns for the box plot\n",
    "columns_to_plot = ['External Temperature', 'average_internal_temp','Feels Like']\n",
    "\n",
    "# Create the box plot using seaborn\n",
    "sns.boxplot(data=merged_df[columns_to_plot])\n",
    "\n",
    "# Add labels and title\n",
    "plt.xlabel('Columns')\n",
    "plt.ylabel('Values')\n",
    "plt.title('Box Plot')\n",
    "\n",
    "# Show the plot\n",
    "plt.show()"
   ]
  },
  {
   "attachments": {},
   "cell_type": "markdown",
   "metadata": {},
   "source": [
    "<h2> Extracting features and target variable </h2>"
   ]
  },
  {
   "cell_type": "code",
   "execution_count": 12,
   "metadata": {},
   "outputs": [],
   "source": [
    "\n",
    "from sklearn.model_selection import train_test_split\n",
    "\n",
    "\n",
    "y = merged_df[['average_internal_temp', 'average_internal_humidity', 'light']]\n",
    "X = merged_df[['Feels Like','Pressure','External Humidity','Dew Point','Clouds','Wind Speed']]\n",
    "\n"
   ]
  },
  {
   "cell_type": "code",
   "execution_count": null,
   "metadata": {},
   "outputs": [],
   "source": []
  },
  {
   "attachments": {},
   "cell_type": "markdown",
   "metadata": {},
   "source": [
    "<h2> Model Trained By  LinearRegression</h2>"
   ]
  },
  {
   "cell_type": "code",
   "execution_count": 22,
   "metadata": {},
   "outputs": [
    {
     "name": "stdout",
     "output_type": "stream",
     "text": [
      "Training Accuracy: 0.20506265366033047\n",
      "Test Accuracy: 0.2194946874890945\n",
      "<class 'pandas.core.frame.DataFrame'>\n"
     ]
    }
   ],
   "source": [
    "import numpy as np\n",
    "import matplotlib.pyplot as plt\n",
    "from sklearn.linear_model import LinearRegression\n",
    "from sklearn.model_selection import train_test_split\n",
    "\n",
    "# Splitting dataset into training and test sets\n",
    "X_train, X_test, y_train, y_test = train_test_split(X, y, test_size=0.2, random_state=12)\n",
    "\n",
    "# Training the linear regression model\n",
    "model = LinearRegression()\n",
    "model.fit(X_train, y_train)\n",
    "\n",
    "# Calculate training accuracy\n",
    "train_accuracy = model.score(X_train, y_train)\n",
    "\n",
    "# Calculate test accuracy\n",
    "test_accuracy = model.score(X_test, y_test)\n",
    "\n",
    "print(\"Training Accuracy:\", train_accuracy)\n",
    "print(\"Test Accuracy:\",test_accuracy)\n",
    "\n",
    "print(type(X_test))\n"
   ]
  },
  {
   "cell_type": "code",
   "execution_count": 23,
   "metadata": {},
   "outputs": [
    {
     "ename": "NameError",
     "evalue": "name 'RandomForestRegressor' is not defined",
     "output_type": "error",
     "traceback": [
      "\u001b[0;31m---------------------------------------------------------------------------\u001b[0m",
      "\u001b[0;31mNameError\u001b[0m                                 Traceback (most recent call last)",
      "Cell \u001b[0;32mIn[23], line 10\u001b[0m\n\u001b[1;32m      7\u001b[0m X_train, X_test, y_train, y_test \u001b[39m=\u001b[39m train_test_split(X, y, test_size\u001b[39m=\u001b[39m\u001b[39m0.2\u001b[39m, random_state\u001b[39m=\u001b[39m\u001b[39m12\u001b[39m)\n\u001b[1;32m      9\u001b[0m \u001b[39m# Training the linear regression model\u001b[39;00m\n\u001b[0;32m---> 10\u001b[0m model \u001b[39m=\u001b[39mRandomForestRegressor()\n\u001b[1;32m     11\u001b[0m model\u001b[39m.\u001b[39mfit(X_train, y_train)\n\u001b[1;32m     13\u001b[0m \u001b[39m# Calculate training accuracy\u001b[39;00m\n",
      "\u001b[0;31mNameError\u001b[0m: name 'RandomForestRegressor' is not defined"
     ]
    }
   ],
   "source": [
    "import numpy as np\n",
    "import matplotlib.pyplot as plt\n",
    "from sklearn.linear_model import LinearRegression\n",
    "from sklearn.model_selection import train_test_split\n",
    "\n",
    "# Splitting dataset into training and test sets\n",
    "X_train, X_test, y_train, y_test = train_test_split(X, y, test_size=0.2, random_state=12)\n",
    "\n",
    "# Training the linear regression model\n",
    "model =RandomForestRegressor()\n",
    "model.fit(X_train, y_train)\n",
    "\n",
    "# Calculate training accuracy\n",
    "train_accuracy = model.score(X_train, y_train)\n",
    "\n",
    "# Calculate test accuracy\n",
    "test_accuracy = model.score(X_test, y_test)\n",
    "\n",
    "print(\"Training Accuracy:\", train_accuracy)\n",
    "print(\"Test Accuracy:\",test_accuracy)\n",
    "\n",
    "print(type(X_test))\n"
   ]
  },
  {
   "attachments": {},
   "cell_type": "markdown",
   "metadata": {},
   "source": [
    "<h2> Model Trained By  DecisionTree Regressor</h2>"
   ]
  },
  {
   "cell_type": "code",
   "execution_count": 16,
   "metadata": {},
   "outputs": [
    {
     "name": "stdout",
     "output_type": "stream",
     "text": [
      "Collecting optuna\n",
      "  Downloading optuna-3.2.0-py3-none-any.whl (390 kB)\n",
      "\u001b[2K     \u001b[90m━━━━━━━━━━━━━━━━━━━━━━━━━━━━━━━━━━━━━\u001b[0m \u001b[32m390.6/390.6 kB\u001b[0m \u001b[31m629.4 kB/s\u001b[0m eta \u001b[36m0:00:00\u001b[0m00:01\u001b[0m00:01\u001b[0m\n",
      "\u001b[?25hCollecting alembic>=1.5.0 (from optuna)\n",
      "  Downloading alembic-1.11.1-py3-none-any.whl (224 kB)\n",
      "\u001b[2K     \u001b[90m━━━━━━━━━━━━━━━━━━━━━━━━━━━━━━━━━━━━━\u001b[0m \u001b[32m224.5/224.5 kB\u001b[0m \u001b[31m952.8 kB/s\u001b[0m eta \u001b[36m0:00:00\u001b[0ma \u001b[36m0:00:01\u001b[0m\n",
      "\u001b[?25hCollecting cmaes>=0.9.1 (from optuna)\n",
      "  Downloading cmaes-0.9.1-py3-none-any.whl (21 kB)\n",
      "Collecting colorlog (from optuna)\n",
      "  Downloading colorlog-6.7.0-py2.py3-none-any.whl (11 kB)\n",
      "Requirement already satisfied: numpy in /Users/hari/anaconda3/lib/python3.10/site-packages (from optuna) (1.24.3)\n",
      "Requirement already satisfied: packaging>=20.0 in /Users/hari/anaconda3/lib/python3.10/site-packages (from optuna) (22.0)\n",
      "Requirement already satisfied: sqlalchemy>=1.3.0 in /Users/hari/anaconda3/lib/python3.10/site-packages (from optuna) (1.4.39)\n",
      "Requirement already satisfied: tqdm in /Users/hari/anaconda3/lib/python3.10/site-packages (from optuna) (4.64.1)\n",
      "Requirement already satisfied: PyYAML in /Users/hari/anaconda3/lib/python3.10/site-packages (from optuna) (6.0)\n",
      "Collecting Mako (from alembic>=1.5.0->optuna)\n",
      "  Downloading Mako-1.2.4-py3-none-any.whl (78 kB)\n",
      "\u001b[2K     \u001b[90m━━━━━━━━━━━━━━━━━━━━━━━━━━━━━━━━━━━━━━━━\u001b[0m \u001b[32m78.7/78.7 kB\u001b[0m \u001b[31m1.4 MB/s\u001b[0m eta \u001b[36m0:00:00\u001b[0mta \u001b[36m0:00:01\u001b[0m\n",
      "\u001b[?25hRequirement already satisfied: typing-extensions>=4 in /Users/hari/anaconda3/lib/python3.10/site-packages (from alembic>=1.5.0->optuna) (4.4.0)\n",
      "Requirement already satisfied: MarkupSafe>=0.9.2 in /Users/hari/anaconda3/lib/python3.10/site-packages (from Mako->alembic>=1.5.0->optuna) (2.1.1)\n",
      "Installing collected packages: Mako, colorlog, cmaes, alembic, optuna\n",
      "Successfully installed Mako-1.2.4 alembic-1.11.1 cmaes-0.9.1 colorlog-6.7.0 optuna-3.2.0\n",
      "Note: you may need to restart the kernel to use updated packages.\n"
     ]
    }
   ],
   "source": [
    "pip install optuna"
   ]
  },
  {
   "cell_type": "code",
   "execution_count": 17,
   "metadata": {},
   "outputs": [
    {
     "name": "stderr",
     "output_type": "stream",
     "text": [
      "/Users/hari/anaconda3/lib/python3.10/site-packages/tqdm/auto.py:22: TqdmWarning: IProgress not found. Please update jupyter and ipywidgets. See https://ipywidgets.readthedocs.io/en/stable/user_install.html\n",
      "  from .autonotebook import tqdm as notebook_tqdm\n",
      "[I 2023-06-07 14:00:33,466] A new study created in memory with name: no-name-5b0f694d-cb79-4f9e-80d6-67daf6641a19\n",
      "[I 2023-06-07 14:00:33,477] Trial 0 finished with value: 0.3273795479235266 and parameters: {'max_depth': 5, 'min_samples_leaf': 10}. Best is trial 0 with value: 0.3273795479235266.\n",
      "[I 2023-06-07 14:00:33,483] Trial 1 finished with value: 0.27133909706523357 and parameters: {'max_depth': 3, 'min_samples_leaf': 7}. Best is trial 0 with value: 0.3273795479235266.\n",
      "[I 2023-06-07 14:00:33,491] Trial 2 finished with value: 0.3387469228282489 and parameters: {'max_depth': 6, 'min_samples_leaf': 4}. Best is trial 2 with value: 0.3387469228282489.\n",
      "[I 2023-06-07 14:00:33,498] Trial 3 finished with value: 0.3088301767069687 and parameters: {'max_depth': 4, 'min_samples_leaf': 10}. Best is trial 2 with value: 0.3387469228282489.\n",
      "[I 2023-06-07 14:00:33,507] Trial 4 finished with value: 0.3307654638058828 and parameters: {'max_depth': 5, 'min_samples_leaf': 4}. Best is trial 2 with value: 0.3387469228282489.\n",
      "[I 2023-06-07 14:00:33,516] Trial 5 finished with value: 0.31131570358886845 and parameters: {'max_depth': 8, 'min_samples_leaf': 6}. Best is trial 2 with value: 0.3387469228282489.\n",
      "[I 2023-06-07 14:00:33,526] Trial 6 finished with value: 0.3222763495375657 and parameters: {'max_depth': 8, 'min_samples_leaf': 7}. Best is trial 2 with value: 0.3387469228282489.\n",
      "[I 2023-06-07 14:00:33,535] Trial 7 finished with value: 0.3447727567452201 and parameters: {'max_depth': 7, 'min_samples_leaf': 7}. Best is trial 7 with value: 0.3447727567452201.\n",
      "[I 2023-06-07 14:00:33,545] Trial 8 finished with value: 0.3222763495375657 and parameters: {'max_depth': 8, 'min_samples_leaf': 7}. Best is trial 7 with value: 0.3447727567452201.\n",
      "[I 2023-06-07 14:00:33,552] Trial 9 finished with value: 0.22798993228839004 and parameters: {'max_depth': 2, 'min_samples_leaf': 7}. Best is trial 7 with value: 0.3447727567452201.\n",
      "[I 2023-06-07 14:00:33,574] Trial 10 finished with value: 0.2302243474336002 and parameters: {'max_depth': 10, 'min_samples_leaf': 3}. Best is trial 7 with value: 0.3447727567452201.\n",
      "[I 2023-06-07 14:00:33,591] Trial 11 finished with value: 0.32331852487331714 and parameters: {'max_depth': 7, 'min_samples_leaf': 5}. Best is trial 7 with value: 0.3447727567452201.\n",
      "[I 2023-06-07 14:00:33,607] Trial 12 finished with value: 0.3252388680789334 and parameters: {'max_depth': 6, 'min_samples_leaf': 2}. Best is trial 7 with value: 0.3447727567452201.\n",
      "[I 2023-06-07 14:00:33,626] Trial 13 finished with value: 0.21830784814482687 and parameters: {'max_depth': 10, 'min_samples_leaf': 5}. Best is trial 7 with value: 0.3447727567452201.\n",
      "[I 2023-06-07 14:00:33,642] Trial 14 finished with value: 0.3432918894207755 and parameters: {'max_depth': 6, 'min_samples_leaf': 8}. Best is trial 7 with value: 0.3447727567452201.\n",
      "[I 2023-06-07 14:00:33,658] Trial 15 finished with value: 0.3456077188402456 and parameters: {'max_depth': 7, 'min_samples_leaf': 9}. Best is trial 15 with value: 0.3456077188402456.\n",
      "[I 2023-06-07 14:00:33,674] Trial 16 finished with value: 0.3164224249689838 and parameters: {'max_depth': 9, 'min_samples_leaf': 9}. Best is trial 15 with value: 0.3456077188402456.\n",
      "[I 2023-06-07 14:00:33,692] Trial 17 finished with value: 0.3456077188402456 and parameters: {'max_depth': 7, 'min_samples_leaf': 9}. Best is trial 15 with value: 0.3456077188402456.\n",
      "[I 2023-06-07 14:00:33,709] Trial 18 finished with value: 0.3456077188402457 and parameters: {'max_depth': 7, 'min_samples_leaf': 9}. Best is trial 18 with value: 0.3456077188402457.\n",
      "[I 2023-06-07 14:00:33,726] Trial 19 finished with value: 0.31642242496898376 and parameters: {'max_depth': 9, 'min_samples_leaf': 9}. Best is trial 18 with value: 0.3456077188402457.\n",
      "[I 2023-06-07 14:00:33,740] Trial 20 finished with value: 0.3218436306458591 and parameters: {'max_depth': 5, 'min_samples_leaf': 8}. Best is trial 18 with value: 0.3456077188402457.\n",
      "[I 2023-06-07 14:00:33,756] Trial 21 finished with value: 0.3456077188402456 and parameters: {'max_depth': 7, 'min_samples_leaf': 9}. Best is trial 18 with value: 0.3456077188402457.\n",
      "[I 2023-06-07 14:00:33,771] Trial 22 finished with value: 0.3344558641609034 and parameters: {'max_depth': 7, 'min_samples_leaf': 10}. Best is trial 18 with value: 0.3456077188402457.\n",
      "[I 2023-06-07 14:00:33,788] Trial 23 finished with value: 0.3174849293168419 and parameters: {'max_depth': 9, 'min_samples_leaf': 8}. Best is trial 18 with value: 0.3456077188402457.\n",
      "[I 2023-06-07 14:00:33,804] Trial 24 finished with value: 0.3398937645746128 and parameters: {'max_depth': 6, 'min_samples_leaf': 9}. Best is trial 18 with value: 0.3456077188402457.\n",
      "[I 2023-06-07 14:00:33,821] Trial 25 finished with value: 0.33697585693933757 and parameters: {'max_depth': 8, 'min_samples_leaf': 8}. Best is trial 18 with value: 0.3456077188402457.\n",
      "[I 2023-06-07 14:00:33,838] Trial 26 finished with value: 0.33445586416090345 and parameters: {'max_depth': 7, 'min_samples_leaf': 10}. Best is trial 18 with value: 0.3456077188402457.\n",
      "[I 2023-06-07 14:00:33,853] Trial 27 finished with value: 0.3087074126665063 and parameters: {'max_depth': 4, 'min_samples_leaf': 9}. Best is trial 18 with value: 0.3456077188402457.\n",
      "[I 2023-06-07 14:00:33,871] Trial 28 finished with value: 0.31191937533603725 and parameters: {'max_depth': 8, 'min_samples_leaf': 6}. Best is trial 18 with value: 0.3456077188402457.\n",
      "[I 2023-06-07 14:00:33,887] Trial 29 finished with value: 0.32737954792352647 and parameters: {'max_depth': 5, 'min_samples_leaf': 10}. Best is trial 18 with value: 0.3456077188402457.\n",
      "[I 2023-06-07 14:00:33,903] Trial 30 finished with value: 0.3432918894207755 and parameters: {'max_depth': 6, 'min_samples_leaf': 8}. Best is trial 18 with value: 0.3456077188402457.\n",
      "[I 2023-06-07 14:00:33,920] Trial 31 finished with value: 0.3456077188402456 and parameters: {'max_depth': 7, 'min_samples_leaf': 9}. Best is trial 18 with value: 0.3456077188402457.\n",
      "[I 2023-06-07 14:00:33,936] Trial 32 finished with value: 0.3456077188402456 and parameters: {'max_depth': 7, 'min_samples_leaf': 9}. Best is trial 18 with value: 0.3456077188402457.\n",
      "[I 2023-06-07 14:00:33,952] Trial 33 finished with value: 0.3293938403729799 and parameters: {'max_depth': 6, 'min_samples_leaf': 10}. Best is trial 18 with value: 0.3456077188402457.\n",
      "[I 2023-06-07 14:00:33,968] Trial 34 finished with value: 0.34560771884024555 and parameters: {'max_depth': 7, 'min_samples_leaf': 9}. Best is trial 18 with value: 0.3456077188402457.\n",
      "[I 2023-06-07 14:00:33,982] Trial 35 finished with value: 0.3088301767069686 and parameters: {'max_depth': 4, 'min_samples_leaf': 10}. Best is trial 18 with value: 0.3456077188402457.\n",
      "[I 2023-06-07 14:00:33,998] Trial 36 finished with value: 0.3369758569393377 and parameters: {'max_depth': 8, 'min_samples_leaf': 8}. Best is trial 18 with value: 0.3456077188402457.\n",
      "[I 2023-06-07 14:00:34,015] Trial 37 finished with value: 0.3164224249689838 and parameters: {'max_depth': 9, 'min_samples_leaf': 9}. Best is trial 18 with value: 0.3456077188402457.\n",
      "[I 2023-06-07 14:00:34,032] Trial 38 finished with value: 0.3222763495375657 and parameters: {'max_depth': 8, 'min_samples_leaf': 7}. Best is trial 18 with value: 0.3456077188402457.\n",
      "[I 2023-06-07 14:00:34,048] Trial 39 finished with value: 0.33445586416090345 and parameters: {'max_depth': 7, 'min_samples_leaf': 10}. Best is trial 18 with value: 0.3456077188402457.\n",
      "[I 2023-06-07 14:00:34,063] Trial 40 finished with value: 0.3218436306458591 and parameters: {'max_depth': 5, 'min_samples_leaf': 8}. Best is trial 18 with value: 0.3456077188402457.\n",
      "[I 2023-06-07 14:00:34,080] Trial 41 finished with value: 0.3456077188402456 and parameters: {'max_depth': 7, 'min_samples_leaf': 9}. Best is trial 18 with value: 0.3456077188402457.\n",
      "[I 2023-06-07 14:00:34,096] Trial 42 finished with value: 0.3398937645746129 and parameters: {'max_depth': 6, 'min_samples_leaf': 9}. Best is trial 18 with value: 0.3456077188402457.\n",
      "[I 2023-06-07 14:00:34,113] Trial 43 finished with value: 0.32283361861885934 and parameters: {'max_depth': 8, 'min_samples_leaf': 10}. Best is trial 18 with value: 0.3456077188402457.\n",
      "[I 2023-06-07 14:00:34,129] Trial 44 finished with value: 0.3514773422314062 and parameters: {'max_depth': 6, 'min_samples_leaf': 7}. Best is trial 44 with value: 0.3514773422314062.\n",
      "[I 2023-06-07 14:00:34,145] Trial 45 finished with value: 0.3525854920278177 and parameters: {'max_depth': 6, 'min_samples_leaf': 6}. Best is trial 45 with value: 0.3525854920278177.\n",
      "[I 2023-06-07 14:00:34,162] Trial 46 finished with value: 0.3525854920278177 and parameters: {'max_depth': 6, 'min_samples_leaf': 6}. Best is trial 45 with value: 0.3525854920278177.\n",
      "[I 2023-06-07 14:00:34,178] Trial 47 finished with value: 0.333645532149788 and parameters: {'max_depth': 5, 'min_samples_leaf': 5}. Best is trial 45 with value: 0.3525854920278177.\n",
      "[I 2023-06-07 14:00:34,194] Trial 48 finished with value: 0.35258549202781775 and parameters: {'max_depth': 6, 'min_samples_leaf': 6}. Best is trial 48 with value: 0.35258549202781775.\n",
      "[I 2023-06-07 14:00:34,209] Trial 49 finished with value: 0.27133909706523324 and parameters: {'max_depth': 3, 'min_samples_leaf': 6}. Best is trial 48 with value: 0.35258549202781775.\n",
      "[I 2023-06-07 14:00:34,225] Trial 50 finished with value: 0.3525854920278175 and parameters: {'max_depth': 6, 'min_samples_leaf': 6}. Best is trial 48 with value: 0.35258549202781775.\n",
      "[I 2023-06-07 14:00:34,241] Trial 51 finished with value: 0.35258549202781797 and parameters: {'max_depth': 6, 'min_samples_leaf': 6}. Best is trial 51 with value: 0.35258549202781797.\n",
      "[I 2023-06-07 14:00:34,258] Trial 52 finished with value: 0.3525854920278177 and parameters: {'max_depth': 6, 'min_samples_leaf': 6}. Best is trial 51 with value: 0.35258549202781797.\n",
      "[I 2023-06-07 14:00:34,273] Trial 53 finished with value: 0.3290679399290374 and parameters: {'max_depth': 5, 'min_samples_leaf': 6}. Best is trial 51 with value: 0.35258549202781797.\n",
      "[I 2023-06-07 14:00:34,289] Trial 54 finished with value: 0.34452383500845246 and parameters: {'max_depth': 6, 'min_samples_leaf': 5}. Best is trial 51 with value: 0.35258549202781797.\n",
      "[I 2023-06-07 14:00:34,305] Trial 55 finished with value: 0.31459015216271874 and parameters: {'max_depth': 4, 'min_samples_leaf': 6}. Best is trial 51 with value: 0.35258549202781797.\n",
      "[I 2023-06-07 14:00:34,321] Trial 56 finished with value: 0.3307654638058828 and parameters: {'max_depth': 5, 'min_samples_leaf': 4}. Best is trial 51 with value: 0.35258549202781797.\n",
      "[I 2023-06-07 14:00:34,337] Trial 57 finished with value: 0.34452383500845274 and parameters: {'max_depth': 6, 'min_samples_leaf': 5}. Best is trial 51 with value: 0.35258549202781797.\n",
      "[I 2023-06-07 14:00:34,353] Trial 58 finished with value: 0.3525854920278177 and parameters: {'max_depth': 6, 'min_samples_leaf': 6}. Best is trial 51 with value: 0.35258549202781797.\n",
      "[I 2023-06-07 14:00:34,369] Trial 59 finished with value: 0.333645532149788 and parameters: {'max_depth': 5, 'min_samples_leaf': 5}. Best is trial 51 with value: 0.35258549202781797.\n",
      "[I 2023-06-07 14:00:34,385] Trial 60 finished with value: 0.3387469228282489 and parameters: {'max_depth': 6, 'min_samples_leaf': 4}. Best is trial 51 with value: 0.35258549202781797.\n",
      "[I 2023-06-07 14:00:34,401] Trial 61 finished with value: 0.3525854920278177 and parameters: {'max_depth': 6, 'min_samples_leaf': 6}. Best is trial 51 with value: 0.35258549202781797.\n",
      "[I 2023-06-07 14:00:34,418] Trial 62 finished with value: 0.3514773422314059 and parameters: {'max_depth': 6, 'min_samples_leaf': 7}. Best is trial 51 with value: 0.35258549202781797.\n",
      "[I 2023-06-07 14:00:34,433] Trial 63 finished with value: 0.3290679399290372 and parameters: {'max_depth': 5, 'min_samples_leaf': 6}. Best is trial 51 with value: 0.35258549202781797.\n",
      "[I 2023-06-07 14:00:34,450] Trial 64 finished with value: 0.35147734223140636 and parameters: {'max_depth': 6, 'min_samples_leaf': 7}. Best is trial 51 with value: 0.35258549202781797.\n",
      "[I 2023-06-07 14:00:34,467] Trial 65 finished with value: 0.3525854920278175 and parameters: {'max_depth': 6, 'min_samples_leaf': 6}. Best is trial 51 with value: 0.35258549202781797.\n",
      "[I 2023-06-07 14:00:34,484] Trial 66 finished with value: 0.3445238350084526 and parameters: {'max_depth': 6, 'min_samples_leaf': 5}. Best is trial 51 with value: 0.35258549202781797.\n",
      "[I 2023-06-07 14:00:34,499] Trial 67 finished with value: 0.3281508235616552 and parameters: {'max_depth': 5, 'min_samples_leaf': 7}. Best is trial 51 with value: 0.35258549202781797.\n",
      "[I 2023-06-07 14:00:34,515] Trial 68 finished with value: 0.3290679399290373 and parameters: {'max_depth': 5, 'min_samples_leaf': 6}. Best is trial 51 with value: 0.35258549202781797.\n",
      "[I 2023-06-07 14:00:34,531] Trial 69 finished with value: 0.31459015216271874 and parameters: {'max_depth': 4, 'min_samples_leaf': 6}. Best is trial 51 with value: 0.35258549202781797.\n",
      "[I 2023-06-07 14:00:34,549] Trial 70 finished with value: 0.3233185248733172 and parameters: {'max_depth': 7, 'min_samples_leaf': 5}. Best is trial 51 with value: 0.35258549202781797.\n",
      "[I 2023-06-07 14:00:34,565] Trial 71 finished with value: 0.3525854920278177 and parameters: {'max_depth': 6, 'min_samples_leaf': 6}. Best is trial 51 with value: 0.35258549202781797.\n",
      "[I 2023-06-07 14:00:34,582] Trial 72 finished with value: 0.3525854920278176 and parameters: {'max_depth': 6, 'min_samples_leaf': 6}. Best is trial 51 with value: 0.35258549202781797.\n",
      "[I 2023-06-07 14:00:34,599] Trial 73 finished with value: 0.3514773422314061 and parameters: {'max_depth': 6, 'min_samples_leaf': 7}. Best is trial 51 with value: 0.35258549202781797.\n",
      "[I 2023-06-07 14:00:34,616] Trial 74 finished with value: 0.35258549202781775 and parameters: {'max_depth': 6, 'min_samples_leaf': 6}. Best is trial 51 with value: 0.35258549202781797.\n",
      "[I 2023-06-07 14:00:34,633] Trial 75 finished with value: 0.33719428321468764 and parameters: {'max_depth': 7, 'min_samples_leaf': 6}. Best is trial 51 with value: 0.35258549202781797.\n",
      "[I 2023-06-07 14:00:34,649] Trial 76 finished with value: 0.3281508235616552 and parameters: {'max_depth': 5, 'min_samples_leaf': 7}. Best is trial 51 with value: 0.35258549202781797.\n",
      "[I 2023-06-07 14:00:34,667] Trial 77 finished with value: 0.34452383500845274 and parameters: {'max_depth': 6, 'min_samples_leaf': 5}. Best is trial 51 with value: 0.35258549202781797.\n",
      "[I 2023-06-07 14:00:34,684] Trial 78 finished with value: 0.33717205240551307 and parameters: {'max_depth': 7, 'min_samples_leaf': 6}. Best is trial 51 with value: 0.35258549202781797.\n",
      "[I 2023-06-07 14:00:34,700] Trial 79 finished with value: 0.351477342231406 and parameters: {'max_depth': 6, 'min_samples_leaf': 7}. Best is trial 51 with value: 0.35258549202781797.\n",
      "[I 2023-06-07 14:00:34,716] Trial 80 finished with value: 0.3336455321497878 and parameters: {'max_depth': 5, 'min_samples_leaf': 5}. Best is trial 51 with value: 0.35258549202781797.\n",
      "[I 2023-06-07 14:00:34,733] Trial 81 finished with value: 0.3525854920278175 and parameters: {'max_depth': 6, 'min_samples_leaf': 6}. Best is trial 51 with value: 0.35258549202781797.\n",
      "[I 2023-06-07 14:00:34,749] Trial 82 finished with value: 0.3525854920278175 and parameters: {'max_depth': 6, 'min_samples_leaf': 6}. Best is trial 51 with value: 0.35258549202781797.\n",
      "[I 2023-06-07 14:00:34,767] Trial 83 finished with value: 0.3371720524055129 and parameters: {'max_depth': 7, 'min_samples_leaf': 6}. Best is trial 51 with value: 0.35258549202781797.\n",
      "[I 2023-06-07 14:00:34,784] Trial 84 finished with value: 0.3525854920278175 and parameters: {'max_depth': 6, 'min_samples_leaf': 6}. Best is trial 51 with value: 0.35258549202781797.\n",
      "[I 2023-06-07 14:00:34,800] Trial 85 finished with value: 0.32786212080079696 and parameters: {'max_depth': 6, 'min_samples_leaf': 2}. Best is trial 51 with value: 0.35258549202781797.\n",
      "[I 2023-06-07 14:00:34,818] Trial 86 finished with value: 0.3233185248733172 and parameters: {'max_depth': 7, 'min_samples_leaf': 5}. Best is trial 51 with value: 0.35258549202781797.\n",
      "[I 2023-06-07 14:00:34,834] Trial 87 finished with value: 0.3387469228282491 and parameters: {'max_depth': 6, 'min_samples_leaf': 4}. Best is trial 51 with value: 0.35258549202781797.\n",
      "[I 2023-06-07 14:00:34,854] Trial 88 finished with value: 0.3281508235616552 and parameters: {'max_depth': 5, 'min_samples_leaf': 7}. Best is trial 51 with value: 0.35258549202781797.\n",
      "[I 2023-06-07 14:00:34,871] Trial 89 finished with value: 0.3525854920278177 and parameters: {'max_depth': 6, 'min_samples_leaf': 6}. Best is trial 51 with value: 0.35258549202781797.\n",
      "[I 2023-06-07 14:00:34,888] Trial 90 finished with value: 0.33719428321468764 and parameters: {'max_depth': 7, 'min_samples_leaf': 6}. Best is trial 51 with value: 0.35258549202781797.\n",
      "[I 2023-06-07 14:00:34,904] Trial 91 finished with value: 0.3525854920278177 and parameters: {'max_depth': 6, 'min_samples_leaf': 6}. Best is trial 51 with value: 0.35258549202781797.\n",
      "[I 2023-06-07 14:00:34,921] Trial 92 finished with value: 0.3525854920278175 and parameters: {'max_depth': 6, 'min_samples_leaf': 6}. Best is trial 51 with value: 0.35258549202781797.\n",
      "[I 2023-06-07 14:00:34,937] Trial 93 finished with value: 0.3525854920278176 and parameters: {'max_depth': 6, 'min_samples_leaf': 6}. Best is trial 51 with value: 0.35258549202781797.\n",
      "[I 2023-06-07 14:00:34,954] Trial 94 finished with value: 0.32906793992903727 and parameters: {'max_depth': 5, 'min_samples_leaf': 6}. Best is trial 51 with value: 0.35258549202781797.\n",
      "[I 2023-06-07 14:00:34,970] Trial 95 finished with value: 0.3445238350084526 and parameters: {'max_depth': 6, 'min_samples_leaf': 5}. Best is trial 51 with value: 0.35258549202781797.\n",
      "[I 2023-06-07 14:00:34,987] Trial 96 finished with value: 0.3514773422314061 and parameters: {'max_depth': 6, 'min_samples_leaf': 7}. Best is trial 51 with value: 0.35258549202781797.\n",
      "[I 2023-06-07 14:00:35,004] Trial 97 finished with value: 0.32906793992903743 and parameters: {'max_depth': 5, 'min_samples_leaf': 6}. Best is trial 51 with value: 0.35258549202781797.\n",
      "[I 2023-06-07 14:00:35,021] Trial 98 finished with value: 0.33719428321468753 and parameters: {'max_depth': 7, 'min_samples_leaf': 6}. Best is trial 51 with value: 0.35258549202781797.\n",
      "[I 2023-06-07 14:00:35,038] Trial 99 finished with value: 0.3445238350084526 and parameters: {'max_depth': 6, 'min_samples_leaf': 5}. Best is trial 51 with value: 0.35258549202781797.\n"
     ]
    },
    {
     "name": "stdout",
     "output_type": "stream",
     "text": [
      "Best Max Depth is :  6\n",
      "Best Min Samples Leaf is :  6\n",
      "Training Accuracy: 0.458194059668301\n",
      "Test Accuracy: 0.3525854920278177\n"
     ]
    }
   ],
   "source": [
    "from sklearn.tree import DecisionTreeRegressor\n",
    "from sklearn.model_selection import train_test_split\n",
    "import optuna\n",
    "# Assuming you have your input features in X and output features in y\n",
    "\n",
    "# Split the data into training and test sets\n",
    "X_train, X_test, y_train, y_test = train_test_split(X, y, test_size=0.3, random_state=10)\n",
    "\n",
    "\n",
    "def objective(trial):\n",
    "    max_depth = trial.suggest_int('max_depth', 2, 10)\n",
    "    min_samples_leaf = trial.suggest_int('min_samples_leaf', 2, 10)\n",
    "    \n",
    "    # Create the decision tree regressor object with the suggested parameters\n",
    "    clf = DecisionTreeRegressor(max_depth=max_depth, min_samples_leaf=min_samples_leaf)\n",
    "\n",
    "    # Fit the model to the training data\n",
    "    clf.fit(X_train, y_train)\n",
    "    \n",
    "    # Calculate the test accuracy\n",
    "    test_accuracy = clf.score(X_test, y_test)\n",
    "    \n",
    "    return test_accuracy\n",
    "\n",
    "\n",
    "study = optuna.create_study(direction='maximize')\n",
    "study.optimize(objective, n_trials=100)\n",
    "\n",
    "# Get the best parameters from the study\n",
    "best_params = study.best_params\n",
    "\n",
    "\n",
    "clf = DecisionTreeRegressor(max_depth=best_params['max_depth'], min_samples_leaf=best_params['min_samples_leaf'])\n",
    "clf.fit(X_train, y_train)\n",
    "\n",
    "\n",
    "print(\"Best Max Depth is : \",best_params['max_depth'])\n",
    "\n",
    "print(\"Best Min Samples Leaf is : \",best_params['min_samples_leaf'])\n",
    "train_accuracy = clf.score(X_train, y_train)\n",
    "test_accuracy = clf.score(X_test, y_test)\n",
    "\n",
    "print(\"Training Accuracy:\", train_accuracy)\n",
    "print(\"Test Accuracy:\", test_accuracy)\n",
    "\n"
   ]
  },
  {
   "attachments": {},
   "cell_type": "markdown",
   "metadata": {},
   "source": [
    "<h2> Model Trained By Lasso</h2>"
   ]
  },
  {
   "cell_type": "code",
   "execution_count": 18,
   "metadata": {},
   "outputs": [
    {
     "name": "stdout",
     "output_type": "stream",
     "text": [
      "Mean Squared Error: 8253879.676310171\n",
      "Score: 0.19409810053905932\n"
     ]
    }
   ],
   "source": [
    "from sklearn.linear_model import Lasso\n",
    "from sklearn.model_selection import train_test_split\n",
    "from sklearn.metrics import mean_squared_error\n",
    "\n",
    "# Assuming you have a pandas DataFrame 'data' containing your feature columns (X) and target column (y)\n",
    "\n",
    "# Split the data into training and testing sets\n",
    "X_train, X_test, y_train, y_test = train_test_split(X, y, test_size=0.20, random_state=42)\n",
    "\n",
    "# Create the Lasso regression model\n",
    "lasso = Lasso(alpha=0.001)  # Adjust the alpha parameter to control the degree of regularization\n",
    "\n",
    "# Fit the model to the training data\n",
    "lasso.fit(X_train, y_train)\n",
    "\n",
    "# Make predictions on the testing data\n",
    "y_pred = lasso.predict(X_test)\n",
    "\n",
    "# Evaluate the model\n",
    "mse = mean_squared_error(y_test, y_pred)\n",
    "print(\"Mean Squared Error:\", mse)\n",
    "# Get the score (coefficient of determination) on the testing data\n",
    "score = lasso.score(X_test, y_test)\n",
    "print(\"Score:\", score)"
   ]
  },
  {
   "attachments": {},
   "cell_type": "markdown",
   "metadata": {},
   "source": [
    "<h2>Model Trained By Ridge regression </h2>"
   ]
  },
  {
   "cell_type": "code",
   "execution_count": 14,
   "metadata": {},
   "outputs": [
    {
     "name": "stdout",
     "output_type": "stream",
     "text": [
      "Mean Squared Error: 8257927.40880755\n",
      "R2 Score: 0.19353924689866875\n"
     ]
    }
   ],
   "source": [
    "from sklearn.linear_model import Ridge\n",
    "from sklearn.model_selection import train_test_split\n",
    "from sklearn.metrics import mean_squared_error, r2_score\n",
    "from sklearn.preprocessing import StandardScaler\n",
    "\n",
    "# Assuming you have your feature matrix X and target variable y\n",
    "\n",
    "# Split the data into training and testing sets\n",
    "X_train, X_test, y_train, y_test = train_test_split(X, y, test_size=0.2, random_state=42)\n",
    "\n",
    "# Standardize the features (optional but recommended for regularization)\n",
    "scaler = StandardScaler()\n",
    "X_train = scaler.fit_transform(X_train)\n",
    "X_test = scaler.transform(X_test)\n",
    "\n",
    "# Create a Ridge regression model\n",
    "ridge = Ridge(alpha=1.0)  # You can adjust the regularization strength by changing the alpha parameter\n",
    "\n",
    "# Train the model\n",
    "ridge.fit(X_train, y_train)\n",
    "\n",
    "# Make predictions\n",
    "y_pred = ridge.predict(X_test)\n",
    "\n",
    "# Evaluate the model\n",
    "mse = mean_squared_error(y_test, y_pred)\n",
    "r2 = r2_score(y_test, y_pred)\n",
    "\n",
    "print(\"Mean Squared Error:\", mse)\n",
    "print(\"R2 Score:\", r2)"
   ]
  },
  {
   "attachments": {},
   "cell_type": "markdown",
   "metadata": {},
   "source": [
    "<h1>MLPRegressor</h1>"
   ]
  },
  {
   "cell_type": "code",
   "execution_count": 15,
   "metadata": {},
   "outputs": [
    {
     "name": "stdout",
     "output_type": "stream",
     "text": [
      "Requirement already satisfied: scikit-learn in /Users/hari/anaconda3/lib/python3.10/site-packages (1.2.2)\n",
      "Requirement already satisfied: numpy>=1.17.3 in /Users/hari/anaconda3/lib/python3.10/site-packages (from scikit-learn) (1.24.3)\n",
      "Requirement already satisfied: scipy>=1.3.2 in /Users/hari/anaconda3/lib/python3.10/site-packages (from scikit-learn) (1.10.1)\n",
      "Requirement already satisfied: joblib>=1.1.1 in /Users/hari/anaconda3/lib/python3.10/site-packages (from scikit-learn) (1.1.1)\n",
      "Requirement already satisfied: threadpoolctl>=2.0.0 in /Users/hari/anaconda3/lib/python3.10/site-packages (from scikit-learn) (2.2.0)\n",
      "Note: you may need to restart the kernel to use updated packages.\n"
     ]
    }
   ],
   "source": [
    "pip install scikit-learn"
   ]
  },
  {
   "cell_type": "code",
   "execution_count": 32,
   "metadata": {},
   "outputs": [
    {
     "name": "stdout",
     "output_type": "stream",
     "text": [
      "Score: 0.09521052312338134\n"
     ]
    }
   ],
   "source": [
    "\n",
    "from sklearn.linear_model import Ridge\n",
    "from sklearn.model_selection import train_test_split\n",
    "from sklearn.metrics import mean_squared_error, r2_score\n",
    "from sklearn.preprocessing import StandardScaler\n",
    "from sklearn.ensemble import RandomForestClassifier\n",
    "from sklearn.neural_network import MLPRegressor\n",
    "\n",
    "from sklearn.metrics import accuracy_score\n",
    "\n",
    "# Assuming you have your feature matrix X and target variable y\n",
    "y = merged_df[['average_internal_temp', 'average_internal_humidity', 'light']]\n",
    "X = merged_df[['Feels Like','Pressure','External Humidity','Dew Point','Clouds','Wind Speed']]\n",
    "\n",
    "# Split the data into training and testing sets\n",
    "X_train, X_test, y_train, y_test = train_test_split(X, y, test_size=0.2, random_state=42)\n",
    "\n",
    "#\n",
    "# Create the model\n",
    "model = MLPRegressor(hidden_layer_sizes=(128, 64), activation='relu', solver='adam', max_iter=1000)\n",
    "\n",
    "# Train the model\n",
    "model.fit(X_train, y_train)\n",
    "\n",
    "# Predict the target values for the testing set\n",
    "y_pred = model.predict(X_test)\n",
    "\n",
    "# Evaluate the model\n",
    "score = model.score(X_test, y_test)\n",
    "print('Score:', score)"
   ]
  },
  {
   "attachments": {},
   "cell_type": "markdown",
   "metadata": {},
   "source": [
    "<h1>RANDOM FOREST REGRESSOR</h1>"
   ]
  },
  {
   "cell_type": "code",
   "execution_count": 31,
   "metadata": {},
   "outputs": [
    {
     "name": "stdout",
     "output_type": "stream",
     "text": [
      "Score: 0.3940798806188008\n",
      "Training Accuracy: 0.802251246125528\n",
      "Test Accuracy: 0.3940798806188008\n"
     ]
    }
   ],
   "source": [
    "\n",
    "from sklearn.linear_model import Ridge\n",
    "from sklearn.model_selection import train_test_split\n",
    "from sklearn.metrics import mean_squared_error, r2_score\n",
    "from sklearn.preprocessing import StandardScaler\n",
    "from sklearn.ensemble import RandomForestRegressor\n",
    "from sklearn.neural_network import MLPRegressor\n",
    "\n",
    "from sklearn.metrics import accuracy_score\n",
    "\n",
    "# Assuming you have your feature matrix X and target variable y\n",
    "y = merged_df[['average_internal_temp', 'average_internal_humidity', 'light']]\n",
    "X = merged_df[['Feels Like','Pressure','External Humidity','Dew Point','Clouds','Wind Speed']]\n",
    "\n",
    "# Split the data into training and testing sets\n",
    "X_train, X_test, y_train, y_test = train_test_split(X, y, test_size=0.2, random_state=42)\n",
    "\n",
    "#\n",
    "# Create the model\n",
    "model =RandomForestRegressor(n_estimators=250, max_depth=10, random_state=42)\n",
    "\n",
    "# Train the model\n",
    "model.fit(X_train, y_train)\n",
    "\n",
    "# Predict the target values for the testing set\n",
    "y_pred = model.predict(X_test)\n",
    "\n",
    "# Evaluate the model\n",
    "score = model.score(X_test, y_test)\n",
    "print('Score:', score)\n",
    "\n",
    "\n",
    "train_accuracy = model.score(X_train, y_train)\n",
    "test_accuracy = model.score(X_test, y_test)\n",
    "\n",
    "print(\"Training Accuracy:\", train_accuracy)\n",
    "print(\"Test Accuracy:\", test_accuracy)"
   ]
  },
  {
   "cell_type": "code",
   "execution_count": 51,
   "metadata": {},
   "outputs": [
    {
     "name": "stdout",
     "output_type": "stream",
     "text": [
      "Epoch 1/1000\n"
     ]
    },
    {
     "ename": "KeyboardInterrupt",
     "evalue": "",
     "output_type": "error",
     "traceback": [
      "\u001b[0;31m---------------------------------------------------------------------------\u001b[0m",
      "\u001b[0;31mKeyboardInterrupt\u001b[0m                         Traceback (most recent call last)",
      "Cell \u001b[0;32mIn[51], line 23\u001b[0m\n\u001b[1;32m     20\u001b[0m y_train\u001b[39m=\u001b[39m tf\u001b[39m.\u001b[39mconvert_to_tensor(y_train, dtype\u001b[39m=\u001b[39mtf\u001b[39m.\u001b[39mfloat32)\n\u001b[1;32m     22\u001b[0m \u001b[39m# Train the model\u001b[39;00m\n\u001b[0;32m---> 23\u001b[0m model\u001b[39m.\u001b[39;49mfit(X_train, y_train, epochs\u001b[39m=\u001b[39;49m\u001b[39m1000\u001b[39;49m)\n\u001b[1;32m     25\u001b[0m \u001b[39m# Evaluate the model\u001b[39;00m\n\u001b[1;32m     26\u001b[0m model\u001b[39m.\u001b[39mevaluate(X_test, y_test)\n",
      "File \u001b[0;32m~/anaconda3/lib/python3.10/site-packages/keras/utils/traceback_utils.py:65\u001b[0m, in \u001b[0;36mfilter_traceback.<locals>.error_handler\u001b[0;34m(*args, **kwargs)\u001b[0m\n\u001b[1;32m     63\u001b[0m filtered_tb \u001b[39m=\u001b[39m \u001b[39mNone\u001b[39;00m\n\u001b[1;32m     64\u001b[0m \u001b[39mtry\u001b[39;00m:\n\u001b[0;32m---> 65\u001b[0m     \u001b[39mreturn\u001b[39;00m fn(\u001b[39m*\u001b[39;49margs, \u001b[39m*\u001b[39;49m\u001b[39m*\u001b[39;49mkwargs)\n\u001b[1;32m     66\u001b[0m \u001b[39mexcept\u001b[39;00m \u001b[39mException\u001b[39;00m \u001b[39mas\u001b[39;00m e:\n\u001b[1;32m     67\u001b[0m     filtered_tb \u001b[39m=\u001b[39m _process_traceback_frames(e\u001b[39m.\u001b[39m__traceback__)\n",
      "File \u001b[0;32m~/anaconda3/lib/python3.10/site-packages/keras/engine/training.py:1685\u001b[0m, in \u001b[0;36mModel.fit\u001b[0;34m(self, x, y, batch_size, epochs, verbose, callbacks, validation_split, validation_data, shuffle, class_weight, sample_weight, initial_epoch, steps_per_epoch, validation_steps, validation_batch_size, validation_freq, max_queue_size, workers, use_multiprocessing)\u001b[0m\n\u001b[1;32m   1677\u001b[0m \u001b[39mwith\u001b[39;00m tf\u001b[39m.\u001b[39mprofiler\u001b[39m.\u001b[39mexperimental\u001b[39m.\u001b[39mTrace(\n\u001b[1;32m   1678\u001b[0m     \u001b[39m\"\u001b[39m\u001b[39mtrain\u001b[39m\u001b[39m\"\u001b[39m,\n\u001b[1;32m   1679\u001b[0m     epoch_num\u001b[39m=\u001b[39mepoch,\n\u001b[0;32m   (...)\u001b[0m\n\u001b[1;32m   1682\u001b[0m     _r\u001b[39m=\u001b[39m\u001b[39m1\u001b[39m,\n\u001b[1;32m   1683\u001b[0m ):\n\u001b[1;32m   1684\u001b[0m     callbacks\u001b[39m.\u001b[39mon_train_batch_begin(step)\n\u001b[0;32m-> 1685\u001b[0m     tmp_logs \u001b[39m=\u001b[39m \u001b[39mself\u001b[39;49m\u001b[39m.\u001b[39;49mtrain_function(iterator)\n\u001b[1;32m   1686\u001b[0m     \u001b[39mif\u001b[39;00m data_handler\u001b[39m.\u001b[39mshould_sync:\n\u001b[1;32m   1687\u001b[0m         context\u001b[39m.\u001b[39masync_wait()\n",
      "File \u001b[0;32m~/anaconda3/lib/python3.10/site-packages/tensorflow/python/util/traceback_utils.py:150\u001b[0m, in \u001b[0;36mfilter_traceback.<locals>.error_handler\u001b[0;34m(*args, **kwargs)\u001b[0m\n\u001b[1;32m    148\u001b[0m filtered_tb \u001b[39m=\u001b[39m \u001b[39mNone\u001b[39;00m\n\u001b[1;32m    149\u001b[0m \u001b[39mtry\u001b[39;00m:\n\u001b[0;32m--> 150\u001b[0m   \u001b[39mreturn\u001b[39;00m fn(\u001b[39m*\u001b[39;49margs, \u001b[39m*\u001b[39;49m\u001b[39m*\u001b[39;49mkwargs)\n\u001b[1;32m    151\u001b[0m \u001b[39mexcept\u001b[39;00m \u001b[39mException\u001b[39;00m \u001b[39mas\u001b[39;00m e:\n\u001b[1;32m    152\u001b[0m   filtered_tb \u001b[39m=\u001b[39m _process_traceback_frames(e\u001b[39m.\u001b[39m__traceback__)\n",
      "File \u001b[0;32m~/anaconda3/lib/python3.10/site-packages/tensorflow/python/eager/polymorphic_function/polymorphic_function.py:894\u001b[0m, in \u001b[0;36mFunction.__call__\u001b[0;34m(self, *args, **kwds)\u001b[0m\n\u001b[1;32m    891\u001b[0m compiler \u001b[39m=\u001b[39m \u001b[39m\"\u001b[39m\u001b[39mxla\u001b[39m\u001b[39m\"\u001b[39m \u001b[39mif\u001b[39;00m \u001b[39mself\u001b[39m\u001b[39m.\u001b[39m_jit_compile \u001b[39melse\u001b[39;00m \u001b[39m\"\u001b[39m\u001b[39mnonXla\u001b[39m\u001b[39m\"\u001b[39m\n\u001b[1;32m    893\u001b[0m \u001b[39mwith\u001b[39;00m OptionalXlaContext(\u001b[39mself\u001b[39m\u001b[39m.\u001b[39m_jit_compile):\n\u001b[0;32m--> 894\u001b[0m   result \u001b[39m=\u001b[39m \u001b[39mself\u001b[39;49m\u001b[39m.\u001b[39;49m_call(\u001b[39m*\u001b[39;49margs, \u001b[39m*\u001b[39;49m\u001b[39m*\u001b[39;49mkwds)\n\u001b[1;32m    896\u001b[0m new_tracing_count \u001b[39m=\u001b[39m \u001b[39mself\u001b[39m\u001b[39m.\u001b[39mexperimental_get_tracing_count()\n\u001b[1;32m    897\u001b[0m without_tracing \u001b[39m=\u001b[39m (tracing_count \u001b[39m==\u001b[39m new_tracing_count)\n",
      "File \u001b[0;32m~/anaconda3/lib/python3.10/site-packages/tensorflow/python/eager/polymorphic_function/polymorphic_function.py:959\u001b[0m, in \u001b[0;36mFunction._call\u001b[0;34m(self, *args, **kwds)\u001b[0m\n\u001b[1;32m    955\u001b[0m     \u001b[39mpass\u001b[39;00m  \u001b[39m# Fall through to cond-based initialization.\u001b[39;00m\n\u001b[1;32m    956\u001b[0m   \u001b[39melse\u001b[39;00m:\n\u001b[1;32m    957\u001b[0m     \u001b[39m# Lifting succeeded, so variables are initialized and we can run the\u001b[39;00m\n\u001b[1;32m    958\u001b[0m     \u001b[39m# no_variable_creation function.\u001b[39;00m\n\u001b[0;32m--> 959\u001b[0m     \u001b[39mreturn\u001b[39;00m \u001b[39mself\u001b[39;49m\u001b[39m.\u001b[39;49m_no_variable_creation_fn(\u001b[39m*\u001b[39;49margs, \u001b[39m*\u001b[39;49m\u001b[39m*\u001b[39;49mkwds)\n\u001b[1;32m    960\u001b[0m \u001b[39melse\u001b[39;00m:\n\u001b[1;32m    961\u001b[0m   _, _, filtered_flat_args \u001b[39m=\u001b[39m (\n\u001b[1;32m    962\u001b[0m       \u001b[39mself\u001b[39m\u001b[39m.\u001b[39m_variable_creation_fn\u001b[39m.\u001b[39m_function_spec  \u001b[39m# pylint: disable=protected-access\u001b[39;00m\n\u001b[1;32m    963\u001b[0m       \u001b[39m.\u001b[39mcanonicalize_function_inputs(\n\u001b[1;32m    964\u001b[0m           args, kwds))\n",
      "File \u001b[0;32m~/anaconda3/lib/python3.10/site-packages/tensorflow/python/eager/polymorphic_function/tracing_compiler.py:143\u001b[0m, in \u001b[0;36mTracingCompiler.__call__\u001b[0;34m(self, *args, **kwargs)\u001b[0m\n\u001b[1;32m    140\u001b[0m \u001b[39mwith\u001b[39;00m \u001b[39mself\u001b[39m\u001b[39m.\u001b[39m_lock:\n\u001b[1;32m    141\u001b[0m   (concrete_function,\n\u001b[1;32m    142\u001b[0m    filtered_flat_args) \u001b[39m=\u001b[39m \u001b[39mself\u001b[39m\u001b[39m.\u001b[39m_maybe_define_function(args, kwargs)\n\u001b[0;32m--> 143\u001b[0m \u001b[39mreturn\u001b[39;00m concrete_function\u001b[39m.\u001b[39;49m_call_flat(\n\u001b[1;32m    144\u001b[0m     filtered_flat_args, captured_inputs\u001b[39m=\u001b[39;49mconcrete_function\u001b[39m.\u001b[39;49mcaptured_inputs)\n",
      "File \u001b[0;32m~/anaconda3/lib/python3.10/site-packages/tensorflow/python/eager/polymorphic_function/monomorphic_function.py:1757\u001b[0m, in \u001b[0;36mConcreteFunction._call_flat\u001b[0;34m(self, args, captured_inputs, cancellation_manager)\u001b[0m\n\u001b[1;32m   1753\u001b[0m possible_gradient_type \u001b[39m=\u001b[39m gradients_util\u001b[39m.\u001b[39mPossibleTapeGradientTypes(args)\n\u001b[1;32m   1754\u001b[0m \u001b[39mif\u001b[39;00m (possible_gradient_type \u001b[39m==\u001b[39m gradients_util\u001b[39m.\u001b[39mPOSSIBLE_GRADIENT_TYPES_NONE\n\u001b[1;32m   1755\u001b[0m     \u001b[39mand\u001b[39;00m executing_eagerly):\n\u001b[1;32m   1756\u001b[0m   \u001b[39m# No tape is watching; skip to running the function.\u001b[39;00m\n\u001b[0;32m-> 1757\u001b[0m   \u001b[39mreturn\u001b[39;00m \u001b[39mself\u001b[39m\u001b[39m.\u001b[39m_build_call_outputs(\u001b[39mself\u001b[39;49m\u001b[39m.\u001b[39;49m_inference_function\u001b[39m.\u001b[39;49mcall(\n\u001b[1;32m   1758\u001b[0m       ctx, args, cancellation_manager\u001b[39m=\u001b[39;49mcancellation_manager))\n\u001b[1;32m   1759\u001b[0m forward_backward \u001b[39m=\u001b[39m \u001b[39mself\u001b[39m\u001b[39m.\u001b[39m_select_forward_and_backward_functions(\n\u001b[1;32m   1760\u001b[0m     args,\n\u001b[1;32m   1761\u001b[0m     possible_gradient_type,\n\u001b[1;32m   1762\u001b[0m     executing_eagerly)\n\u001b[1;32m   1763\u001b[0m forward_function, args_with_tangents \u001b[39m=\u001b[39m forward_backward\u001b[39m.\u001b[39mforward()\n",
      "File \u001b[0;32m~/anaconda3/lib/python3.10/site-packages/tensorflow/python/eager/polymorphic_function/monomorphic_function.py:381\u001b[0m, in \u001b[0;36m_EagerDefinedFunction.call\u001b[0;34m(self, ctx, args, cancellation_manager)\u001b[0m\n\u001b[1;32m    379\u001b[0m \u001b[39mwith\u001b[39;00m _InterpolateFunctionError(\u001b[39mself\u001b[39m):\n\u001b[1;32m    380\u001b[0m   \u001b[39mif\u001b[39;00m cancellation_manager \u001b[39mis\u001b[39;00m \u001b[39mNone\u001b[39;00m:\n\u001b[0;32m--> 381\u001b[0m     outputs \u001b[39m=\u001b[39m execute\u001b[39m.\u001b[39;49mexecute(\n\u001b[1;32m    382\u001b[0m         \u001b[39mstr\u001b[39;49m(\u001b[39mself\u001b[39;49m\u001b[39m.\u001b[39;49msignature\u001b[39m.\u001b[39;49mname),\n\u001b[1;32m    383\u001b[0m         num_outputs\u001b[39m=\u001b[39;49m\u001b[39mself\u001b[39;49m\u001b[39m.\u001b[39;49m_num_outputs,\n\u001b[1;32m    384\u001b[0m         inputs\u001b[39m=\u001b[39;49margs,\n\u001b[1;32m    385\u001b[0m         attrs\u001b[39m=\u001b[39;49mattrs,\n\u001b[1;32m    386\u001b[0m         ctx\u001b[39m=\u001b[39;49mctx)\n\u001b[1;32m    387\u001b[0m   \u001b[39melse\u001b[39;00m:\n\u001b[1;32m    388\u001b[0m     outputs \u001b[39m=\u001b[39m execute\u001b[39m.\u001b[39mexecute_with_cancellation(\n\u001b[1;32m    389\u001b[0m         \u001b[39mstr\u001b[39m(\u001b[39mself\u001b[39m\u001b[39m.\u001b[39msignature\u001b[39m.\u001b[39mname),\n\u001b[1;32m    390\u001b[0m         num_outputs\u001b[39m=\u001b[39m\u001b[39mself\u001b[39m\u001b[39m.\u001b[39m_num_outputs,\n\u001b[0;32m   (...)\u001b[0m\n\u001b[1;32m    393\u001b[0m         ctx\u001b[39m=\u001b[39mctx,\n\u001b[1;32m    394\u001b[0m         cancellation_manager\u001b[39m=\u001b[39mcancellation_manager)\n",
      "File \u001b[0;32m~/anaconda3/lib/python3.10/site-packages/tensorflow/python/eager/execute.py:52\u001b[0m, in \u001b[0;36mquick_execute\u001b[0;34m(op_name, num_outputs, inputs, attrs, ctx, name)\u001b[0m\n\u001b[1;32m     50\u001b[0m \u001b[39mtry\u001b[39;00m:\n\u001b[1;32m     51\u001b[0m   ctx\u001b[39m.\u001b[39mensure_initialized()\n\u001b[0;32m---> 52\u001b[0m   tensors \u001b[39m=\u001b[39m pywrap_tfe\u001b[39m.\u001b[39;49mTFE_Py_Execute(ctx\u001b[39m.\u001b[39;49m_handle, device_name, op_name,\n\u001b[1;32m     53\u001b[0m                                       inputs, attrs, num_outputs)\n\u001b[1;32m     54\u001b[0m \u001b[39mexcept\u001b[39;00m core\u001b[39m.\u001b[39m_NotOkStatusException \u001b[39mas\u001b[39;00m e:\n\u001b[1;32m     55\u001b[0m   \u001b[39mif\u001b[39;00m name \u001b[39mis\u001b[39;00m \u001b[39mnot\u001b[39;00m \u001b[39mNone\u001b[39;00m:\n",
      "\u001b[0;31mKeyboardInterrupt\u001b[0m: "
     ]
    }
   ],
   "source": [
    "# **Simple neural network**\n",
    "\n",
    "import tensorflow as tf\n",
    "X_train, X_test, y_train, y_test = train_test_split(X, y, test_size=0.2, random_state=42)\n",
    "\n",
    "# Create the model\n",
    "model = tf.keras.models.Sequential([\n",
    "  tf.keras.layers.Dense(64, activation='relu'),\n",
    "  tf.keras.layers.Dense(1, activation='linear')\n",
    "])\n",
    "\n",
    "# Compile the model\n",
    "model.compile(optimizer='adam', loss='mse',metrics=['accuracy'])\n",
    "\n",
    "# Convert the X_train and y_train variables to type float32\n",
    "X_train = X_train.astype(np.float32)\n",
    "y_train = y_train.astype(np.float32)\n",
    "\n",
    "X_train= tf.convert_to_tensor(X_train, dtype=tf.float32)\n",
    "y_train= tf.convert_to_tensor(y_train, dtype=tf.float32)\n",
    "\n",
    "# Train the model\n",
    "model.fit(X_train, y_train, epochs=1000)\n",
    "\n",
    "# Evaluate the model\n",
    "model.evaluate(X_test, y_test)\n",
    "\n",
    "# **Deep neural network**\n",
    "\n",
    "import tensorflow as tf\n",
    "\n",
    "# Create the model\n",
    "model = tf.keras.models.Sequential([\n",
    "  tf.keras.layers.Dense(128, activation='relu'),\n",
    "  tf.keras.layers.Dropout(0.2),\n",
    "  tf.keras.layers.Dense(64, activation='relu'),\n",
    "  tf.keras.layers.Dropout(0.2),\n",
    "  tf.keras.layers.Dense(1, activation='linear')\n",
    "])\n",
    "\n",
    "# Compile the model\n",
    "model.compile(optimizer='adam', loss='mse')\n",
    "\n",
    "# Convert the X_train and y_train variables to type float32\n",
    "X_train = X_train.astype(np.float32)\n",
    "y_train = y_train.astype(np.float32)\n",
    "\n",
    "# Train the model\n",
    "model.fit(X_train, y_train, epochs=100)\n",
    "\n",
    "# Evaluate the model\n",
    "model.evaluate(X_test, y_test)\n"
   ]
  },
  {
   "cell_type": "code",
   "execution_count": null,
   "metadata": {},
   "outputs": [],
   "source": []
  }
 ],
 "metadata": {
  "colab": {
   "provenance": []
  },
  "interpreter": {
   "hash": "ed69033dcf95bf03c49614e5fe4e96f21774bed12a1dae221247a7de4d30fa71"
  },
  "kernelspec": {
   "display_name": "Python 3.10.11 ('base')",
   "language": "python",
   "name": "python3"
  },
  "language_info": {
   "codemirror_mode": {
    "name": "ipython",
    "version": 3
   },
   "file_extension": ".py",
   "mimetype": "text/x-python",
   "name": "python",
   "nbconvert_exporter": "python",
   "pygments_lexer": "ipython3",
   "version": "3.7.16"
  }
 },
 "nbformat": 4,
 "nbformat_minor": 0
}
