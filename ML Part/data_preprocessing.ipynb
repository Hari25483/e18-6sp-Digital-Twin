{
 "cells": [
  {
   "cell_type": "code",
   "execution_count": 1,
   "metadata": {},
   "outputs": [],
   "source": [
    "import requests\n",
    "import pandas as pd\n",
    "from concurrent.futures import ThreadPoolExecutor\n",
    "from tqdm import tqdm\n",
    "import time\n",
    "import matplotlib.pyplot as plt\n",
    "import seaborn as sns\n",
    "\n"
   ]
  },
  {
   "cell_type": "code",
   "execution_count": 2,
   "metadata": {},
   "outputs": [
    {
     "name": "stderr",
     "output_type": "stream",
     "text": [
      "Progress:   0%|          | 0/107 [00:00<?, ?day/s]"
     ]
    },
    {
     "name": "stdout",
     "output_type": "stream",
     "text": [
      "Error: Could not retrieve data for date 2020-10-31\n"
     ]
    },
    {
     "name": "stderr",
     "output_type": "stream",
     "text": [
      "Progress: 100%|██████████| 107/107 [00:09<00:00, 11.40day/s]\n"
     ]
    },
    {
     "name": "stdout",
     "output_type": "stream",
     "text": [
      "Execution Time: 9.411393165588379 seconds\n"
     ]
    }
   ],
   "source": [
    "base_url = \"http://agbc-fe.pdn.ac.lk/api/v1/data/?sensor=10008&date=\"\n",
    "\n",
    "start_date = pd.to_datetime(\"2020-10-22\")\n",
    "end_date = pd.to_datetime(\"2021-02-05\")\n",
    "\n",
    "date_range = pd.date_range(start=start_date, end=end_date, freq=\"D\")\n",
    "\n",
    "all_data = []\n",
    "\n",
    "def fetch_data(date):\n",
    "    date_str = date.strftime(\"%Y-%m-%d\")\n",
    "    url = base_url + date_str\n",
    "\n",
    "    try:\n",
    "        response = requests.get(url)\n",
    "        data = response.json()\n",
    "        return data['data']\n",
    "    except:\n",
    "        print(f\"Error: Could not retrieve data for date {date_str}\")\n",
    "        return []\n",
    "\n",
    "start_time = time.time()  # Get the current time before starting the execution\n",
    "\n",
    "\n",
    "# Create a ThreadPoolExecutor with the maximum number of workers\n",
    "executor = ThreadPoolExecutor(max_workers=None)\n",
    "\n",
    "# Use tqdm to track the progress\n",
    "with tqdm(total=len(date_range), desc=\"Progress\", unit=\"day\") as pbar:\n",
    "    # Submit the fetch_data task to the executor for each date in parallel\n",
    "    futures = [executor.submit(fetch_data, date) for date in date_range]\n",
    "    \n",
    "    # Retrieve the results from the completed futures\n",
    "    for future in futures:\n",
    "        all_data.extend(future.result())\n",
    "        pbar.update(1)\n",
    "    \n",
    "\n",
    "end_time = time.time()  # Get the current time after finishing the execution\n",
    "execution_time = end_time - start_time\n",
    "\n",
    "print(\"Execution Time:\", execution_time, \"seconds\")\n",
    "\n",
    "# Create the DataFrame from the collected data\n",
    "df = pd.DataFrame(all_data, dtype=str)\n",
    "df.to_csv('dataws.csv', index=False)\n"
   ]
  },
  {
   "cell_type": "code",
   "execution_count": 3,
   "metadata": {
    "colab": {
     "base_uri": "https://localhost:8080/"
    },
    "id": "CXMbj9kvrn1H",
    "outputId": "56c43792-dfe6-4cc4-9654-1b01d336140f"
   },
   "outputs": [
    {
     "name": "stdout",
     "output_type": "stream",
     "text": [
      "siteId       0\n",
      "seqNo        0\n",
      "date         0\n",
      "time         0\n",
      "temp1        0\n",
      "temp2        0\n",
      "temp3        0\n",
      "humidity1    0\n",
      "humidity2    0\n",
      "humidity3    0\n",
      "light        0\n",
      "dtype: int64\n"
     ]
    }
   ],
   "source": [
    "# check for missing values\n",
    "print(df.isnull().sum())"
   ]
  },
  {
   "cell_type": "code",
   "execution_count": 4,
   "metadata": {
    "id": "zBhqM74Brs51"
   },
   "outputs": [],
   "source": [
    "# drop rows with missing values\n",
    "df.dropna(inplace=True)"
   ]
  },
  {
   "cell_type": "code",
   "execution_count": 5,
   "metadata": {
    "id": "joYskXyPrzA8"
   },
   "outputs": [],
   "source": [
    "# Drop duplicate rows\n",
    "df=df.drop_duplicates(keep='first')"
   ]
  },
  {
   "cell_type": "code",
   "execution_count": 6,
   "metadata": {
    "colab": {
     "base_uri": "https://localhost:8080/",
     "height": 206
    },
    "id": "gEd3DbvksApo",
    "outputId": "a1a4440a-e2ab-4d00-9060-73107b549e57"
   },
   "outputs": [
    {
     "name": "stdout",
     "output_type": "stream",
     "text": [
      "       siteId  seqNo         date       time  temp1  temp2  temp3 humidity1  \\\n",
      "257613      0   2869   2021-02-05   23:55:03    NaN   23.3     22       NaN   \n",
      "257614      0   2870   2021-02-05   23:55:31   22.2   23.3   22.1      99.9   \n",
      "257615      0   2871   2021-02-05   23:56:03    NaN   23.3   22.2       NaN   \n",
      "257616      0   2872   2021-02-05   23:56:31   22.2   23.3   22.1      99.9   \n",
      "257617      0   2873   2021-02-05   23:57:05    NaN   23.3   22.1       NaN   \n",
      "257618      0   2874   2021-02-05   23:57:31   22.2   23.3   22.1      99.9   \n",
      "257619      0   2875   2021-02-05   23:58:01   22.2   23.3   22.1      99.9   \n",
      "257620      0   2876   2021-02-05   23:58:33    NaN   23.3   22.2       NaN   \n",
      "257621      0   2877   2021-02-05   23:59:01   22.3   23.3   22.2      99.9   \n",
      "257622      0   2878   2021-02-05   23:59:31   22.3   23.3   22.2      99.9   \n",
      "\n",
      "       humidity2 humidity3   light  \n",
      "257613        95        95   1.042  \n",
      "257614        95        95   1.042  \n",
      "257615        95        95   1.042  \n",
      "257616        95        95   1.042  \n",
      "257617        95        95   0.833  \n",
      "257618        95        95   1.042  \n",
      "257619        95        95   1.042  \n",
      "257620        95        95   1.042  \n",
      "257621        95        95   1.042  \n",
      "257622        95        95   1.042  \n"
     ]
    }
   ],
   "source": [
    "import numpy as np\n",
    "# Replace '?' with NaN\n",
    "\n",
    "df.replace(' ?', np.nan, inplace=True)\n",
    "\n",
    "\n",
    "\n",
    "print(df.tail(10))\n"
   ]
  },
  {
   "attachments": {},
   "cell_type": "markdown",
   "metadata": {},
   "source": [
    "<h2>Create a new DataFrame with Average Temperature and Average Humidity Values </h2>"
   ]
  },
  {
   "cell_type": "code",
   "execution_count": 7,
   "metadata": {
    "colab": {
     "base_uri": "https://localhost:8080/"
    },
    "id": "y3DnDwFzcrdM",
    "outputId": "93ea969a-939d-4c10-b47b-35828d743a44"
   },
   "outputs": [
    {
     "name": "stdout",
     "output_type": "stream",
     "text": [
      "   seqNo         date       time  average_internal_temp  \\\n",
      "0      1   2020-10-22   00:00:01              23.433333   \n",
      "1      2   2020-10-22   00:00:18              23.550000   \n",
      "2      3   2020-10-22   00:00:31              23.433333   \n",
      "3      4   2020-10-22   00:00:46              23.466667   \n",
      "4      5   2020-10-22   00:01:01              23.400000   \n",
      "\n",
      "   average_internal_humidity   light  \n",
      "0                  96.300000   1.042  \n",
      "1                  95.000000   1.042  \n",
      "2                  96.266667   1.042  \n",
      "3                  96.200000   1.042  \n",
      "4                  96.166667   1.042  \n"
     ]
    }
   ],
   "source": [
    "# Convert temperature columns to numeric\n",
    "df['temp1'] = pd.to_numeric(df['temp1'], errors='coerce')\n",
    "df['temp2'] = pd.to_numeric(df['temp2'], errors='coerce')\n",
    "df['temp3'] = pd.to_numeric(df['temp3'], errors='coerce')\n",
    "\n",
    "# Convert temperature columns to numeric\n",
    "df['humidity1'] = pd.to_numeric(df['humidity1'], errors='coerce')\n",
    "df['humidity2'] = pd.to_numeric(df['humidity2'], errors='coerce')\n",
    "df['humidity3'] = pd.to_numeric(df['humidity3'], errors='coerce')\n",
    "\n",
    "df['seqNo'] = pd.to_numeric(df['seqNo'], errors='coerce')\n",
    "\n",
    "# Calculate the average temperature\n",
    "df['average_internal_temp'] = df[['temp1', 'temp2', 'temp3']].mean(axis=1,skipna=True)\n",
    "\n",
    "# Calculate the average humidity\n",
    "df['average_internal_humidity'] = df[['humidity1', 'humidity2', 'humidity3']].mean(axis=1,skipna=True)\n",
    "\n",
    "# Create a new DataFrame with only the desired columns\n",
    "new_df = df[['seqNo','date','time','average_internal_temp', 'average_internal_humidity', 'light']]\n",
    "\n",
    "\n",
    "print(new_df.head())\n",
    "\n"
   ]
  },
  {
   "attachments": {},
   "cell_type": "markdown",
   "metadata": {},
   "source": [
    "<h2> Create a Data frame for Internal Sensor 10008 data </h2>"
   ]
  },
  {
   "cell_type": "code",
   "execution_count": 8,
   "metadata": {},
   "outputs": [
    {
     "name": "stderr",
     "output_type": "stream",
     "text": [
      "c:\\Users\\vilak\\anaconda3\\envs\\pytorch_env\\lib\\site-packages\\ipykernel_launcher.py:2: SettingWithCopyWarning: \n",
      "A value is trying to be set on a copy of a slice from a DataFrame.\n",
      "Try using .loc[row_indexer,col_indexer] = value instead\n",
      "\n",
      "See the caveats in the documentation: https://pandas.pydata.org/pandas-docs/stable/user_guide/indexing.html#returning-a-view-versus-a-copy\n",
      "  \n",
      "c:\\Users\\vilak\\anaconda3\\envs\\pytorch_env\\lib\\site-packages\\pandas\\core\\frame.py:4913: SettingWithCopyWarning: \n",
      "A value is trying to be set on a copy of a slice from a DataFrame\n",
      "\n",
      "See the caveats in the documentation: https://pandas.pydata.org/pandas-docs/stable/user_guide/indexing.html#returning-a-view-versus-a-copy\n",
      "  errors=errors,\n"
     ]
    }
   ],
   "source": [
    "# Combine the 'date' and 'time' columns into a single datetime column\n",
    "new_df['datetime'] = pd.to_datetime(new_df['date'] + ' ' + new_df['time'])\n",
    "# Set the 'time' column as the DataFrame index\n",
    "new_df.set_index('datetime', inplace=True)\n",
    "new_df.drop(['date', 'time','seqNo'], axis=1, inplace=True)\n",
    "# Resample the DataFrame using 'H' offset alias and select the first entry from each hour\n",
    "new_df_hourly = new_df.resample('H').first()\n",
    "\n",
    "# new_df_hourly.reset_index(inplace=True)\n",
    "# Print the resulting DataFrame\n",
    "\n",
    "new_df_hourly.to_csv('sensor10008.csv', index=False)"
   ]
  },
  {
   "attachments": {},
   "cell_type": "markdown",
   "metadata": {},
   "source": [
    "<h2> Create a Data frame for External Environmental data </h2>"
   ]
  },
  {
   "cell_type": "code",
   "execution_count": 9,
   "metadata": {},
   "outputs": [],
   "source": [
    "# Load the CSV file into a DataFrame\n",
    "external_weather = pd.read_csv('weather_data.csv')\n",
    "\n",
    "# Combine the 'Date' and 'Time' columns into a single datetime column\n",
    "external_weather['datetime'] = pd.to_datetime(external_weather['Date'] + ' ' + external_weather['Time'])\n",
    "\n",
    "external_weather.drop([\"Time\",\"Date\"],axis=1,inplace=True)\n",
    "\n",
    "external_weather.set_index('datetime', inplace=True)\n",
    "\n",
    "merged_df = pd.merge(external_weather, new_df_hourly, on='datetime')\n",
    "\n",
    "# Drop rows with any null values\n",
    "merged_df.dropna(inplace=True)\n",
    "\n",
    "merged_df.to_csv('data_set.csv')\n",
    "\n",
    "\n",
    "\n",
    "\n"
   ]
  },
  {
   "cell_type": "code",
   "execution_count": 10,
   "metadata": {},
   "outputs": [],
   "source": [
    "# from pandas_profiling import ProfileReport\n",
    "\n",
    "# # Create a profile report for your DataFrame\n",
    "# profile = ProfileReport(merged_df)\n",
    "\n",
    "# # Generate the report and save it as an HTML file\n",
    "# profile.to_file('profile_report.html')"
   ]
  },
  {
   "cell_type": "code",
   "execution_count": 11,
   "metadata": {},
   "outputs": [
    {
     "data": {
      "image/png": "[encoded data removed]",
      "text/plain": [
       "<Figure size 640x480 with 1 Axes>"
      ]
     },
     "metadata": {},
     "output_type": "display_data"
    }
   ],
   "source": [
    "# Specify the columns for the box plot\n",
    "columns_to_plot = ['External Temperature', 'average_internal_temp','Feels Like']\n",
    "\n",
    "# Create the box plot using seaborn\n",
    "sns.boxplot(data=merged_df[columns_to_plot])\n",
    "\n",
    "# Add labels and title\n",
    "plt.xlabel('Columns')\n",
    "plt.ylabel('Values')\n",
    "plt.title('Box Plot')\n",
    "\n",
    "# Show the plot\n",
    "plt.show()"
   ]
  },
  {
   "attachments": {},
   "cell_type": "markdown",
   "metadata": {},
   "source": [
    "<h2> Extracting features and target variable </h2>"
   ]
  },
  {
   "cell_type": "code",
   "execution_count": 12,
   "metadata": {},
   "outputs": [],
   "source": [
    "\n",
    "from sklearn.model_selection import train_test_split\n",
    "\n",
    "\n",
    "y = merged_df[['average_internal_temp', 'average_internal_humidity', 'light']]\n",
    "X = merged_df[['Feels Like','Pressure','External Humidity','Dew Point','Clouds','Wind Speed']]\n",
    "\n"
   ]
  },
  {
   "cell_type": "code",
   "execution_count": null,
   "metadata": {},
   "outputs": [],
   "source": []
  },
  {
   "attachments": {},
   "cell_type": "markdown",
   "metadata": {},
   "source": [
    "<h2> Model Trained By  LinearRegression</h2>"
   ]
  },
  {
   "cell_type": "code",
   "execution_count": 13,
   "metadata": {},
   "outputs": [
    {
     "name": "stdout",
     "output_type": "stream",
     "text": [
      "Training Accuracy: 0.2050626536603317\n",
      "Test Accuracy: 0.21949468748909493\n"
     ]
    }
   ],
   "source": [
    "import numpy as np\n",
    "import matplotlib.pyplot as plt\n",
    "from sklearn.linear_model import LinearRegression\n",
    "from sklearn.model_selection import train_test_split\n",
    "\n",
    "# Splitting dataset into training and test sets\n",
    "X_train, X_test, y_train, y_test = train_test_split(X, y, test_size=0.2, random_state=12)\n",
    "\n",
    "# Training the linear regression model\n",
    "model = LinearRegression()\n",
    "model.fit(X_train, y_train)\n",
    "\n",
    "# Calculate training accuracy\n",
    "train_accuracy = model.score(X_train, y_train)\n",
    "\n",
    "# Calculate test accuracy\n",
    "test_accuracy = model.score(X_test, y_test)\n",
    "\n",
    "print(\"Training Accuracy:\", train_accuracy)\n",
    "print(\"Test Accuracy:\",test_accuracy)\n",
    "\n",
    "\n"
   ]
  },
  {
   "attachments": {},
   "cell_type": "markdown",
   "metadata": {},
   "source": [
    "<h2> Model Trained By  DecisionTree Regressor</h2>"
   ]
  },
  {
   "cell_type": "code",
   "execution_count": 14,
   "metadata": {},
   "outputs": [
    {
     "name": "stderr",
     "output_type": "stream",
     "text": [
      "c:\\Users\\vilak\\anaconda3\\envs\\pytorch_env\\lib\\site-packages\\tqdm\\auto.py:22: TqdmWarning: IProgress not found. Please update jupyter and ipywidgets. See https://ipywidgets.readthedocs.io/en/stable/user_install.html\n",
      "  from .autonotebook import tqdm as notebook_tqdm\n",
      "[I 2023-06-07 09:52:50,959] A new study created in memory with name: no-name-b0e1a9f8-edd4-4c08-8fd5-9d0b3e69d34f\n",
      "[I 2023-06-07 09:52:50,975] Trial 0 finished with value: 0.30799228111601457 and parameters: {'max_depth': 10, 'min_samples_leaf': 10}. Best is trial 0 with value: 0.30799228111601457.\n",
      "[I 2023-06-07 09:52:50,983] Trial 1 finished with value: 0.2533163422687194 and parameters: {'max_depth': 10, 'min_samples_leaf': 6}. Best is trial 0 with value: 0.30799228111601457.\n",
      "[I 2023-06-07 09:52:50,991] Trial 2 finished with value: 0.26422161888742973 and parameters: {'max_depth': 9, 'min_samples_leaf': 3}. Best is trial 0 with value: 0.30799228111601457.\n",
      "[I 2023-06-07 09:52:51,007] Trial 3 finished with value: 0.3281508235616553 and parameters: {'max_depth': 5, 'min_samples_leaf': 7}. Best is trial 3 with value: 0.3281508235616553.\n",
      "[I 2023-06-07 09:52:51,016] Trial 4 finished with value: 0.322070737550754 and parameters: {'max_depth': 4, 'min_samples_leaf': 3}. Best is trial 3 with value: 0.3281508235616553.\n",
      "[I 2023-06-07 09:52:51,023] Trial 5 finished with value: 0.30799228111601445 and parameters: {'max_depth': 10, 'min_samples_leaf': 10}. Best is trial 3 with value: 0.3281508235616553.\n",
      "[I 2023-06-07 09:52:51,032] Trial 6 finished with value: 0.31445343646800955 and parameters: {'max_depth': 4, 'min_samples_leaf': 5}. Best is trial 3 with value: 0.3281508235616553.\n",
      "[I 2023-06-07 09:52:51,050] Trial 7 finished with value: 0.32939384037297975 and parameters: {'max_depth': 6, 'min_samples_leaf': 10}. Best is trial 7 with value: 0.32939384037297975.\n",
      "[I 2023-06-07 09:52:51,056] Trial 8 finished with value: 0.33719428321468775 and parameters: {'max_depth': 7, 'min_samples_leaf': 6}. Best is trial 8 with value: 0.33719428321468775.\n",
      "[I 2023-06-07 09:52:51,064] Trial 9 finished with value: 0.31367303579533684 and parameters: {'max_depth': 4, 'min_samples_leaf': 7}. Best is trial 8 with value: 0.33719428321468775.\n",
      "[I 2023-06-07 09:52:51,097] Trial 10 finished with value: 0.22798993228839015 and parameters: {'max_depth': 2, 'min_samples_leaf': 5}. Best is trial 8 with value: 0.33719428321468775.\n",
      "[I 2023-06-07 09:52:51,113] Trial 11 finished with value: 0.35150097701629335 and parameters: {'max_depth': 7, 'min_samples_leaf': 8}. Best is trial 11 with value: 0.35150097701629335.\n",
      "[I 2023-06-07 09:52:51,137] Trial 12 finished with value: 0.3369758569393377 and parameters: {'max_depth': 8, 'min_samples_leaf': 8}. Best is trial 11 with value: 0.35150097701629335.\n",
      "[I 2023-06-07 09:52:51,153] Trial 13 finished with value: 0.35150097701629335 and parameters: {'max_depth': 7, 'min_samples_leaf': 8}. Best is trial 11 with value: 0.35150097701629335.\n",
      "[I 2023-06-07 09:52:51,177] Trial 14 finished with value: 0.3515009770162933 and parameters: {'max_depth': 7, 'min_samples_leaf': 8}. Best is trial 11 with value: 0.35150097701629335.\n",
      "[I 2023-06-07 09:52:51,194] Trial 15 finished with value: 0.3369758569393375 and parameters: {'max_depth': 8, 'min_samples_leaf': 8}. Best is trial 11 with value: 0.35150097701629335.\n",
      "[I 2023-06-07 09:52:51,218] Trial 16 finished with value: 0.3398937645746128 and parameters: {'max_depth': 6, 'min_samples_leaf': 9}. Best is trial 11 with value: 0.35150097701629335.\n",
      "[I 2023-06-07 09:52:51,242] Trial 17 finished with value: 0.33102304113078485 and parameters: {'max_depth': 8, 'min_samples_leaf': 9}. Best is trial 11 with value: 0.35150097701629335.\n",
      "[I 2023-06-07 09:52:51,267] Trial 18 finished with value: 0.30908084491703763 and parameters: {'max_depth': 7, 'min_samples_leaf': 2}. Best is trial 11 with value: 0.35150097701629335.\n",
      "[I 2023-06-07 09:52:51,286] Trial 19 finished with value: 0.32815082356165526 and parameters: {'max_depth': 5, 'min_samples_leaf': 7}. Best is trial 11 with value: 0.35150097701629335.\n",
      "[I 2023-06-07 09:52:51,299] Trial 20 finished with value: 0.22798993228838996 and parameters: {'max_depth': 2, 'min_samples_leaf': 9}. Best is trial 11 with value: 0.35150097701629335.\n",
      "[I 2023-06-07 09:52:51,323] Trial 21 finished with value: 0.35150097701629335 and parameters: {'max_depth': 7, 'min_samples_leaf': 8}. Best is trial 11 with value: 0.35150097701629335.\n",
      "[I 2023-06-07 09:52:51,339] Trial 22 finished with value: 0.3432918894207755 and parameters: {'max_depth': 6, 'min_samples_leaf': 8}. Best is trial 11 with value: 0.35150097701629335.\n",
      "[I 2023-06-07 09:52:51,363] Trial 23 finished with value: 0.2820770292916407 and parameters: {'max_depth': 9, 'min_samples_leaf': 6}. Best is trial 11 with value: 0.35150097701629335.\n",
      "[I 2023-06-07 09:52:51,380] Trial 24 finished with value: 0.3456077188402456 and parameters: {'max_depth': 7, 'min_samples_leaf': 9}. Best is trial 11 with value: 0.35150097701629335.\n",
      "[I 2023-06-07 09:52:51,396] Trial 25 finished with value: 0.3281508235616552 and parameters: {'max_depth': 5, 'min_samples_leaf': 7}. Best is trial 11 with value: 0.35150097701629335.\n",
      "[I 2023-06-07 09:52:51,420] Trial 26 finished with value: 0.2888192471891386 and parameters: {'max_depth': 8, 'min_samples_leaf': 5}. Best is trial 11 with value: 0.35150097701629335.\n",
      "[I 2023-06-07 09:52:51,436] Trial 27 finished with value: 0.31748492931684186 and parameters: {'max_depth': 9, 'min_samples_leaf': 8}. Best is trial 11 with value: 0.35150097701629335.\n",
      "[I 2023-06-07 09:52:51,460] Trial 28 finished with value: 0.34560771884024555 and parameters: {'max_depth': 7, 'min_samples_leaf': 9}. Best is trial 11 with value: 0.35150097701629335.\n",
      "[I 2023-06-07 09:52:51,476] Trial 29 finished with value: 0.32939384037298 and parameters: {'max_depth': 6, 'min_samples_leaf': 10}. Best is trial 11 with value: 0.35150097701629335.\n",
      "[I 2023-06-07 09:52:51,500] Trial 30 finished with value: 0.32227634953756573 and parameters: {'max_depth': 8, 'min_samples_leaf': 7}. Best is trial 11 with value: 0.35150097701629335.\n",
      "[I 2023-06-07 09:52:51,519] Trial 31 finished with value: 0.3515009770162933 and parameters: {'max_depth': 7, 'min_samples_leaf': 8}. Best is trial 11 with value: 0.35150097701629335.\n",
      "[I 2023-06-07 09:52:51,541] Trial 32 finished with value: 0.3432918894207755 and parameters: {'max_depth': 6, 'min_samples_leaf': 8}. Best is trial 11 with value: 0.35150097701629335.\n",
      "[I 2023-06-07 09:52:51,557] Trial 33 finished with value: 0.33719428321468764 and parameters: {'max_depth': 7, 'min_samples_leaf': 6}. Best is trial 11 with value: 0.35150097701629335.\n",
      "[I 2023-06-07 09:52:51,581] Trial 34 finished with value: 0.3164224249689837 and parameters: {'max_depth': 9, 'min_samples_leaf': 9}. Best is trial 11 with value: 0.35150097701629335.\n",
      "[I 2023-06-07 09:52:51,597] Trial 35 finished with value: 0.32815082356165504 and parameters: {'max_depth': 5, 'min_samples_leaf': 7}. Best is trial 11 with value: 0.35150097701629335.\n",
      "[I 2023-06-07 09:52:51,621] Trial 36 finished with value: 0.3369758569393377 and parameters: {'max_depth': 8, 'min_samples_leaf': 8}. Best is trial 11 with value: 0.35150097701629335.\n",
      "[I 2023-06-07 09:52:51,637] Trial 37 finished with value: 0.3079922811160145 and parameters: {'max_depth': 10, 'min_samples_leaf': 10}. Best is trial 11 with value: 0.35150097701629335.\n",
      "[I 2023-06-07 09:52:51,661] Trial 38 finished with value: 0.3447727567452203 and parameters: {'max_depth': 7, 'min_samples_leaf': 7}. Best is trial 11 with value: 0.35150097701629335.\n",
      "[I 2023-06-07 09:52:51,677] Trial 39 finished with value: 0.3525854920278177 and parameters: {'max_depth': 6, 'min_samples_leaf': 6}. Best is trial 39 with value: 0.3525854920278177.\n",
      "[I 2023-06-07 09:52:51,701] Trial 40 finished with value: 0.3307654638058826 and parameters: {'max_depth': 5, 'min_samples_leaf': 4}. Best is trial 39 with value: 0.3525854920278177.\n",
      "[I 2023-06-07 09:52:51,741] Trial 41 finished with value: 0.3525854920278176 and parameters: {'max_depth': 6, 'min_samples_leaf': 6}. Best is trial 39 with value: 0.3525854920278177.\n",
      "[I 2023-06-07 09:52:51,789] Trial 42 finished with value: 0.3445238350084526 and parameters: {'max_depth': 6, 'min_samples_leaf': 5}. Best is trial 39 with value: 0.3525854920278177.\n",
      "[I 2023-06-07 09:52:51,821] Trial 43 finished with value: 0.3525854920278177 and parameters: {'max_depth': 6, 'min_samples_leaf': 6}. Best is trial 39 with value: 0.3525854920278177.\n",
      "[I 2023-06-07 09:52:51,853] Trial 44 finished with value: 0.31459015216271863 and parameters: {'max_depth': 4, 'min_samples_leaf': 6}. Best is trial 39 with value: 0.3525854920278177.\n",
      "[I 2023-06-07 09:52:51,869] Trial 45 finished with value: 0.3387469228282491 and parameters: {'max_depth': 6, 'min_samples_leaf': 4}. Best is trial 39 with value: 0.3525854920278177.\n",
      "[I 2023-06-07 09:52:51,893] Trial 46 finished with value: 0.31459015216271885 and parameters: {'max_depth': 4, 'min_samples_leaf': 6}. Best is trial 39 with value: 0.3525854920278177.\n",
      "[I 2023-06-07 09:52:51,917] Trial 47 finished with value: 0.3336455321497877 and parameters: {'max_depth': 5, 'min_samples_leaf': 5}. Best is trial 39 with value: 0.3525854920278177.\n",
      "[I 2023-06-07 09:52:51,941] Trial 48 finished with value: 0.27133909706523324 and parameters: {'max_depth': 3, 'min_samples_leaf': 4}. Best is trial 39 with value: 0.3525854920278177.\n",
      "[I 2023-06-07 09:52:51,966] Trial 49 finished with value: 0.3525854920278177 and parameters: {'max_depth': 6, 'min_samples_leaf': 6}. Best is trial 39 with value: 0.3525854920278177.\n",
      "[I 2023-06-07 09:52:51,982] Trial 50 finished with value: 0.3525854920278177 and parameters: {'max_depth': 6, 'min_samples_leaf': 6}. Best is trial 39 with value: 0.3525854920278177.\n",
      "[I 2023-06-07 09:52:52,006] Trial 51 finished with value: 0.3525854920278177 and parameters: {'max_depth': 6, 'min_samples_leaf': 6}. Best is trial 39 with value: 0.3525854920278177.\n",
      "[I 2023-06-07 09:52:52,030] Trial 52 finished with value: 0.35258549202781775 and parameters: {'max_depth': 6, 'min_samples_leaf': 6}. Best is trial 52 with value: 0.35258549202781775.\n",
      "[I 2023-06-07 09:52:52,046] Trial 53 finished with value: 0.3445238350084527 and parameters: {'max_depth': 6, 'min_samples_leaf': 5}. Best is trial 52 with value: 0.35258549202781775.\n",
      "[I 2023-06-07 09:52:52,062] Trial 54 finished with value: 0.3290679399290372 and parameters: {'max_depth': 5, 'min_samples_leaf': 6}. Best is trial 52 with value: 0.35258549202781775.\n",
      "[I 2023-06-07 09:52:52,094] Trial 55 finished with value: 0.3445238350084525 and parameters: {'max_depth': 6, 'min_samples_leaf': 5}. Best is trial 52 with value: 0.35258549202781775.\n",
      "[I 2023-06-07 09:52:52,111] Trial 56 finished with value: 0.328150823561655 and parameters: {'max_depth': 5, 'min_samples_leaf': 7}. Best is trial 52 with value: 0.35258549202781775.\n",
      "[I 2023-06-07 09:52:52,135] Trial 57 finished with value: 0.3525854920278177 and parameters: {'max_depth': 6, 'min_samples_leaf': 6}. Best is trial 52 with value: 0.35258549202781775.\n",
      "[I 2023-06-07 09:52:52,152] Trial 58 finished with value: 0.333645532149788 and parameters: {'max_depth': 5, 'min_samples_leaf': 5}. Best is trial 52 with value: 0.35258549202781775.\n",
      "[I 2023-06-07 09:52:52,175] Trial 59 finished with value: 0.35258549202781747 and parameters: {'max_depth': 6, 'min_samples_leaf': 6}. Best is trial 52 with value: 0.35258549202781775.\n",
      "[I 2023-06-07 09:52:52,199] Trial 60 finished with value: 0.3525854920278176 and parameters: {'max_depth': 6, 'min_samples_leaf': 6}. Best is trial 52 with value: 0.35258549202781775.\n",
      "[I 2023-06-07 09:52:52,223] Trial 61 finished with value: 0.3525854920278177 and parameters: {'max_depth': 6, 'min_samples_leaf': 6}. Best is trial 52 with value: 0.35258549202781775.\n",
      "[I 2023-06-07 09:52:52,252] Trial 62 finished with value: 0.35147734223140614 and parameters: {'max_depth': 6, 'min_samples_leaf': 7}. Best is trial 52 with value: 0.35258549202781775.\n",
      "[I 2023-06-07 09:52:52,279] Trial 63 finished with value: 0.32906793992903727 and parameters: {'max_depth': 5, 'min_samples_leaf': 6}. Best is trial 52 with value: 0.35258549202781775.\n",
      "[I 2023-06-07 09:52:52,303] Trial 64 finished with value: 0.34477275674522007 and parameters: {'max_depth': 7, 'min_samples_leaf': 7}. Best is trial 52 with value: 0.35258549202781775.\n",
      "[I 2023-06-07 09:52:52,327] Trial 65 finished with value: 0.32331852487331714 and parameters: {'max_depth': 7, 'min_samples_leaf': 5}. Best is trial 52 with value: 0.35258549202781775.\n",
      "[I 2023-06-07 09:52:52,352] Trial 66 finished with value: 0.3525854920278177 and parameters: {'max_depth': 6, 'min_samples_leaf': 6}. Best is trial 52 with value: 0.35258549202781775.\n",
      "[I 2023-06-07 09:52:52,384] Trial 67 finished with value: 0.35258549202781747 and parameters: {'max_depth': 6, 'min_samples_leaf': 6}. Best is trial 52 with value: 0.35258549202781775.\n",
      "[I 2023-06-07 09:52:52,472] Trial 68 finished with value: 0.3281508235616551 and parameters: {'max_depth': 5, 'min_samples_leaf': 7}. Best is trial 52 with value: 0.35258549202781775.\n",
      "[I 2023-06-07 09:52:52,488] Trial 69 finished with value: 0.3233185248733172 and parameters: {'max_depth': 7, 'min_samples_leaf': 5}. Best is trial 52 with value: 0.35258549202781775.\n",
      "[I 2023-06-07 09:52:52,512] Trial 70 finished with value: 0.3145901521627189 and parameters: {'max_depth': 4, 'min_samples_leaf': 6}. Best is trial 52 with value: 0.35258549202781775.\n",
      "[I 2023-06-07 09:52:52,529] Trial 71 finished with value: 0.3525854920278179 and parameters: {'max_depth': 6, 'min_samples_leaf': 6}. Best is trial 71 with value: 0.3525854920278179.\n",
      "[I 2023-06-07 09:52:52,561] Trial 72 finished with value: 0.3525854920278178 and parameters: {'max_depth': 6, 'min_samples_leaf': 6}. Best is trial 71 with value: 0.3525854920278179.\n",
      "[I 2023-06-07 09:52:52,593] Trial 73 finished with value: 0.3281508235616551 and parameters: {'max_depth': 5, 'min_samples_leaf': 7}. Best is trial 71 with value: 0.3525854920278179.\n",
      "[I 2023-06-07 09:52:52,617] Trial 74 finished with value: 0.3525854920278175 and parameters: {'max_depth': 6, 'min_samples_leaf': 6}. Best is trial 71 with value: 0.3525854920278179.\n",
      "[I 2023-06-07 09:52:52,657] Trial 75 finished with value: 0.32331852487331725 and parameters: {'max_depth': 7, 'min_samples_leaf': 5}. Best is trial 71 with value: 0.3525854920278179.\n",
      "[I 2023-06-07 09:52:52,689] Trial 76 finished with value: 0.3525854920278175 and parameters: {'max_depth': 6, 'min_samples_leaf': 6}. Best is trial 71 with value: 0.3525854920278179.\n",
      "[I 2023-06-07 09:52:52,713] Trial 77 finished with value: 0.3447727567452201 and parameters: {'max_depth': 7, 'min_samples_leaf': 7}. Best is trial 71 with value: 0.3525854920278179.\n",
      "[I 2023-06-07 09:52:52,762] Trial 78 finished with value: 0.3525854920278176 and parameters: {'max_depth': 6, 'min_samples_leaf': 6}. Best is trial 71 with value: 0.3525854920278179.\n",
      "[I 2023-06-07 09:52:52,802] Trial 79 finished with value: 0.33364553214978776 and parameters: {'max_depth': 5, 'min_samples_leaf': 5}. Best is trial 71 with value: 0.3525854920278179.\n",
      "[I 2023-06-07 09:52:52,834] Trial 80 finished with value: 0.3525854920278175 and parameters: {'max_depth': 6, 'min_samples_leaf': 6}. Best is trial 71 with value: 0.3525854920278179.\n",
      "[I 2023-06-07 09:52:52,874] Trial 81 finished with value: 0.3514773422314061 and parameters: {'max_depth': 6, 'min_samples_leaf': 7}. Best is trial 71 with value: 0.3525854920278179.\n",
      "[I 2023-06-07 09:52:52,915] Trial 82 finished with value: 0.35258549202781775 and parameters: {'max_depth': 6, 'min_samples_leaf': 6}. Best is trial 71 with value: 0.3525854920278179.\n",
      "[I 2023-06-07 09:52:52,953] Trial 83 finished with value: 0.337172052405513 and parameters: {'max_depth': 7, 'min_samples_leaf': 6}. Best is trial 71 with value: 0.3525854920278179.\n",
      "[I 2023-06-07 09:52:52,979] Trial 84 finished with value: 0.3525854920278177 and parameters: {'max_depth': 6, 'min_samples_leaf': 6}. Best is trial 71 with value: 0.3525854920278179.\n",
      "[I 2023-06-07 09:52:53,011] Trial 85 finished with value: 0.33364553214978776 and parameters: {'max_depth': 5, 'min_samples_leaf': 5}. Best is trial 71 with value: 0.3525854920278179.\n",
      "[I 2023-06-07 09:52:53,043] Trial 86 finished with value: 0.33717205240551307 and parameters: {'max_depth': 7, 'min_samples_leaf': 6}. Best is trial 71 with value: 0.3525854920278179.\n",
      "[I 2023-06-07 09:52:53,083] Trial 87 finished with value: 0.3514773422314061 and parameters: {'max_depth': 6, 'min_samples_leaf': 7}. Best is trial 71 with value: 0.3525854920278179.\n",
      "[I 2023-06-07 09:52:53,107] Trial 88 finished with value: 0.3148546891465104 and parameters: {'max_depth': 5, 'min_samples_leaf': 2}. Best is trial 71 with value: 0.3525854920278179.\n",
      "[I 2023-06-07 09:52:53,139] Trial 89 finished with value: 0.3445238350084527 and parameters: {'max_depth': 6, 'min_samples_leaf': 5}. Best is trial 71 with value: 0.3525854920278179.\n",
      "[I 2023-06-07 09:52:53,187] Trial 90 finished with value: 0.35258549202781747 and parameters: {'max_depth': 6, 'min_samples_leaf': 6}. Best is trial 71 with value: 0.3525854920278179.\n",
      "[I 2023-06-07 09:52:53,211] Trial 91 finished with value: 0.3525854920278175 and parameters: {'max_depth': 6, 'min_samples_leaf': 6}. Best is trial 71 with value: 0.3525854920278179.\n",
      "[I 2023-06-07 09:52:53,253] Trial 92 finished with value: 0.3525854920278176 and parameters: {'max_depth': 6, 'min_samples_leaf': 6}. Best is trial 71 with value: 0.3525854920278179.\n",
      "[I 2023-06-07 09:52:53,290] Trial 93 finished with value: 0.3525854920278176 and parameters: {'max_depth': 6, 'min_samples_leaf': 6}. Best is trial 71 with value: 0.3525854920278179.\n",
      "[I 2023-06-07 09:52:53,332] Trial 94 finished with value: 0.35147734223140586 and parameters: {'max_depth': 6, 'min_samples_leaf': 7}. Best is trial 71 with value: 0.3525854920278179.\n",
      "[I 2023-06-07 09:52:53,380] Trial 95 finished with value: 0.33717205240551307 and parameters: {'max_depth': 7, 'min_samples_leaf': 6}. Best is trial 71 with value: 0.3525854920278179.\n",
      "[I 2023-06-07 09:52:53,412] Trial 96 finished with value: 0.32906793992903727 and parameters: {'max_depth': 5, 'min_samples_leaf': 6}. Best is trial 71 with value: 0.3525854920278179.\n",
      "[I 2023-06-07 09:52:53,450] Trial 97 finished with value: 0.3445238350084529 and parameters: {'max_depth': 6, 'min_samples_leaf': 5}. Best is trial 71 with value: 0.3525854920278179.\n",
      "[I 2023-06-07 09:52:53,484] Trial 98 finished with value: 0.3514773422314059 and parameters: {'max_depth': 6, 'min_samples_leaf': 7}. Best is trial 71 with value: 0.3525854920278179.\n",
      "[I 2023-06-07 09:52:53,537] Trial 99 finished with value: 0.33717205240551307 and parameters: {'max_depth': 7, 'min_samples_leaf': 6}. Best is trial 71 with value: 0.3525854920278179.\n"
     ]
    },
    {
     "name": "stdout",
     "output_type": "stream",
     "text": [
      "Best Max Depth is :  6\n",
      "Best Min Samples Leaf is :  6\n",
      "Training Accuracy: 0.4581940596683014\n",
      "Test Accuracy: 0.3525854920278178\n"
     ]
    }
   ],
   "source": [
    "from sklearn.tree import DecisionTreeRegressor\n",
    "from sklearn.model_selection import train_test_split\n",
    "import optuna\n",
    "# Assuming you have your input features in X and output features in y\n",
    "\n",
    "# Split the data into training and test sets\n",
    "X_train, X_test, y_train, y_test = train_test_split(X, y, test_size=0.3, random_state=10)\n",
    "\n",
    "\n",
    "def objective(trial):\n",
    "    max_depth = trial.suggest_int('max_depth', 2, 10)\n",
    "    min_samples_leaf = trial.suggest_int('min_samples_leaf', 2, 10)\n",
    "    \n",
    "    # Create the decision tree regressor object with the suggested parameters\n",
    "    clf = DecisionTreeRegressor(max_depth=max_depth, min_samples_leaf=min_samples_leaf)\n",
    "\n",
    "    # Fit the model to the training data\n",
    "    clf.fit(X_train, y_train)\n",
    "    \n",
    "    # Calculate the test accuracy\n",
    "    test_accuracy = clf.score(X_test, y_test)\n",
    "    \n",
    "    return test_accuracy\n",
    "\n",
    "\n",
    "study = optuna.create_study(direction='maximize')\n",
    "study.optimize(objective, n_trials=100)\n",
    "\n",
    "# Get the best parameters from the study\n",
    "best_params = study.best_params\n",
    "\n",
    "\n",
    "clf = DecisionTreeRegressor(max_depth=best_params['max_depth'], min_samples_leaf=best_params['min_samples_leaf'])\n",
    "clf.fit(X_train, y_train)\n",
    "\n",
    "\n",
    "print(\"Best Max Depth is : \",best_params['max_depth'])\n",
    "\n",
    "print(\"Best Min Samples Leaf is : \",best_params['min_samples_leaf'])\n",
    "train_accuracy = clf.score(X_train, y_train)\n",
    "test_accuracy = clf.score(X_test, y_test)\n",
    "\n",
    "print(\"Training Accuracy:\", train_accuracy)\n",
    "print(\"Test Accuracy:\", test_accuracy)\n",
    "\n"
   ]
  },
  {
   "attachments": {},
   "cell_type": "markdown",
   "metadata": {},
   "source": [
    "<h2> Model Trained By Lasso</h2>"
   ]
  },
  {
   "cell_type": "code",
   "execution_count": 15,
   "metadata": {},
   "outputs": [
    {
     "name": "stdout",
     "output_type": "stream",
     "text": [
      "Mean Squared Error: 8253879.676310178\n",
      "Score: 0.19409810053905965\n"
     ]
    }
   ],
   "source": [
    "from sklearn.linear_model import Lasso\n",
    "from sklearn.model_selection import train_test_split\n",
    "from sklearn.metrics import mean_squared_error\n",
    "\n",
    "# Assuming you have a pandas DataFrame 'data' containing your feature columns (X) and target column (y)\n",
    "\n",
    "# Split the data into training and testing sets\n",
    "X_train, X_test, y_train, y_test = train_test_split(X, y, test_size=0.20, random_state=42)\n",
    "\n",
    "# Create the Lasso regression model\n",
    "lasso = Lasso(alpha=0.001)  # Adjust the alpha parameter to control the degree of regularization\n",
    "\n",
    "# Fit the model to the training data\n",
    "lasso.fit(X_train, y_train)\n",
    "\n",
    "# Make predictions on the testing data\n",
    "y_pred = lasso.predict(X_test)\n",
    "\n",
    "# Evaluate the model\n",
    "mse = mean_squared_error(y_test, y_pred)\n",
    "print(\"Mean Squared Error:\", mse)\n",
    "# Get the score (coefficient of determination) on the testing data\n",
    "score = lasso.score(X_test, y_test)\n",
    "print(\"Score:\", score)"
   ]
  },
  {
   "attachments": {},
   "cell_type": "markdown",
   "metadata": {},
   "source": [
    "<h2>Model Trained By Ridge regression </h2>"
   ]
  },
  {
   "cell_type": "code",
   "execution_count": 16,
   "metadata": {},
   "outputs": [
    {
     "name": "stdout",
     "output_type": "stream",
     "text": [
      "Mean Squared Error: 8257927.408807549\n",
      "R2 Score: 0.19353924689866878\n"
     ]
    }
   ],
   "source": [
    "from sklearn.linear_model import Ridge\n",
    "from sklearn.model_selection import train_test_split\n",
    "from sklearn.metrics import mean_squared_error, r2_score\n",
    "from sklearn.preprocessing import StandardScaler\n",
    "\n",
    "# Assuming you have your feature matrix X and target variable y\n",
    "\n",
    "# Split the data into training and testing sets\n",
    "X_train, X_test, y_train, y_test = train_test_split(X, y, test_size=0.2, random_state=42)\n",
    "\n",
    "# Standardize the features (optional but recommended for regularization)\n",
    "scaler = StandardScaler()\n",
    "X_train = scaler.fit_transform(X_train)\n",
    "X_test = scaler.transform(X_test)\n",
    "\n",
    "# Create a Ridge regression model\n",
    "ridge = Ridge(alpha=1.0)  # You can adjust the regularization strength by changing the alpha parameter\n",
    "\n",
    "# Train the model\n",
    "ridge.fit(X_train, y_train)\n",
    "\n",
    "# Make predictions\n",
    "y_pred = ridge.predict(X_test)\n",
    "\n",
    "# Evaluate the model\n",
    "mse = mean_squared_error(y_test, y_pred)\n",
    "r2 = r2_score(y_test, y_pred)\n",
    "\n",
    "print(\"Mean Squared Error:\", mse)\n",
    "print(\"R2 Score:\", r2)"
   ]
  },
  {
   "cell_type": "code",
   "execution_count": null,
   "metadata": {},
   "outputs": [],
   "source": []
  }
 ],
 "metadata": {
  "colab": {
   "provenance": []
  },
  "interpreter": {
   "hash": "ed69033dcf95bf03c49614e5fe4e96f21774bed12a1dae221247a7de4d30fa71"
  },
  "kernelspec": {
   "display_name": "Python 3.10.11 ('base')",
   "language": "python",
   "name": "python3"
  },
  "language_info": {
   "codemirror_mode": {
    "name": "ipython",
    "version": 3
   },
   "file_extension": ".py",
   "mimetype": "text/x-python",
   "name": "python",
   "nbconvert_exporter": "python",
   "pygments_lexer": "ipython3",
   "version": "3.7.16"
  }
 },
 "nbformat": 4,
 "nbformat_minor": 0
}
