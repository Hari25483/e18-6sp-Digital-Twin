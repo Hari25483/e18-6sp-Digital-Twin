{
  "cells": [
    {
      "cell_type": "code",
      "execution_count": 308,
      "metadata": {
        "colab": {
          "base_uri": "https://localhost:8080/",
          "height": 206
        },
        "id": "ZPI0oe6BqLDF",
        "outputId": "5252059f-5c14-4331-f6fc-6ff1e429738d"
      },
      "outputs": [
        {
          "name": "stdout",
          "output_type": "stream",
          "text": [
            "      siteId  seqNo         date       time  temp1  temp2  temp3 humidity1  \\\n",
            "41841      0   1667   2020-10-29   13:54:31   32.5   34.3   32.7      66.7   \n",
            "41842      0   1668   2020-10-29   13:55:01   32.5   34.5   32.7      66.3   \n",
            "41843      0   1669   2020-10-29   13:55:31   32.5   34.3   32.5      65.2   \n",
            "41844      0   1670   2020-10-29   13:56:03      ?   34.1   32.3         ?   \n",
            "41845      0   1671   2020-10-29   13:56:30   32.4     34   32.2        66   \n",
            "\n",
            "      humidity2 humidity3     light  \n",
            "41841        56        61   9714.17  \n",
            "41842        56        61      6820  \n",
            "41843        54        61   6175.83  \n",
            "41844        56        63   6005.42  \n",
            "41845        56        61   6124.58  \n"
          ]
        }
      ],
      "source": [
        "import requests\n",
        "import pandas as pd\n",
        "\n",
        "base_url = \"http://agbc-fe.pdn.ac.lk/api/v1/data/?sensor=10008&date=\"\n",
        "\n",
        "start_date = pd.to_datetime(\"2020-10-17\")\n",
        "end_date = pd.to_datetime(\"2020-10-29\")\n",
        "\n",
        "date_range = pd.date_range(start=start_date, end=end_date, freq=\"D\")\n",
        "\n",
        "all_data = []\n",
        "\n",
        "for date in date_range:\n",
        "    date_str = date.strftime(\"%Y-%m-%d\")\n",
        "    url = base_url + date_str\n",
        "    response = requests.get(url)\n",
        "    data = response.json()\n",
        "    all_data.extend(data['data'])\n",
        "\n",
        "df = pd.DataFrame(all_data, dtype=str)\n",
        "print(df.tail(5))"
      ]
    },
    {
      "cell_type": "code",
      "execution_count": 309,
      "metadata": {
        "colab": {
          "base_uri": "https://localhost:8080/"
        },
        "id": "CXMbj9kvrn1H",
        "outputId": "56c43792-dfe6-4cc4-9654-1b01d336140f"
      },
      "outputs": [
        {
          "name": "stdout",
          "output_type": "stream",
          "text": [
            "siteId       0\n",
            "seqNo        0\n",
            "date         0\n",
            "time         0\n",
            "temp1        0\n",
            "temp2        0\n",
            "temp3        0\n",
            "humidity1    0\n",
            "humidity2    0\n",
            "humidity3    0\n",
            "light        0\n",
            "dtype: int64\n"
          ]
        }
      ],
      "source": [
        "# check for missing values\n",
        "print(df.isnull().sum())"
      ]
    },
    {
      "cell_type": "code",
      "execution_count": 310,
      "metadata": {
        "id": "zBhqM74Brs51"
      },
      "outputs": [],
      "source": [
        "# drop rows with missing values\n",
        "df.dropna(inplace=True)"
      ]
    },
    {
      "cell_type": "code",
      "execution_count": 311,
      "metadata": {
        "id": "joYskXyPrzA8"
      },
      "outputs": [],
      "source": [
        "# Drop duplicate rows\n",
        "df=df.drop_duplicates(keep='first')"
      ]
    },
    {
      "cell_type": "code",
      "execution_count": 312,
      "metadata": {
        "colab": {
          "base_uri": "https://localhost:8080/",
          "height": 206
        },
        "id": "gEd3DbvksApo",
        "outputId": "a1a4440a-e2ab-4d00-9060-73107b549e57"
      },
      "outputs": [
        {
          "name": "stdout",
          "output_type": "stream",
          "text": [
            "      siteId  seqNo         date       time  temp1  temp2  temp3 humidity1  \\\n",
            "41836      0   1662   2020-10-29   13:52:01     32   33.2   31.5      65.2   \n",
            "41837      0   1663   2020-10-29   13:52:31     32   33.2   31.4      68.1   \n",
            "41838      0   1664   2020-10-29   13:53:01   31.9   33.2   31.5      66.1   \n",
            "41839      0   1665   2020-10-29   13:53:31   31.9   33.2   31.5      65.9   \n",
            "41840      0   1666   2020-10-29   13:54:01   32.2   33.6   32.1      66.4   \n",
            "41841      0   1667   2020-10-29   13:54:31   32.5   34.3   32.7      66.7   \n",
            "41842      0   1668   2020-10-29   13:55:01   32.5   34.5   32.7      66.3   \n",
            "41843      0   1669   2020-10-29   13:55:31   32.5   34.3   32.5      65.2   \n",
            "41844      0   1670   2020-10-29   13:56:03    NaN   34.1   32.3       NaN   \n",
            "41845      0   1671   2020-10-29   13:56:30   32.4     34   32.2        66   \n",
            "\n",
            "      humidity2 humidity3     light  \n",
            "41836        57        64   5610.42  \n",
            "41837        58        67   5136.25  \n",
            "41838        58        64   5330.42  \n",
            "41839        57        65   5711.67  \n",
            "41840        59        66   10159.2  \n",
            "41841        56        61   9714.17  \n",
            "41842        56        61      6820  \n",
            "41843        54        61   6175.83  \n",
            "41844        56        63   6005.42  \n",
            "41845        56        61   6124.58  \n"
          ]
        }
      ],
      "source": [
        "import numpy as np\n",
        "# Replace '?' with NaN\n",
        "\n",
        "df.replace(' ?', np.nan, inplace=True)\n",
        "# Drop rows containing missing values\n",
        "# Replace the missing values with NaN\n",
        "df = df.fillna(np.nan)\n",
        "# Drop rows containing missing values\n",
        "# Replace the missing values with NaN\n",
        "\n",
        "#df = df.replace(['?', 'NA', 'N/A', 'None'],0)\n",
        "\n",
        "\n",
        "print(df.tail(10))\n"
      ]
    },
    {
      "cell_type": "code",
      "execution_count": 313,
      "metadata": {
        "colab": {
          "base_uri": "https://localhost:8080/",
          "height": 206
        },
        "id": "xMtknm7U08g1",
        "outputId": "69988c3e-01f9-4285-c9dc-a8fce8e5b36b"
      },
      "outputs": [],
      "source": [
        "# Drop rows containing missing values\n",
        "df = df.dropna()\n"
      ]
    },
    {
      "cell_type": "code",
      "execution_count": 314,
      "metadata": {
        "colab": {
          "base_uri": "https://localhost:8080/"
        },
        "id": "y3DnDwFzcrdM",
        "outputId": "93ea969a-939d-4c10-b47b-35828d743a44"
      },
      "outputs": [
        {
          "name": "stdout",
          "output_type": "stream",
          "text": [
            "       seqNo         date       time  average_temp  average_humidity     light\n",
            "0          0   2020-10-17   05:30:16     18.900000         94.100000      1.25\n",
            "1          1   2020-10-17   05:30:31     18.933333         94.133333      1.25\n",
            "3          3   2020-10-17   05:31:01     18.933333         94.266667      1.25\n",
            "4          4   2020-10-17   05:31:16     18.900000         94.033333      1.25\n",
            "9          9   2020-10-17   05:32:31     18.900000         93.933333      1.25\n",
            "...      ...          ...        ...           ...               ...       ...\n",
            "41840   1666   2020-10-29   13:54:01     32.633333         63.800000   10159.2\n",
            "41841   1667   2020-10-29   13:54:31     33.166667         61.233333   9714.17\n",
            "41842   1668   2020-10-29   13:55:01     33.233333         61.100000      6820\n",
            "41843   1669   2020-10-29   13:55:31     33.100000         60.066667   6175.83\n",
            "41845   1671   2020-10-29   13:56:30     32.866667         61.000000   6124.58\n",
            "\n",
            "[27245 rows x 6 columns]\n"
          ]
        }
      ],
      "source": [
        "# Convert temperature columns to numeric\n",
        "df['temp1'] = pd.to_numeric(df['temp1'], errors='coerce')\n",
        "df['temp2'] = pd.to_numeric(df['temp2'], errors='coerce')\n",
        "df['temp3'] = pd.to_numeric(df['temp3'], errors='coerce')\n",
        "\n",
        "# Convert temperature columns to numeric\n",
        "df['humidity1'] = pd.to_numeric(df['humidity1'], errors='coerce')\n",
        "df['humidity2'] = pd.to_numeric(df['humidity2'], errors='coerce')\n",
        "df['humidity3'] = pd.to_numeric(df['humidity3'], errors='coerce')\n",
        "\n",
        "df['seqNo'] = pd.to_numeric(df['seqNo'], errors='coerce')\n",
        "\n",
        "# Calculate the average temperature\n",
        "df['average_temp'] = df[['temp1', 'temp2', 'temp3']].mean(axis=1)\n",
        "\n",
        "# Calculate the average humidity\n",
        "df['average_humidity'] = df[['humidity1', 'humidity2', 'humidity3']].mean(axis=1)\n",
        "\n",
        "# Create a new DataFrame with only the desired columns\n",
        "new_df = df[['seqNo','date','time','average_temp', 'average_humidity', 'light']]\n",
        "\n",
        "# Print the selected columns\n",
        "print(new_df)"
      ]
    },
    {
      "cell_type": "code",
      "execution_count": 315,
      "metadata": {},
      "outputs": [
        {
          "name": "stdout",
          "output_type": "stream",
          "text": [
            "            Date       Time  average_temp  average_humidity\n",
            "0     2020-10-18   06:00:46     21.288889         94.622222\n",
            "1     2020-10-18   07:00:00     22.500000         94.400000\n",
            "2     2020-10-18   08:00:46     30.125000         69.733333\n",
            "3     2020-10-18   09:00:31     29.416667         76.716667\n",
            "4     2020-10-18   10:00:46     36.900000         46.283333\n",
            "..           ...        ...           ...               ...\n",
            "289   2020-10-29   11:00:31     33.500000         60.366667\n",
            "290   2020-10-29   12:00:02     35.333333         56.033333\n",
            "291   2020-10-29   12:00:31     34.800000         60.300000\n",
            "292   2020-10-29   13:00:01     31.533333         70.133333\n",
            "293   2020-10-29   13:00:31     31.433333         72.133333\n",
            "\n",
            "[294 rows x 4 columns]\n"
          ]
        }
      ],
      "source": [
        "new_rows = []  # List to store the combined rows\n",
        "x=0\n",
        "count=0\n",
        "average_temp = 0\n",
        "average_humidity = 0\n",
        "light = 0\n",
        "n=6\n",
        "rowcount=0\n",
        "for index, row in df.iterrows():\n",
        "    # Access the values of each column in the current row\n",
        "    time1 = row['time']\n",
        "\n",
        "    sliced_text = time1[4:6]  #sliced the time xx:yy:xx\n",
        "  \n",
        "    \n",
        "    if(sliced_text==\"00\"): #if yy==00\n",
        "        sliced_text1 = time1[1:6] # get front slice xx:xx:\n",
        "        if(n>23):\n",
        "            n=0\n",
        "            \n",
        "        \n",
        "            \n",
        "    \n",
        "        if(n <= 9 and sliced_text1 == \"0\" + str(n) + \":00\" ):\n",
        "            \n",
        "        \n",
        "         # Access the values of the current row\n",
        "            date = row['date']\n",
        "            time = row['time']\n",
        "            average_temp = row['average_temp']+average_temp\n",
        "            average_humidity = row['average_humidity']+average_humidity\n",
        "            x=row['seqNo']\n",
        "            count=count+1\n",
        "\n",
        "\n",
        "        elif( sliced_text1 == str(n) + \":00\" ):\n",
        "            \n",
        "            \n",
        "            \n",
        "         # Access the values of the current row\n",
        "            date = row['date']\n",
        "            time = row['time']\n",
        "            average_temp = row['average_temp']+average_temp\n",
        "            average_humidity = row['average_humidity']+average_humidity\n",
        "            x=row['seqNo']\n",
        "            count=count+1\n",
        "            \n",
        "       \n",
        "        \n",
        "        \n",
        "\n",
        "\n",
        "\n",
        "        \n",
        "\n",
        "\n",
        "        \n",
        "        else:\n",
        "            if (count==0 ):\n",
        "\n",
        "                count=1\n",
        "       \n",
        "            \n",
        "            new_row = {\n",
        "            'Date': date,\n",
        "            'Time': time,\n",
        "            'average_temp': average_temp/count ,\n",
        "            'average_humidity': average_humidity/count ,\n",
        "             }\n",
        "            #print(new_row)\n",
        "            new_rows.append(new_row)\n",
        "            \n",
        "            count=1\n",
        "            n=n+1\n",
        "            \n",
        "    \n",
        "            \n",
        "            \n",
        "            \n",
        "            date = row['date']\n",
        "            time = row['time']\n",
        "            average_temp = row['average_temp']\n",
        "            average_humidity = row['average_humidity']\n",
        "\n",
        "new_row = {\n",
        "            'Date': date,\n",
        "            'Time': time,\n",
        "            'average_temp': average_temp/count ,\n",
        "            'average_humidity': average_humidity/count ,\n",
        "             }\n",
        "new_rows.append(new_row)\n",
        "new_df1 = pd.DataFrame(new_rows)\n",
        "\n",
        "\n",
        "\n",
        "\n",
        "        \n",
        "            \n",
        "\n",
        " \n",
        "       \n",
        "    \n",
        "print(new_df1)      \n"
      ]
    },
    {
      "cell_type": "code",
      "execution_count": null,
      "metadata": {},
      "outputs": [],
      "source": [
        "\n"
      ]
    },
    {
      "attachments": {},
      "cell_type": "markdown",
      "metadata": {
        "id": "0uRNR2qPplp2"
      },
      "source": [
        "from datetime import datetime\n",
        "\n",
        "start_date = \"2022-10-18\"\n",
        "start_datetime = datetime.strptime(start_date, \"%Y-%m-%d\")\n",
        "start_unix_time = int(start_datetime.timestamp())"
      ]
    },
    {
      "cell_type": "code",
      "execution_count": 316,
      "metadata": {
        "id": "6atiuwjfpmv4"
      },
      "outputs": [
        {
          "name": "stdout",
          "output_type": "stream",
          "text": [
            "1666031400\n"
          ]
        }
      ],
      "source": [
        "from datetime import datetime\n",
        "\n",
        "start_date = \"2022-10-18\"\n",
        "start_datetime = datetime.strptime(start_date, \"%Y-%m-%d\")\n",
        "start_unix_time = int(start_datetime.timestamp())\n",
        "print(start_unix_time)"
      ]
    },
    {
      "cell_type": "code",
      "execution_count": 317,
      "metadata": {
        "id": "-H_FRXAppwyz"
      },
      "outputs": [
        {
          "name": "stdout",
          "output_type": "stream",
          "text": [
            "1666117800\n"
          ]
        }
      ],
      "source": [
        "from datetime import datetime\n",
        "\n",
        "end_date = \"2022-10-19\"\n",
        "end_datetime = datetime.strptime(end_date, \"%Y-%m-%d\")\n",
        "end_unix_time = int(end_datetime.timestamp())\n",
        "print(end_unix_time)"
      ]
    },
    {
      "cell_type": "code",
      "execution_count": 318,
      "metadata": {},
      "outputs": [],
      "source": [
        "import pandas as pd\n",
        "import numpy as np\n",
        "from matplotlib import pyplot as plt\n",
        "%matplotlib inline\n",
        "import matplotlib "
      ]
    },
    {
      "cell_type": "code",
      "execution_count": 319,
      "metadata": {},
      "outputs": [
        {
          "data": {
            "text/html": [
              "<div>\n",
              "<style scoped>\n",
              "    .dataframe tbody tr th:only-of-type {\n",
              "        vertical-align: middle;\n",
              "    }\n",
              "\n",
              "    .dataframe tbody tr th {\n",
              "        vertical-align: top;\n",
              "    }\n",
              "\n",
              "    .dataframe thead th {\n",
              "        text-align: right;\n",
              "    }\n",
              "</style>\n",
              "<table border=\"1\" class=\"dataframe\">\n",
              "  <thead>\n",
              "    <tr style=\"text-align: right;\">\n",
              "      <th></th>\n",
              "      <th>Date</th>\n",
              "      <th>Time</th>\n",
              "      <th>Temperature</th>\n",
              "      <th>Feels Like</th>\n",
              "      <th>Pressure</th>\n",
              "      <th>Humidity</th>\n",
              "      <th>Dew Point</th>\n",
              "      <th>Clouds</th>\n",
              "      <th>Wind Speed</th>\n",
              "      <th>Description</th>\n",
              "    </tr>\n",
              "  </thead>\n",
              "  <tbody>\n",
              "    <tr>\n",
              "      <th>24</th>\n",
              "      <td>2020-10-19</td>\n",
              "      <td>00:00:00</td>\n",
              "      <td>22.64</td>\n",
              "      <td>23.44</td>\n",
              "      <td>1009</td>\n",
              "      <td>95</td>\n",
              "      <td>21.80</td>\n",
              "      <td>40</td>\n",
              "      <td>1.00</td>\n",
              "      <td>scattered clouds</td>\n",
              "    </tr>\n",
              "    <tr>\n",
              "      <th>25</th>\n",
              "      <td>2020-10-19</td>\n",
              "      <td>01:00:00</td>\n",
              "      <td>22.76</td>\n",
              "      <td>23.47</td>\n",
              "      <td>1010</td>\n",
              "      <td>91</td>\n",
              "      <td>21.21</td>\n",
              "      <td>96</td>\n",
              "      <td>1.73</td>\n",
              "      <td>overcast clouds</td>\n",
              "    </tr>\n",
              "    <tr>\n",
              "      <th>26</th>\n",
              "      <td>2020-10-19</td>\n",
              "      <td>02:00:00</td>\n",
              "      <td>24.92</td>\n",
              "      <td>25.69</td>\n",
              "      <td>1010</td>\n",
              "      <td>85</td>\n",
              "      <td>22.22</td>\n",
              "      <td>98</td>\n",
              "      <td>1.83</td>\n",
              "      <td>overcast clouds</td>\n",
              "    </tr>\n",
              "    <tr>\n",
              "      <th>27</th>\n",
              "      <td>2020-10-19</td>\n",
              "      <td>03:00:00</td>\n",
              "      <td>25.08</td>\n",
              "      <td>25.63</td>\n",
              "      <td>1009</td>\n",
              "      <td>76</td>\n",
              "      <td>20.55</td>\n",
              "      <td>40</td>\n",
              "      <td>2.60</td>\n",
              "      <td>scattered clouds</td>\n",
              "    </tr>\n",
              "    <tr>\n",
              "      <th>28</th>\n",
              "      <td>2020-10-19</td>\n",
              "      <td>04:00:00</td>\n",
              "      <td>25.74</td>\n",
              "      <td>26.59</td>\n",
              "      <td>1011</td>\n",
              "      <td>85</td>\n",
              "      <td>23.03</td>\n",
              "      <td>99</td>\n",
              "      <td>2.65</td>\n",
              "      <td>overcast clouds</td>\n",
              "    </tr>\n",
              "    <tr>\n",
              "      <th>...</th>\n",
              "      <td>...</td>\n",
              "      <td>...</td>\n",
              "      <td>...</td>\n",
              "      <td>...</td>\n",
              "      <td>...</td>\n",
              "      <td>...</td>\n",
              "      <td>...</td>\n",
              "      <td>...</td>\n",
              "      <td>...</td>\n",
              "      <td>...</td>\n",
              "    </tr>\n",
              "    <tr>\n",
              "      <th>283</th>\n",
              "      <td>2020-10-29</td>\n",
              "      <td>19:00:00</td>\n",
              "      <td>22.82</td>\n",
              "      <td>23.64</td>\n",
              "      <td>1012</td>\n",
              "      <td>95</td>\n",
              "      <td>21.98</td>\n",
              "      <td>94</td>\n",
              "      <td>0.66</td>\n",
              "      <td>overcast clouds</td>\n",
              "    </tr>\n",
              "    <tr>\n",
              "      <th>284</th>\n",
              "      <td>2020-10-29</td>\n",
              "      <td>20:00:00</td>\n",
              "      <td>22.18</td>\n",
              "      <td>22.96</td>\n",
              "      <td>1012</td>\n",
              "      <td>96</td>\n",
              "      <td>21.51</td>\n",
              "      <td>97</td>\n",
              "      <td>0.64</td>\n",
              "      <td>overcast clouds</td>\n",
              "    </tr>\n",
              "    <tr>\n",
              "      <th>285</th>\n",
              "      <td>2020-10-29</td>\n",
              "      <td>21:00:00</td>\n",
              "      <td>21.62</td>\n",
              "      <td>22.32</td>\n",
              "      <td>1010</td>\n",
              "      <td>95</td>\n",
              "      <td>20.78</td>\n",
              "      <td>40</td>\n",
              "      <td>0.00</td>\n",
              "      <td>scattered clouds</td>\n",
              "    </tr>\n",
              "    <tr>\n",
              "      <th>286</th>\n",
              "      <td>2020-10-29</td>\n",
              "      <td>22:00:00</td>\n",
              "      <td>21.29</td>\n",
              "      <td>22.01</td>\n",
              "      <td>1011</td>\n",
              "      <td>97</td>\n",
              "      <td>20.79</td>\n",
              "      <td>96</td>\n",
              "      <td>0.54</td>\n",
              "      <td>overcast clouds</td>\n",
              "    </tr>\n",
              "    <tr>\n",
              "      <th>287</th>\n",
              "      <td>2020-10-29</td>\n",
              "      <td>23:00:00</td>\n",
              "      <td>21.46</td>\n",
              "      <td>22.17</td>\n",
              "      <td>1011</td>\n",
              "      <td>96</td>\n",
              "      <td>20.80</td>\n",
              "      <td>93</td>\n",
              "      <td>0.58</td>\n",
              "      <td>overcast clouds</td>\n",
              "    </tr>\n",
              "  </tbody>\n",
              "</table>\n",
              "<p>264 rows × 10 columns</p>\n",
              "</div>"
            ],
            "text/plain": [
              "           Date      Time  Temperature  Feels Like  Pressure  Humidity  \\\n",
              "24   2020-10-19  00:00:00        22.64       23.44      1009        95   \n",
              "25   2020-10-19  01:00:00        22.76       23.47      1010        91   \n",
              "26   2020-10-19  02:00:00        24.92       25.69      1010        85   \n",
              "27   2020-10-19  03:00:00        25.08       25.63      1009        76   \n",
              "28   2020-10-19  04:00:00        25.74       26.59      1011        85   \n",
              "..          ...       ...          ...         ...       ...       ...   \n",
              "283  2020-10-29  19:00:00        22.82       23.64      1012        95   \n",
              "284  2020-10-29  20:00:00        22.18       22.96      1012        96   \n",
              "285  2020-10-29  21:00:00        21.62       22.32      1010        95   \n",
              "286  2020-10-29  22:00:00        21.29       22.01      1011        97   \n",
              "287  2020-10-29  23:00:00        21.46       22.17      1011        96   \n",
              "\n",
              "     Dew Point  Clouds  Wind Speed       Description  \n",
              "24       21.80      40        1.00  scattered clouds  \n",
              "25       21.21      96        1.73   overcast clouds  \n",
              "26       22.22      98        1.83   overcast clouds  \n",
              "27       20.55      40        2.60  scattered clouds  \n",
              "28       23.03      99        2.65   overcast clouds  \n",
              "..         ...     ...         ...               ...  \n",
              "283      21.98      94        0.66   overcast clouds  \n",
              "284      21.51      97        0.64   overcast clouds  \n",
              "285      20.78      40        0.00  scattered clouds  \n",
              "286      20.79      96        0.54   overcast clouds  \n",
              "287      20.80      93        0.58   overcast clouds  \n",
              "\n",
              "[264 rows x 10 columns]"
            ]
          },
          "execution_count": 319,
          "metadata": {},
          "output_type": "execute_result"
        }
      ],
      "source": [
        "df1 = pd.read_csv(\"weather_data.csv\")\n",
        "df1\n",
        "df2 = df1[(df1['Date'] > '2020-10-18') & (df1['Date'] <= '2020-10-29')]\n",
        "df2\n"
      ]
    },
    {
      "cell_type": "code",
      "execution_count": null,
      "metadata": {},
      "outputs": [],
      "source": []
    }
  ],
  "metadata": {
    "colab": {
      "provenance": []
    },
    "interpreter": {
      "hash": "ed69033dcf95bf03c49614e5fe4e96f21774bed12a1dae221247a7de4d30fa71"
    },
    "kernelspec": {
      "display_name": "Python 3.10.11 ('base')",
      "language": "python",
      "name": "python3"
    },
    "language_info": {
      "codemirror_mode": {
        "name": "ipython",
        "version": 3
      },
      "file_extension": ".py",
      "mimetype": "text/x-python",
      "name": "python",
      "nbconvert_exporter": "python",
      "pygments_lexer": "ipython3",
      "version": "3.7.16"
    }
  },
  "nbformat": 4,
  "nbformat_minor": 0
}
