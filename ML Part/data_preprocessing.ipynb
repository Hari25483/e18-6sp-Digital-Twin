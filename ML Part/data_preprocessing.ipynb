{
  "cells": [
    {
      "cell_type": "code",
      "execution_count": 140,
      "metadata": {
        "colab": {
          "base_uri": "https://localhost:8080/",
          "height": 206
        },
        "id": "ZPI0oe6BqLDF",
        "outputId": "5252059f-5c14-4331-f6fc-6ff1e429738d"
      },
      "outputs": [
        {
          "name": "stdout",
          "output_type": "stream",
          "text": [
            "      siteId  seqNo         date       time  temp1  temp2  temp3 humidity1  \\\n",
            "41841      0   1667   2020-10-29   13:54:31   32.5   34.3   32.7      66.7   \n",
            "41842      0   1668   2020-10-29   13:55:01   32.5   34.5   32.7      66.3   \n",
            "41843      0   1669   2020-10-29   13:55:31   32.5   34.3   32.5      65.2   \n",
            "41844      0   1670   2020-10-29   13:56:03      ?   34.1   32.3         ?   \n",
            "41845      0   1671   2020-10-29   13:56:30   32.4     34   32.2        66   \n",
            "\n",
            "      humidity2 humidity3     light  \n",
            "41841        56        61   9714.17  \n",
            "41842        56        61      6820  \n",
            "41843        54        61   6175.83  \n",
            "41844        56        63   6005.42  \n",
            "41845        56        61   6124.58  \n"
          ]
        }
      ],
      "source": [
        "import requests\n",
        "import pandas as pd\n",
        "\n",
        "base_url = \"http://agbc-fe.pdn.ac.lk/api/v1/data/?sensor=10008&date=\"\n",
        "\n",
        "start_date = pd.to_datetime(\"2020-10-17\")\n",
        "end_date = pd.to_datetime(\"2020-10-30\")\n",
        "\n",
        "date_range = pd.date_range(start=start_date, end=end_date, freq=\"D\")\n",
        "\n",
        "all_data = []\n",
        "\n",
        "for date in date_range:\n",
        "    date_str = date.strftime(\"%Y-%m-%d\")\n",
        "    url = base_url + date_str\n",
        "    response = requests.get(url)\n",
        "    data = response.json()\n",
        "    all_data.extend(data['data'])\n",
        "\n",
        "df = pd.DataFrame(all_data, dtype=str)\n",
        "print(df.tail())"
      ]
    },
    {
      "cell_type": "code",
      "execution_count": 141,
      "metadata": {
        "colab": {
          "base_uri": "https://localhost:8080/"
        },
        "id": "CXMbj9kvrn1H",
        "outputId": "56c43792-dfe6-4cc4-9654-1b01d336140f"
      },
      "outputs": [
        {
          "name": "stdout",
          "output_type": "stream",
          "text": [
            "siteId       0\n",
            "seqNo        0\n",
            "date         0\n",
            "time         0\n",
            "temp1        0\n",
            "temp2        0\n",
            "temp3        0\n",
            "humidity1    0\n",
            "humidity2    0\n",
            "humidity3    0\n",
            "light        0\n",
            "dtype: int64\n"
          ]
        }
      ],
      "source": [
        "# check for missing values\n",
        "print(df.isnull().sum())"
      ]
    },
    {
      "cell_type": "code",
      "execution_count": 142,
      "metadata": {
        "id": "zBhqM74Brs51"
      },
      "outputs": [],
      "source": [
        "# drop rows with missing values\n",
        "df.dropna(inplace=True)"
      ]
    },
    {
      "cell_type": "code",
      "execution_count": 143,
      "metadata": {
        "id": "joYskXyPrzA8"
      },
      "outputs": [],
      "source": [
        "# Drop duplicate rows\n",
        "df=df.drop_duplicates(keep='first')"
      ]
    },
    {
      "cell_type": "code",
      "execution_count": 144,
      "metadata": {
        "colab": {
          "base_uri": "https://localhost:8080/",
          "height": 206
        },
        "id": "gEd3DbvksApo",
        "outputId": "a1a4440a-e2ab-4d00-9060-73107b549e57"
      },
      "outputs": [
        {
          "data": {
            "text/html": [
              "<div>\n",
              "<style scoped>\n",
              "    .dataframe tbody tr th:only-of-type {\n",
              "        vertical-align: middle;\n",
              "    }\n",
              "\n",
              "    .dataframe tbody tr th {\n",
              "        vertical-align: top;\n",
              "    }\n",
              "\n",
              "    .dataframe thead th {\n",
              "        text-align: right;\n",
              "    }\n",
              "</style>\n",
              "<table border=\"1\" class=\"dataframe\">\n",
              "  <thead>\n",
              "    <tr style=\"text-align: right;\">\n",
              "      <th></th>\n",
              "      <th>siteId</th>\n",
              "      <th>seqNo</th>\n",
              "      <th>date</th>\n",
              "      <th>time</th>\n",
              "      <th>temp1</th>\n",
              "      <th>temp2</th>\n",
              "      <th>temp3</th>\n",
              "      <th>humidity1</th>\n",
              "      <th>humidity2</th>\n",
              "      <th>humidity3</th>\n",
              "      <th>light</th>\n",
              "    </tr>\n",
              "  </thead>\n",
              "  <tbody>\n",
              "    <tr>\n",
              "      <th>41841</th>\n",
              "      <td>0</td>\n",
              "      <td>1667</td>\n",
              "      <td>2020-10-29</td>\n",
              "      <td>13:54:31</td>\n",
              "      <td>32.5</td>\n",
              "      <td>34.3</td>\n",
              "      <td>32.7</td>\n",
              "      <td>66.7</td>\n",
              "      <td>56</td>\n",
              "      <td>61</td>\n",
              "      <td>9714.17</td>\n",
              "    </tr>\n",
              "    <tr>\n",
              "      <th>41842</th>\n",
              "      <td>0</td>\n",
              "      <td>1668</td>\n",
              "      <td>2020-10-29</td>\n",
              "      <td>13:55:01</td>\n",
              "      <td>32.5</td>\n",
              "      <td>34.5</td>\n",
              "      <td>32.7</td>\n",
              "      <td>66.3</td>\n",
              "      <td>56</td>\n",
              "      <td>61</td>\n",
              "      <td>6820</td>\n",
              "    </tr>\n",
              "    <tr>\n",
              "      <th>41843</th>\n",
              "      <td>0</td>\n",
              "      <td>1669</td>\n",
              "      <td>2020-10-29</td>\n",
              "      <td>13:55:31</td>\n",
              "      <td>32.5</td>\n",
              "      <td>34.3</td>\n",
              "      <td>32.5</td>\n",
              "      <td>65.2</td>\n",
              "      <td>54</td>\n",
              "      <td>61</td>\n",
              "      <td>6175.83</td>\n",
              "    </tr>\n",
              "    <tr>\n",
              "      <th>41844</th>\n",
              "      <td>0</td>\n",
              "      <td>1670</td>\n",
              "      <td>2020-10-29</td>\n",
              "      <td>13:56:03</td>\n",
              "      <td>NaN</td>\n",
              "      <td>34.1</td>\n",
              "      <td>32.3</td>\n",
              "      <td>NaN</td>\n",
              "      <td>56</td>\n",
              "      <td>63</td>\n",
              "      <td>6005.42</td>\n",
              "    </tr>\n",
              "    <tr>\n",
              "      <th>41845</th>\n",
              "      <td>0</td>\n",
              "      <td>1671</td>\n",
              "      <td>2020-10-29</td>\n",
              "      <td>13:56:30</td>\n",
              "      <td>32.4</td>\n",
              "      <td>34</td>\n",
              "      <td>32.2</td>\n",
              "      <td>66</td>\n",
              "      <td>56</td>\n",
              "      <td>61</td>\n",
              "      <td>6124.58</td>\n",
              "    </tr>\n",
              "  </tbody>\n",
              "</table>\n",
              "</div>"
            ],
            "text/plain": [
              "      siteId  seqNo         date       time  temp1  temp2  temp3 humidity1  \\\n",
              "41841      0   1667   2020-10-29   13:54:31   32.5   34.3   32.7      66.7   \n",
              "41842      0   1668   2020-10-29   13:55:01   32.5   34.5   32.7      66.3   \n",
              "41843      0   1669   2020-10-29   13:55:31   32.5   34.3   32.5      65.2   \n",
              "41844      0   1670   2020-10-29   13:56:03    NaN   34.1   32.3       NaN   \n",
              "41845      0   1671   2020-10-29   13:56:30   32.4     34   32.2        66   \n",
              "\n",
              "      humidity2 humidity3     light  \n",
              "41841        56        61   9714.17  \n",
              "41842        56        61      6820  \n",
              "41843        54        61   6175.83  \n",
              "41844        56        63   6005.42  \n",
              "41845        56        61   6124.58  "
            ]
          },
          "execution_count": 144,
          "metadata": {},
          "output_type": "execute_result"
        }
      ],
      "source": [
        "import numpy as np\n",
        "# Replace '?' with NaN\n",
        "\n",
        "df.replace(' ?', np.nan, inplace=True)\n",
        "# Drop rows containing missing values\n",
        "# Replace the missing values with NaN\n",
        "df = df.fillna(np.nan)\n",
        "# Drop rows containing missing values\n",
        "# Replace the missing values with NaN\n",
        "\n",
        "#df = df.replace(['?', 'NA', 'N/A', 'None'],0)\n",
        "\n",
        "df.tail()\n"
      ]
    },
    {
      "cell_type": "code",
      "execution_count": 145,
      "metadata": {
        "colab": {
          "base_uri": "https://localhost:8080/",
          "height": 206
        },
        "id": "xMtknm7U08g1",
        "outputId": "69988c3e-01f9-4285-c9dc-a8fce8e5b36b"
      },
      "outputs": [
        {
          "data": {
            "text/html": [
              "<div>\n",
              "<style scoped>\n",
              "    .dataframe tbody tr th:only-of-type {\n",
              "        vertical-align: middle;\n",
              "    }\n",
              "\n",
              "    .dataframe tbody tr th {\n",
              "        vertical-align: top;\n",
              "    }\n",
              "\n",
              "    .dataframe thead th {\n",
              "        text-align: right;\n",
              "    }\n",
              "</style>\n",
              "<table border=\"1\" class=\"dataframe\">\n",
              "  <thead>\n",
              "    <tr style=\"text-align: right;\">\n",
              "      <th></th>\n",
              "      <th>siteId</th>\n",
              "      <th>seqNo</th>\n",
              "      <th>date</th>\n",
              "      <th>time</th>\n",
              "      <th>temp1</th>\n",
              "      <th>temp2</th>\n",
              "      <th>temp3</th>\n",
              "      <th>humidity1</th>\n",
              "      <th>humidity2</th>\n",
              "      <th>humidity3</th>\n",
              "      <th>light</th>\n",
              "    </tr>\n",
              "  </thead>\n",
              "  <tbody>\n",
              "    <tr>\n",
              "      <th>0</th>\n",
              "      <td>0</td>\n",
              "      <td>0</td>\n",
              "      <td>2020-10-17</td>\n",
              "      <td>05:30:16</td>\n",
              "      <td>18.7</td>\n",
              "      <td>19.2</td>\n",
              "      <td>18.8</td>\n",
              "      <td>96.3</td>\n",
              "      <td>93</td>\n",
              "      <td>93</td>\n",
              "      <td>1.25</td>\n",
              "    </tr>\n",
              "    <tr>\n",
              "      <th>1</th>\n",
              "      <td>0</td>\n",
              "      <td>1</td>\n",
              "      <td>2020-10-17</td>\n",
              "      <td>05:30:31</td>\n",
              "      <td>18.8</td>\n",
              "      <td>19.2</td>\n",
              "      <td>18.8</td>\n",
              "      <td>96.4</td>\n",
              "      <td>93</td>\n",
              "      <td>93</td>\n",
              "      <td>1.25</td>\n",
              "    </tr>\n",
              "    <tr>\n",
              "      <th>3</th>\n",
              "      <td>0</td>\n",
              "      <td>3</td>\n",
              "      <td>2020-10-17</td>\n",
              "      <td>05:31:01</td>\n",
              "      <td>18.7</td>\n",
              "      <td>19.2</td>\n",
              "      <td>18.9</td>\n",
              "      <td>96.8</td>\n",
              "      <td>93</td>\n",
              "      <td>93</td>\n",
              "      <td>1.25</td>\n",
              "    </tr>\n",
              "    <tr>\n",
              "      <th>4</th>\n",
              "      <td>0</td>\n",
              "      <td>4</td>\n",
              "      <td>2020-10-17</td>\n",
              "      <td>05:31:16</td>\n",
              "      <td>18.7</td>\n",
              "      <td>19.2</td>\n",
              "      <td>18.8</td>\n",
              "      <td>96.1</td>\n",
              "      <td>93</td>\n",
              "      <td>93</td>\n",
              "      <td>1.25</td>\n",
              "    </tr>\n",
              "    <tr>\n",
              "      <th>9</th>\n",
              "      <td>0</td>\n",
              "      <td>9</td>\n",
              "      <td>2020-10-17</td>\n",
              "      <td>05:32:31</td>\n",
              "      <td>18.7</td>\n",
              "      <td>19.2</td>\n",
              "      <td>18.8</td>\n",
              "      <td>95.8</td>\n",
              "      <td>93</td>\n",
              "      <td>93</td>\n",
              "      <td>1.25</td>\n",
              "    </tr>\n",
              "  </tbody>\n",
              "</table>\n",
              "</div>"
            ],
            "text/plain": [
              "  siteId seqNo         date       time  temp1  temp2  temp3 humidity1  \\\n",
              "0      0     0   2020-10-17   05:30:16   18.7   19.2   18.8      96.3   \n",
              "1      0     1   2020-10-17   05:30:31   18.8   19.2   18.8      96.4   \n",
              "3      0     3   2020-10-17   05:31:01   18.7   19.2   18.9      96.8   \n",
              "4      0     4   2020-10-17   05:31:16   18.7   19.2   18.8      96.1   \n",
              "9      0     9   2020-10-17   05:32:31   18.7   19.2   18.8      95.8   \n",
              "\n",
              "  humidity2 humidity3  light  \n",
              "0        93        93   1.25  \n",
              "1        93        93   1.25  \n",
              "3        93        93   1.25  \n",
              "4        93        93   1.25  \n",
              "9        93        93   1.25  "
            ]
          },
          "execution_count": 145,
          "metadata": {},
          "output_type": "execute_result"
        }
      ],
      "source": [
        "# Drop rows containing missing values\n",
        "df = df.dropna()\n",
        "df.head()"
      ]
    },
    {
      "cell_type": "code",
      "execution_count": 146,
      "metadata": {
        "colab": {
          "base_uri": "https://localhost:8080/"
        },
        "id": "y3DnDwFzcrdM",
        "outputId": "93ea969a-939d-4c10-b47b-35828d743a44"
      },
      "outputs": [
        {
          "name": "stdout",
          "output_type": "stream",
          "text": [
            "       seqNo         date       time  average_temp  average_humidity     light\n",
            "0          0   2020-10-17   05:30:16     18.900000         94.100000      1.25\n",
            "1          1   2020-10-17   05:30:31     18.933333         94.133333      1.25\n",
            "3          3   2020-10-17   05:31:01     18.933333         94.266667      1.25\n",
            "4          4   2020-10-17   05:31:16     18.900000         94.033333      1.25\n",
            "9          9   2020-10-17   05:32:31     18.900000         93.933333      1.25\n",
            "...      ...          ...        ...           ...               ...       ...\n",
            "41840   1666   2020-10-29   13:54:01     32.633333         63.800000   10159.2\n",
            "41841   1667   2020-10-29   13:54:31     33.166667         61.233333   9714.17\n",
            "41842   1668   2020-10-29   13:55:01     33.233333         61.100000      6820\n",
            "41843   1669   2020-10-29   13:55:31     33.100000         60.066667   6175.83\n",
            "41845   1671   2020-10-29   13:56:30     32.866667         61.000000   6124.58\n",
            "\n",
            "[27245 rows x 6 columns]\n"
          ]
        }
      ],
      "source": [
        "# Convert temperature columns to numeric\n",
        "df['temp1'] = pd.to_numeric(df['temp1'], errors='coerce')\n",
        "df['temp2'] = pd.to_numeric(df['temp2'], errors='coerce')\n",
        "df['temp3'] = pd.to_numeric(df['temp3'], errors='coerce')\n",
        "\n",
        "# Convert temperature columns to numeric\n",
        "df['humidity1'] = pd.to_numeric(df['humidity1'], errors='coerce')\n",
        "df['humidity2'] = pd.to_numeric(df['humidity2'], errors='coerce')\n",
        "df['humidity3'] = pd.to_numeric(df['humidity3'], errors='coerce')\n",
        "\n",
        "df['seqNo'] = pd.to_numeric(df['seqNo'], errors='coerce')\n",
        "\n",
        "# Calculate the average temperature\n",
        "df['average_temp'] = df[['temp1', 'temp2', 'temp3']].mean(axis=1)\n",
        "\n",
        "# Calculate the average humidity\n",
        "df['average_humidity'] = df[['humidity1', 'humidity2', 'humidity3']].mean(axis=1)\n",
        "\n",
        "# Create a new DataFrame with only the desired columns\n",
        "new_df = df[['seqNo','date','time','average_temp', 'average_humidity', 'light']]\n",
        "\n",
        "# Print the selected columns\n",
        "print(new_df)"
      ]
    },
    {
      "cell_type": "code",
      "execution_count": 153,
      "metadata": {},
      "outputs": [
        {
          "name": "stdout",
          "output_type": "stream",
          "text": [
            "           date       time  average_temp  average_humidity\n",
            "0    2020-10-18   06:00:46     21.288889         94.622222\n",
            "1    2020-10-18   07:00:00     22.500000         94.400000\n",
            "2    2020-10-18   08:00:46     30.125000         69.733333\n",
            "3    2020-10-18   09:00:31     29.416667         76.716667\n",
            "4    2020-10-18   10:00:46     36.900000         46.283333\n",
            "5    2020-10-18   11:00:45     39.800000         41.383333\n",
            "6    2020-10-18   12:00:46     32.958333         54.591667\n",
            "7    2020-10-18   13:00:46     38.775000         41.483333\n",
            "8    2020-10-18   14:00:46     41.058333         37.033333\n",
            "9    2020-10-18   15:00:46     35.483333         48.158333\n",
            "10   2020-10-18   16:00:46     32.841667         58.366667\n",
            "11   2020-10-18   17:00:46     30.150000         69.550000\n",
            "12   2020-10-18   18:00:46     26.133333         91.116667\n",
            "13   2020-10-18   19:00:46     24.633333         94.633333\n",
            "14   2020-10-18   20:00:46     24.122222         95.288889\n",
            "15   2020-10-18   21:00:01     23.433333         95.933333\n",
            "16   2020-10-18   22:00:31     23.283333         95.566667\n",
            "17   2020-10-18   23:00:31     23.000000         95.450000\n",
            "18   2020-10-18   01:00:01     20.766667         95.366667\n",
            "19   2020-10-18   02:00:01     20.633333         94.866667\n",
            "20   2020-10-18   02:00:31     20.600000         94.433333\n",
            "21   2020-10-18   03:00:46     20.500000         94.600000\n",
            "22   2020-10-18   04:00:46     20.733333         94.466667\n",
            "23   2020-10-18   05:00:46     20.950000         94.650000\n",
            "24   2020-10-19   00:00:01     23.400000         94.966667\n",
            "25   2020-10-19   02:00:01     23.066667         94.733333\n",
            "26   2020-10-19   02:00:16     23.066667         94.800000\n",
            "27   2020-10-19   02:00:31     23.066667         94.666667\n",
            "28   2020-10-19   02:00:46     23.066667         94.766667\n",
            "29   2020-10-19   03:00:01     22.866667         94.733333\n"
          ]
        }
      ],
      "source": [
        "new_rows = []  # List to store the combined rows\n",
        "x=0\n",
        "count=0\n",
        "average_temp = 0\n",
        "average_humidity = 0\n",
        "light = 0\n",
        "n=6\n",
        "rowcount=0\n",
        "for index, row in df.iterrows():\n",
        "    # Access the values of each column in the current row\n",
        "    time1 = row['time']\n",
        "\n",
        "    sliced_text = time1[4:6]  #sliced the time xx:yy:xx\n",
        "  \n",
        "    \n",
        "    if(sliced_text==\"00\"): #if yy==00\n",
        "        sliced_text1 = time1[1:6] # get front slice xx:xx:\n",
        "        if(n>23):\n",
        "            n=0\n",
        "            \n",
        "        \n",
        "            \n",
        "    \n",
        "        if(n <= 9 and sliced_text1 == \"0\" + str(n) + \":00\" ):\n",
        "            \n",
        "        \n",
        "         # Access the values of the current row\n",
        "            date = row['date']\n",
        "            time = row['time']\n",
        "            average_temp = row['average_temp']+average_temp\n",
        "            average_humidity = row['average_humidity']+average_humidity\n",
        "            x=row['seqNo']\n",
        "            count=count+1\n",
        "\n",
        "\n",
        "        elif( sliced_text1 == str(n) + \":00\" ):\n",
        "            \n",
        "            \n",
        "            \n",
        "         # Access the values of the current row\n",
        "            date = row['date']\n",
        "            time = row['time']\n",
        "            average_temp = row['average_temp']+average_temp\n",
        "            average_humidity = row['average_humidity']+average_humidity\n",
        "            x=row['seqNo']\n",
        "            count=count+1\n",
        "            \n",
        "       \n",
        "        \n",
        "        \n",
        "\n",
        "\n",
        "\n",
        "        \n",
        "\n",
        "\n",
        "        \n",
        "        else:\n",
        "            if (count==0 ):\n",
        "\n",
        "                count=1\n",
        "       \n",
        "            \n",
        "            new_row = {\n",
        "            'date': date,\n",
        "            'time': time,\n",
        "            'average_temp': average_temp/count ,\n",
        "            'average_humidity': average_humidity/count ,\n",
        "             }\n",
        "            #print(new_row)\n",
        "            new_rows.append(new_row)\n",
        "            \n",
        "            count=1\n",
        "            n=n+1\n",
        "            \n",
        "    \n",
        "            \n",
        "            \n",
        "            \n",
        "            date = row['date']\n",
        "            time = row['time']\n",
        "            average_temp = row['average_temp']\n",
        "            average_humidity = row['average_humidity']\n",
        "\n",
        "new_row = {\n",
        "            'date': date,\n",
        "            'time': time,\n",
        "            'average_temp': average_temp/count ,\n",
        "            'average_humidity': average_humidity/count ,\n",
        "             }\n",
        "new_rows.append(new_row)\n",
        "new_df1 = pd.DataFrame(new_rows)\n",
        "print(new_df1.head(30))\n",
        "\n",
        "\n",
        "\n",
        "        \n",
        "            \n",
        "\n",
        " \n",
        "       \n",
        "    \n",
        "        \n"
      ]
    },
    {
      "cell_type": "code",
      "execution_count": null,
      "metadata": {},
      "outputs": [],
      "source": [
        "\n"
      ]
    },
    {
      "cell_type": "markdown",
      "metadata": {
        "id": "0uRNR2qPplp2"
      },
      "source": [
        "from datetime import datetime\n",
        "\n",
        "start_date = \"2022-10-18\"\n",
        "start_datetime = datetime.strptime(start_date, \"%Y-%m-%d\")\n",
        "start_unix_time = int(start_datetime.timestamp())"
      ]
    },
    {
      "cell_type": "code",
      "execution_count": 148,
      "metadata": {
        "id": "6atiuwjfpmv4"
      },
      "outputs": [
        {
          "name": "stdout",
          "output_type": "stream",
          "text": [
            "1666031400\n"
          ]
        }
      ],
      "source": [
        "from datetime import datetime\n",
        "\n",
        "start_date = \"2022-10-18\"\n",
        "start_datetime = datetime.strptime(start_date, \"%Y-%m-%d\")\n",
        "start_unix_time = int(start_datetime.timestamp())\n",
        "print(start_unix_time)"
      ]
    },
    {
      "cell_type": "code",
      "execution_count": 149,
      "metadata": {
        "id": "-H_FRXAppwyz"
      },
      "outputs": [
        {
          "name": "stdout",
          "output_type": "stream",
          "text": [
            "1666117800\n"
          ]
        }
      ],
      "source": [
        "from datetime import datetime\n",
        "\n",
        "end_date = \"2022-10-19\"\n",
        "end_datetime = datetime.strptime(end_date, \"%Y-%m-%d\")\n",
        "end_unix_time = int(end_datetime.timestamp())\n",
        "print(end_unix_time)"
      ]
    }
  ],
  "metadata": {
    "colab": {
      "provenance": []
    },
    "interpreter": {
      "hash": "ed69033dcf95bf03c49614e5fe4e96f21774bed12a1dae221247a7de4d30fa71"
    },
    "kernelspec": {
      "display_name": "Python 3.10.11 ('base')",
      "language": "python",
      "name": "python3"
    },
    "language_info": {
      "codemirror_mode": {
        "name": "ipython",
        "version": 3
      },
      "file_extension": ".py",
      "mimetype": "text/x-python",
      "name": "python",
      "nbconvert_exporter": "python",
      "pygments_lexer": "ipython3",
      "version": "3.10.11"
    }
  },
  "nbformat": 4,
  "nbformat_minor": 0
}
