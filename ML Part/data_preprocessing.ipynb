{
  "cells": [
    {
      "cell_type": "code",
      "execution_count": 1,
      "metadata": {
        "colab": {
          "base_uri": "https://localhost:8080/",
          "height": 206
        },
        "id": "ZPI0oe6BqLDF",
        "outputId": "5252059f-5c14-4331-f6fc-6ff1e429738d"
      },
      "outputs": [
        {
          "data": {
            "text/html": [
              "<div>\n",
              "<style scoped>\n",
              "    .dataframe tbody tr th:only-of-type {\n",
              "        vertical-align: middle;\n",
              "    }\n",
              "\n",
              "    .dataframe tbody tr th {\n",
              "        vertical-align: top;\n",
              "    }\n",
              "\n",
              "    .dataframe thead th {\n",
              "        text-align: right;\n",
              "    }\n",
              "</style>\n",
              "<table border=\"1\" class=\"dataframe\">\n",
              "  <thead>\n",
              "    <tr style=\"text-align: right;\">\n",
              "      <th></th>\n",
              "      <th>siteId</th>\n",
              "      <th>seqNo</th>\n",
              "      <th>date</th>\n",
              "      <th>time</th>\n",
              "      <th>temp1</th>\n",
              "      <th>temp2</th>\n",
              "      <th>temp3</th>\n",
              "      <th>humidity1</th>\n",
              "      <th>humidity2</th>\n",
              "      <th>humidity3</th>\n",
              "      <th>light</th>\n",
              "    </tr>\n",
              "  </thead>\n",
              "  <tbody>\n",
              "    <tr>\n",
              "      <th>0</th>\n",
              "      <td>0</td>\n",
              "      <td>0</td>\n",
              "      <td>2020-10-18</td>\n",
              "      <td>05:30:16</td>\n",
              "      <td>20.8</td>\n",
              "      <td>21.5</td>\n",
              "      <td>21.2</td>\n",
              "      <td>95.8</td>\n",
              "      <td>94</td>\n",
              "      <td>94</td>\n",
              "      <td>1.042</td>\n",
              "    </tr>\n",
              "    <tr>\n",
              "      <th>1</th>\n",
              "      <td>0</td>\n",
              "      <td>1</td>\n",
              "      <td>2020-10-18</td>\n",
              "      <td>05:30:33</td>\n",
              "      <td>?</td>\n",
              "      <td>21.5</td>\n",
              "      <td>21.1</td>\n",
              "      <td>?</td>\n",
              "      <td>94</td>\n",
              "      <td>94</td>\n",
              "      <td>1.042</td>\n",
              "    </tr>\n",
              "    <tr>\n",
              "      <th>2</th>\n",
              "      <td>0</td>\n",
              "      <td>2</td>\n",
              "      <td>2020-10-18</td>\n",
              "      <td>05:30:48</td>\n",
              "      <td>?</td>\n",
              "      <td>21.4</td>\n",
              "      <td>21.1</td>\n",
              "      <td>?</td>\n",
              "      <td>94</td>\n",
              "      <td>94</td>\n",
              "      <td>1.042</td>\n",
              "    </tr>\n",
              "    <tr>\n",
              "      <th>3</th>\n",
              "      <td>0</td>\n",
              "      <td>3</td>\n",
              "      <td>2020-10-18</td>\n",
              "      <td>05:31:03</td>\n",
              "      <td>?</td>\n",
              "      <td>21.4</td>\n",
              "      <td>21.1</td>\n",
              "      <td>?</td>\n",
              "      <td>94</td>\n",
              "      <td>94</td>\n",
              "      <td>1.042</td>\n",
              "    </tr>\n",
              "    <tr>\n",
              "      <th>4</th>\n",
              "      <td>0</td>\n",
              "      <td>4</td>\n",
              "      <td>2020-10-18</td>\n",
              "      <td>05:31:18</td>\n",
              "      <td>?</td>\n",
              "      <td>21.5</td>\n",
              "      <td>21.2</td>\n",
              "      <td>?</td>\n",
              "      <td>94</td>\n",
              "      <td>94</td>\n",
              "      <td>1.042</td>\n",
              "    </tr>\n",
              "  </tbody>\n",
              "</table>\n",
              "</div>"
            ],
            "text/plain": [
              "  siteId seqNo         date       time  temp1  temp2  temp3 humidity1  \\\n",
              "0      0     0   2020-10-18   05:30:16   20.8   21.5   21.2      95.8   \n",
              "1      0     1   2020-10-18   05:30:33      ?   21.5   21.1         ?   \n",
              "2      0     2   2020-10-18   05:30:48      ?   21.4   21.1         ?   \n",
              "3      0     3   2020-10-18   05:31:03      ?   21.4   21.1         ?   \n",
              "4      0     4   2020-10-18   05:31:18      ?   21.5   21.2         ?   \n",
              "\n",
              "  humidity2 humidity3   light  \n",
              "0        94        94   1.042  \n",
              "1        94        94   1.042  \n",
              "2        94        94   1.042  \n",
              "3        94        94   1.042  \n",
              "4        94        94   1.042  "
            ]
          },
          "execution_count": 1,
          "metadata": {},
          "output_type": "execute_result"
        }
      ],
      "source": [
        "import pandas as pd\n",
        "import json\n",
        "\n",
        "# Load the JSON data into a DataFrame\n",
        "with open('result.json') as f:\n",
        "    json_data = json.load(f)\n",
        "\n",
        "df = pd.DataFrame(json_data['data'],dtype=str)\n",
        "df.head()"
      ]
    },
    {
      "cell_type": "code",
      "execution_count": 2,
      "metadata": {
        "colab": {
          "base_uri": "https://localhost:8080/"
        },
        "id": "CXMbj9kvrn1H",
        "outputId": "56c43792-dfe6-4cc4-9654-1b01d336140f"
      },
      "outputs": [
        {
          "name": "stdout",
          "output_type": "stream",
          "text": [
            "siteId       0\n",
            "seqNo        0\n",
            "date         0\n",
            "time         0\n",
            "temp1        0\n",
            "temp2        0\n",
            "temp3        0\n",
            "humidity1    0\n",
            "humidity2    0\n",
            "humidity3    0\n",
            "light        0\n",
            "dtype: int64\n"
          ]
        }
      ],
      "source": [
        "# check for missing values\n",
        "print(df.isnull().sum())"
      ]
    },
    {
      "cell_type": "code",
      "execution_count": 3,
      "metadata": {
        "id": "zBhqM74Brs51"
      },
      "outputs": [],
      "source": [
        "# drop rows with missing values\n",
        "df.dropna(inplace=True)"
      ]
    },
    {
      "cell_type": "code",
      "execution_count": 4,
      "metadata": {
        "id": "joYskXyPrzA8"
      },
      "outputs": [],
      "source": [
        "# Drop duplicate rows\n",
        "df=df.drop_duplicates(keep='first')"
      ]
    },
    {
      "cell_type": "code",
      "execution_count": 5,
      "metadata": {
        "colab": {
          "base_uri": "https://localhost:8080/",
          "height": 206
        },
        "id": "gEd3DbvksApo",
        "outputId": "a1a4440a-e2ab-4d00-9060-73107b549e57"
      },
      "outputs": [
        {
          "data": {
            "text/html": [
              "<div>\n",
              "<style scoped>\n",
              "    .dataframe tbody tr th:only-of-type {\n",
              "        vertical-align: middle;\n",
              "    }\n",
              "\n",
              "    .dataframe tbody tr th {\n",
              "        vertical-align: top;\n",
              "    }\n",
              "\n",
              "    .dataframe thead th {\n",
              "        text-align: right;\n",
              "    }\n",
              "</style>\n",
              "<table border=\"1\" class=\"dataframe\">\n",
              "  <thead>\n",
              "    <tr style=\"text-align: right;\">\n",
              "      <th></th>\n",
              "      <th>siteId</th>\n",
              "      <th>seqNo</th>\n",
              "      <th>date</th>\n",
              "      <th>time</th>\n",
              "      <th>temp1</th>\n",
              "      <th>temp2</th>\n",
              "      <th>temp3</th>\n",
              "      <th>humidity1</th>\n",
              "      <th>humidity2</th>\n",
              "      <th>humidity3</th>\n",
              "      <th>light</th>\n",
              "    </tr>\n",
              "  </thead>\n",
              "  <tbody>\n",
              "    <tr>\n",
              "      <th>0</th>\n",
              "      <td>0</td>\n",
              "      <td>0</td>\n",
              "      <td>2020-10-18</td>\n",
              "      <td>05:30:16</td>\n",
              "      <td>20.8</td>\n",
              "      <td>21.5</td>\n",
              "      <td>21.2</td>\n",
              "      <td>95.8</td>\n",
              "      <td>94</td>\n",
              "      <td>94</td>\n",
              "      <td>1.042</td>\n",
              "    </tr>\n",
              "    <tr>\n",
              "      <th>1</th>\n",
              "      <td>0</td>\n",
              "      <td>1</td>\n",
              "      <td>2020-10-18</td>\n",
              "      <td>05:30:33</td>\n",
              "      <td>NaN</td>\n",
              "      <td>21.5</td>\n",
              "      <td>21.1</td>\n",
              "      <td>NaN</td>\n",
              "      <td>94</td>\n",
              "      <td>94</td>\n",
              "      <td>1.042</td>\n",
              "    </tr>\n",
              "    <tr>\n",
              "      <th>2</th>\n",
              "      <td>0</td>\n",
              "      <td>2</td>\n",
              "      <td>2020-10-18</td>\n",
              "      <td>05:30:48</td>\n",
              "      <td>NaN</td>\n",
              "      <td>21.4</td>\n",
              "      <td>21.1</td>\n",
              "      <td>NaN</td>\n",
              "      <td>94</td>\n",
              "      <td>94</td>\n",
              "      <td>1.042</td>\n",
              "    </tr>\n",
              "    <tr>\n",
              "      <th>3</th>\n",
              "      <td>0</td>\n",
              "      <td>3</td>\n",
              "      <td>2020-10-18</td>\n",
              "      <td>05:31:03</td>\n",
              "      <td>NaN</td>\n",
              "      <td>21.4</td>\n",
              "      <td>21.1</td>\n",
              "      <td>NaN</td>\n",
              "      <td>94</td>\n",
              "      <td>94</td>\n",
              "      <td>1.042</td>\n",
              "    </tr>\n",
              "    <tr>\n",
              "      <th>4</th>\n",
              "      <td>0</td>\n",
              "      <td>4</td>\n",
              "      <td>2020-10-18</td>\n",
              "      <td>05:31:18</td>\n",
              "      <td>NaN</td>\n",
              "      <td>21.5</td>\n",
              "      <td>21.2</td>\n",
              "      <td>NaN</td>\n",
              "      <td>94</td>\n",
              "      <td>94</td>\n",
              "      <td>1.042</td>\n",
              "    </tr>\n",
              "  </tbody>\n",
              "</table>\n",
              "</div>"
            ],
            "text/plain": [
              "  siteId seqNo         date       time  temp1  temp2  temp3 humidity1  \\\n",
              "0      0     0   2020-10-18   05:30:16   20.8   21.5   21.2      95.8   \n",
              "1      0     1   2020-10-18   05:30:33    NaN   21.5   21.1       NaN   \n",
              "2      0     2   2020-10-18   05:30:48    NaN   21.4   21.1       NaN   \n",
              "3      0     3   2020-10-18   05:31:03    NaN   21.4   21.1       NaN   \n",
              "4      0     4   2020-10-18   05:31:18    NaN   21.5   21.2       NaN   \n",
              "\n",
              "  humidity2 humidity3   light  \n",
              "0        94        94   1.042  \n",
              "1        94        94   1.042  \n",
              "2        94        94   1.042  \n",
              "3        94        94   1.042  \n",
              "4        94        94   1.042  "
            ]
          },
          "execution_count": 5,
          "metadata": {},
          "output_type": "execute_result"
        }
      ],
      "source": [
        "import numpy as np\n",
        "# Replace '?' with NaN\n",
        "\n",
        "df.replace(' ?', np.nan, inplace=True)\n",
        "# Drop rows containing missing values\n",
        "# Replace the missing values with NaN\n",
        "df = df.fillna(np.nan)\n",
        "# Drop rows containing missing values\n",
        "# Replace the missing values with NaN\n",
        "\n",
        "#df = df.replace(['?', 'NA', 'N/A', 'None'],0)\n",
        "\n",
        "df.head()\n"
      ]
    },
    {
      "cell_type": "code",
      "execution_count": 6,
      "metadata": {
        "colab": {
          "base_uri": "https://localhost:8080/",
          "height": 206
        },
        "id": "xMtknm7U08g1",
        "outputId": "69988c3e-01f9-4285-c9dc-a8fce8e5b36b"
      },
      "outputs": [
        {
          "data": {
            "text/html": [
              "<div>\n",
              "<style scoped>\n",
              "    .dataframe tbody tr th:only-of-type {\n",
              "        vertical-align: middle;\n",
              "    }\n",
              "\n",
              "    .dataframe tbody tr th {\n",
              "        vertical-align: top;\n",
              "    }\n",
              "\n",
              "    .dataframe thead th {\n",
              "        text-align: right;\n",
              "    }\n",
              "</style>\n",
              "<table border=\"1\" class=\"dataframe\">\n",
              "  <thead>\n",
              "    <tr style=\"text-align: right;\">\n",
              "      <th></th>\n",
              "      <th>siteId</th>\n",
              "      <th>seqNo</th>\n",
              "      <th>date</th>\n",
              "      <th>time</th>\n",
              "      <th>temp1</th>\n",
              "      <th>temp2</th>\n",
              "      <th>temp3</th>\n",
              "      <th>humidity1</th>\n",
              "      <th>humidity2</th>\n",
              "      <th>humidity3</th>\n",
              "      <th>light</th>\n",
              "    </tr>\n",
              "  </thead>\n",
              "  <tbody>\n",
              "    <tr>\n",
              "      <th>0</th>\n",
              "      <td>0</td>\n",
              "      <td>0</td>\n",
              "      <td>2020-10-18</td>\n",
              "      <td>05:30:16</td>\n",
              "      <td>20.8</td>\n",
              "      <td>21.5</td>\n",
              "      <td>21.2</td>\n",
              "      <td>95.8</td>\n",
              "      <td>94</td>\n",
              "      <td>94</td>\n",
              "      <td>1.042</td>\n",
              "    </tr>\n",
              "    <tr>\n",
              "      <th>6</th>\n",
              "      <td>0</td>\n",
              "      <td>6</td>\n",
              "      <td>2020-10-18</td>\n",
              "      <td>05:31:46</td>\n",
              "      <td>20.8</td>\n",
              "      <td>21.5</td>\n",
              "      <td>21.1</td>\n",
              "      <td>95.1</td>\n",
              "      <td>94</td>\n",
              "      <td>94</td>\n",
              "      <td>1.042</td>\n",
              "    </tr>\n",
              "    <tr>\n",
              "      <th>8</th>\n",
              "      <td>0</td>\n",
              "      <td>8</td>\n",
              "      <td>2020-10-18</td>\n",
              "      <td>05:32:16</td>\n",
              "      <td>20.8</td>\n",
              "      <td>21.4</td>\n",
              "      <td>21.1</td>\n",
              "      <td>95.4</td>\n",
              "      <td>94</td>\n",
              "      <td>94</td>\n",
              "      <td>1.042</td>\n",
              "    </tr>\n",
              "    <tr>\n",
              "      <th>9</th>\n",
              "      <td>0</td>\n",
              "      <td>9</td>\n",
              "      <td>2020-10-18</td>\n",
              "      <td>05:32:31</td>\n",
              "      <td>20.8</td>\n",
              "      <td>21.5</td>\n",
              "      <td>21.1</td>\n",
              "      <td>95.3</td>\n",
              "      <td>94</td>\n",
              "      <td>94</td>\n",
              "      <td>1.042</td>\n",
              "    </tr>\n",
              "    <tr>\n",
              "      <th>10</th>\n",
              "      <td>0</td>\n",
              "      <td>10</td>\n",
              "      <td>2020-10-18</td>\n",
              "      <td>05:32:46</td>\n",
              "      <td>20.8</td>\n",
              "      <td>21.4</td>\n",
              "      <td>21.1</td>\n",
              "      <td>95.1</td>\n",
              "      <td>94</td>\n",
              "      <td>94</td>\n",
              "      <td>1.042</td>\n",
              "    </tr>\n",
              "  </tbody>\n",
              "</table>\n",
              "</div>"
            ],
            "text/plain": [
              "   siteId seqNo         date       time  temp1  temp2  temp3 humidity1  \\\n",
              "0       0     0   2020-10-18   05:30:16   20.8   21.5   21.2      95.8   \n",
              "6       0     6   2020-10-18   05:31:46   20.8   21.5   21.1      95.1   \n",
              "8       0     8   2020-10-18   05:32:16   20.8   21.4   21.1      95.4   \n",
              "9       0     9   2020-10-18   05:32:31   20.8   21.5   21.1      95.3   \n",
              "10      0    10   2020-10-18   05:32:46   20.8   21.4   21.1      95.1   \n",
              "\n",
              "   humidity2 humidity3   light  \n",
              "0         94        94   1.042  \n",
              "6         94        94   1.042  \n",
              "8         94        94   1.042  \n",
              "9         94        94   1.042  \n",
              "10        94        94   1.042  "
            ]
          },
          "execution_count": 6,
          "metadata": {},
          "output_type": "execute_result"
        }
      ],
      "source": [
        "# Drop rows containing missing values\n",
        "df = df.dropna()\n",
        "df.head()"
      ]
    },
    {
      "cell_type": "code",
      "execution_count": 7,
      "metadata": {
        "colab": {
          "base_uri": "https://localhost:8080/"
        },
        "id": "y3DnDwFzcrdM",
        "outputId": "93ea969a-939d-4c10-b47b-35828d743a44"
      },
      "outputs": [
        {
          "name": "stdout",
          "output_type": "stream",
          "text": [
            "      seqNo         date       time  average_temp  average_humidity   light\n",
            "0         0   2020-10-18   05:30:16     21.166667         94.600000   1.042\n",
            "6         6   2020-10-18   05:31:46     21.133333         94.366667   1.042\n",
            "8         8   2020-10-18   05:32:16     21.100000         94.466667   1.042\n",
            "9         9   2020-10-18   05:32:31     21.133333         94.433333   1.042\n",
            "10       10   2020-10-18   05:32:46     21.100000         94.366667   1.042\n",
            "...     ...          ...        ...           ...               ...     ...\n",
            "5728   5743   2020-10-18   05:26:01     21.133333         94.566667   1.042\n",
            "5735   5750   2020-10-18   05:27:46     21.100000         94.600000   1.042\n",
            "5736   5751   2020-10-18   05:28:01     21.133333         94.600000   1.042\n",
            "5738   5753   2020-10-18   05:28:38     21.100000         94.500000   1.042\n",
            "5740   5755   2020-10-18   05:29:01     21.133333         94.500000   1.042\n",
            "\n",
            "[3736 rows x 6 columns]\n"
          ]
        }
      ],
      "source": [
        "# Convert temperature columns to numeric\n",
        "df['temp1'] = pd.to_numeric(df['temp1'], errors='coerce')\n",
        "df['temp2'] = pd.to_numeric(df['temp2'], errors='coerce')\n",
        "df['temp3'] = pd.to_numeric(df['temp3'], errors='coerce')\n",
        "\n",
        "# Convert temperature columns to numeric\n",
        "df['humidity1'] = pd.to_numeric(df['humidity1'], errors='coerce')\n",
        "df['humidity2'] = pd.to_numeric(df['humidity2'], errors='coerce')\n",
        "df['humidity3'] = pd.to_numeric(df['humidity3'], errors='coerce')\n",
        "\n",
        "df['seqNo'] = pd.to_numeric(df['seqNo'], errors='coerce')\n",
        "\n",
        "# Calculate the average temperature\n",
        "df['average_temp'] = df[['temp1', 'temp2', 'temp3']].mean(axis=1)\n",
        "\n",
        "# Calculate the average humidity\n",
        "df['average_humidity'] = df[['humidity1', 'humidity2', 'humidity3']].mean(axis=1)\n",
        "\n",
        "# Create a new DataFrame with only the desired columns\n",
        "new_df = df[['seqNo','date','time','average_temp', 'average_humidity', 'light']]\n",
        "\n",
        "# Print the selected columns\n",
        "print(new_df)"
      ]
    },
    {
      "cell_type": "code",
      "execution_count": 8,
      "metadata": {
        "colab": {
          "base_uri": "https://localhost:8080/"
        },
        "id": "6ktyeciRVUAL",
        "outputId": "267296df-a93c-45d7-c9bb-8796113390b3"
      },
      "outputs": [
        {
          "name": "stdout",
          "output_type": "stream",
          "text": [
            "<class 'pandas.core.frame.DataFrame'>\n",
            "Int64Index: 3736 entries, 0 to 5740\n",
            "Data columns (total 6 columns):\n",
            " #   Column            Non-Null Count  Dtype  \n",
            "---  ------            --------------  -----  \n",
            " 0   seqNo             3736 non-null   int64  \n",
            " 1   date              3736 non-null   object \n",
            " 2   time              3736 non-null   object \n",
            " 3   average_temp      3736 non-null   float64\n",
            " 4   average_humidity  3736 non-null   float64\n",
            " 5   light             3736 non-null   object \n",
            "dtypes: float64(2), int64(1), object(3)\n",
            "memory usage: 204.3+ KB\n"
          ]
        }
      ],
      "source": [
        "new_df.info()"
      ]
    },
    {
      "cell_type": "code",
      "execution_count": 9,
      "metadata": {
        "colab": {
          "base_uri": "https://localhost:8080/"
        },
        "id": "t7eq3o0OOuA1",
        "outputId": "b7977dba-012e-4785-f348-33d1ed9e60d8"
      },
      "outputs": [
        {
          "name": "stdout",
          "output_type": "stream",
          "text": [
            "seqNo                 int64\n",
            "date                 object\n",
            "time                 object\n",
            "average_temp        float64\n",
            "average_humidity    float64\n",
            "light                object\n",
            "dtype: object\n"
          ]
        },
        {
          "name": "stderr",
          "output_type": "stream",
          "text": [
            "/var/folders/x2/zc5k_cm94tqdq5h_t8g_5_rm0000gn/T/ipykernel_65652/2910831007.py:2: SettingWithCopyWarning: \n",
            "A value is trying to be set on a copy of a slice from a DataFrame.\n",
            "Try using .loc[row_indexer,col_indexer] = value instead\n",
            "\n",
            "See the caveats in the documentation: https://pandas.pydata.org/pandas-docs/stable/user_guide/indexing.html#returning-a-view-versus-a-copy\n",
            "  new_df['time'] = new_df['time'].astype(str)\n"
          ]
        }
      ],
      "source": [
        " #Convert columns to string using map(str) method\n",
        "new_df['time'] = new_df['time'].astype(str)\n",
        "print(new_df.dtypes)"
      ]
    },
    {
      "cell_type": "code",
      "execution_count": 10,
      "metadata": {
        "colab": {
          "base_uri": "https://localhost:8080/"
        },
        "id": "8CfP_8fBZNVw",
        "outputId": "9ecca03d-28a9-421a-d8c1-d67f4e795212"
      },
      "outputs": [
        {
          "name": "stdout",
          "output_type": "stream",
          "text": [
            "122\n",
            "359\n",
            "599\n",
            "839\n",
            "841\n",
            "1079\n",
            "1319\n",
            "1559\n",
            "1799\n",
            "2039\n",
            "2279\n",
            "2519\n",
            "2761\n",
            "3001\n",
            "3239\n",
            "3480\n",
            "3719\n",
            "3959\n",
            "3961\n",
            "4199\n",
            "4201\n",
            "4679\n",
            "4919\n",
            "5162\n",
            "5402\n",
            "5641\n"
          ]
        }
      ],
      "source": [
        "new_rows = []  # List to store the combined rows\n",
        "x=0\n",
        "average_temp = 0\n",
        "average_humidity = 0\n",
        "light = 0\n",
        "for index, row in df.iterrows():\n",
        "    # Access the values of each column in the current row\n",
        "    time = row['time']\n",
        "\n",
        "    sliced_text = time[4:6]\n",
        "  \n",
        "    \n",
        "    if(sliced_text==\"00\"):\n",
        "      \n",
        "      if(row['seqNo']-x==1 or row['seqNo']==119 ):\n",
        "        \n",
        "         # Access the values of the current row\n",
        "        date = row['date']\n",
        "        time = row['time']\n",
        "        average_temp = row['average_temp']+average_temp\n",
        "        average_humidity = row['average_humidity']+average_humidity\n",
        "        x=row['seqNo']\n",
        "\n",
        "\n",
        "\n",
        "        \n",
        "\n",
        "\n",
        "        \n",
        "      else:\n",
        "        new_row = {\n",
        "        'date': date,\n",
        "        'time': time,\n",
        "        'average_temp': average_temp ,\n",
        "        'average_humidity': average_humidity ,\n",
        "        'light': light }\n",
        "        print(row['seqNo'])\n",
        "        average_temp = 0\n",
        "        average_humidity = 0\n",
        "        light = 0\n",
        "\n",
        " \n",
        "       \n",
        "        x=row['seqNo']\n",
        "        \n",
        "\n",
        "        \n",
        "\n",
        "      \n",
        "\n",
        "      \n",
        "      \n",
        "    "
      ]
    },
    {
      "cell_type": "code",
      "execution_count": null,
      "metadata": {
        "id": "n0LwWj_-Y3ZW"
      },
      "outputs": [],
      "source": []
    },
    {
      "cell_type": "markdown",
      "metadata": {
        "id": "0uRNR2qPplp2"
      },
      "source": [
        "from datetime import datetime\n",
        "\n",
        "start_date = \"2022-10-18\"\n",
        "start_datetime = datetime.strptime(start_date, \"%Y-%m-%d\")\n",
        "start_unix_time = int(start_datetime.timestamp())"
      ]
    },
    {
      "cell_type": "code",
      "execution_count": 11,
      "metadata": {
        "id": "6atiuwjfpmv4"
      },
      "outputs": [
        {
          "name": "stdout",
          "output_type": "stream",
          "text": [
            "1666031400\n"
          ]
        }
      ],
      "source": [
        "from datetime import datetime\n",
        "\n",
        "start_date = \"2022-10-18\"\n",
        "start_datetime = datetime.strptime(start_date, \"%Y-%m-%d\")\n",
        "start_unix_time = int(start_datetime.timestamp())\n",
        "print(start_unix_time)"
      ]
    },
    {
      "cell_type": "code",
      "execution_count": 12,
      "metadata": {
        "id": "-H_FRXAppwyz"
      },
      "outputs": [
        {
          "name": "stdout",
          "output_type": "stream",
          "text": [
            "1666117800\n"
          ]
        }
      ],
      "source": [
        "from datetime import datetime\n",
        "\n",
        "end_date = \"2022-10-19\"\n",
        "end_datetime = datetime.strptime(end_date, \"%Y-%m-%d\")\n",
        "end_unix_time = int(end_datetime.timestamp())\n",
        "print(end_unix_time)"
      ]
    }
  ],
  "metadata": {
    "colab": {
      "provenance": []
    },
    "interpreter": {
      "hash": "ed69033dcf95bf03c49614e5fe4e96f21774bed12a1dae221247a7de4d30fa71"
    },
    "kernelspec": {
      "display_name": "Python 3.10.11 ('base')",
      "language": "python",
      "name": "python3"
    },
    "language_info": {
      "codemirror_mode": {
        "name": "ipython",
        "version": 3
      },
      "file_extension": ".py",
      "mimetype": "text/x-python",
      "name": "python",
      "nbconvert_exporter": "python",
      "pygments_lexer": "ipython3",
      "version": "3.10.11"
    }
  },
  "nbformat": 4,
  "nbformat_minor": 0
}
