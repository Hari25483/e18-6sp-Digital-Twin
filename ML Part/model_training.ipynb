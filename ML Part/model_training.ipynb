{
 "cells": [
  {
   "cell_type": "code",
   "execution_count": 43,
   "metadata": {},
   "outputs": [
    {
     "name": "stdout",
     "output_type": "stream",
     "text": [
      "           Date   Time  Temperature  Feels Like  Pressure  Humidity  \\\n",
      "98   2020-10-22  02:00        25.06       25.89      1012        87   \n",
      "99   2020-10-22  03:00        25.66       26.24      1011        75   \n",
      "100  2020-10-22  04:00        25.83       26.77      1012        88   \n",
      "101  2020-10-22  05:00        27.52       31.31      1012        83   \n",
      "102  2020-10-22  06:00        27.44       30.99      1010        82   \n",
      "\n",
      "     Dew Point  Clouds  Wind Speed                  Description  \n",
      "98       22.74      69        2.51                broken clouds  \n",
      "99       20.90      40        1.50             scattered clouds  \n",
      "100      23.69      65        4.38                   light rain  \n",
      "101      24.37      48        4.55                   light rain  \n",
      "102      24.09      40        1.50  light intensity shower rain  \n",
      "          Date   Time  average_temp  average_humidity\n",
      "0   2020-10-22  00:00     23.444444         96.255556\n",
      "1   2020-10-22  01:00     23.288889         96.222222\n",
      "2   2020-10-22  02:00     22.911111         96.266667\n",
      "3   2020-10-22  03:00     22.588889         96.522222\n",
      "4   2020-10-22  04:00     22.850000         96.183333\n",
      "Empty DataFrame\n",
      "Columns: [Date, Time, Temperature, Feels Like, Pressure, Humidity, Dew Point, Clouds, Wind Speed, Description, average_temp, average_humidity]\n",
      "Index: []\n"
     ]
    }
   ],
   "source": [
    "import pandas as pd\n",
    "import seaborn as sns\n",
    "import matplotlib.pyplot as plt\n",
    "\n",
    "# Load the input features and output labels from CSV files\n",
    "df1 = pd.read_csv(\"weather_data.csv\")\n",
    "df2 = pd.read_csv(\"data.csv\")\n",
    "\n",
    "\n",
    "# Extract the relevant columns from the input data\n",
    "\n",
    "\n",
    "\n",
    "# Specify the range of rows to select from the input data\n",
    "start_row = 98\n",
    "end_row = 504\n",
    "\n",
    "\n",
    "# Select a range of rows from the input data\n",
    "df1 = df1.iloc[start_row:end_row]\n",
    "\n",
    "\n",
    "# Extract hour and minute from the 'Time' column in both DataFrames\n",
    "\n",
    "\n",
    "df1['Time'] = df1['Time'].str[:5]  # Extract first 5 characters (HH:MM)\n",
    "df2['Time'] = df2['Time'].str[:6]  # Extract first 5 characters (HH:MM)\n",
    "# Strip the spaces from the 'Time' column in df1\n",
    "df2['Time'] = df2['Time'].str.strip()\n",
    "\n",
    "# Merge the two DataFrames based on the 'Date' and 'Time' columns\n",
    "merged_df = pd.merge(df1, df2, on=['Date', 'Time'])\n",
    "# Merge the two DataFrames based on the 'Date' and 'Time' columns\n",
    "\n",
    "# Print the merged DataFrame\n",
    "print(df1.head(5))\n",
    "print(df2.head(5))\n",
    "\n",
    "print(merged_df)\n",
    "\n",
    "\n",
    "\n"
   ]
  }
 ],
 "metadata": {
  "kernelspec": {
   "display_name": "pytorch_env",
   "language": "python",
   "name": "python3"
  },
  "language_info": {
   "codemirror_mode": {
    "name": "ipython",
    "version": 3
   },
   "file_extension": ".py",
   "mimetype": "text/x-python",
   "name": "python",
   "nbconvert_exporter": "python",
   "pygments_lexer": "ipython3",
   "version": "3.7.16"
  },
  "orig_nbformat": 4
 },
 "nbformat": 4,
 "nbformat_minor": 2
}
