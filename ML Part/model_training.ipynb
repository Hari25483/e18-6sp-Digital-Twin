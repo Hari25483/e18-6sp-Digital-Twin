{
 "cells": [
  {
   "cell_type": "code",
   "execution_count": null,
   "metadata": {},
   "outputs": [],
   "source": [
    "import pandas as pd\n",
    "import seaborn as sns\n",
    "import matplotlib.pyplot as plt\n",
    "\n",
    "# Load the input features and output labels from CSV files\n",
    "df1 = pd.read_csv(\"weather_data.csv\")\n",
    "df2 = pd.read_csv(\"data.csv\")\n",
    "\n",
    "\n",
    "# Extract the relevant columns from the input data\n",
    "\n",
    "\n",
    "\n",
    "# Specify the range of rows to select from the input data\n",
    "start_row = 98\n",
    "end_row = 504\n",
    "\n",
    "\n",
    "# Select a range of rows from the input data\n",
    "df1 = df1.iloc[start_row:end_row]\n",
    "\n",
    "\n",
    "# Extract hour and minute from the 'Time' column in both DataFrames\n",
    "\n",
    "\n",
    "df1['Time'] = df1['Time'].str[:5]  # Extract first 5 characters (HH:MM)\n",
    "df2['Time'] = df2['Time'].str[:6]  # Extract first 5 characters (HH:MM)\n",
    "# Strip the spaces from the 'Time' column in df1\n",
    "df2['Time'] = df2['Time'].str.strip()\n",
    "\n",
    "# Merge the two DataFrames based on the 'Date' and 'Time' columns\n",
    "merged_df = pd.merge(df1, df2, on=['Date', 'Time'])\n",
    "# Merge the two DataFrames based on the 'Date' and 'Time' columns\n",
    "\n",
    "# Print the merged DataFrame\n",
    "print(df1.head(5))\n",
    "print(df2.head(5))\n",
    "\n",
    "print(merged_df)\n",
    "\n",
    "\n",
    "\n"
   ]
  }
 ],
 "metadata": {
  "interpreter": {
   "hash": "ed69033dcf95bf03c49614e5fe4e96f21774bed12a1dae221247a7de4d30fa71"
  },
  "kernelspec": {
   "display_name": "Python 3.10.11 ('base')",
   "language": "python",
   "name": "python3"
  },
  "language_info": {
   "codemirror_mode": {
    "name": "ipython",
    "version": 3
   },
   "file_extension": ".py",
   "mimetype": "text/x-python",
   "name": "python",
   "nbconvert_exporter": "python",
   "pygments_lexer": "ipython3",
   "version": "3.10.11"
  },
  "orig_nbformat": 4
 },
 "nbformat": 4,
 "nbformat_minor": 2
}
